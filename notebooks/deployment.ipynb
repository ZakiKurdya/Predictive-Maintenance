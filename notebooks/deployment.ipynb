{
 "cells": [
  {
   "cell_type": "markdown",
   "metadata": {
    "colab_type": "text",
    "id": "view-in-github"
   },
   "source": [
    "<a href=\"https://colab.research.google.com/github/ZakiKurdya/Predictive-Maintenance/blob/main/notebooks/deployment.ipynb\" target=\"_parent\"><img src=\"https://colab.research.google.com/assets/colab-badge.svg\" alt=\"Open In Colab\"/></a>"
   ]
  },
  {
   "cell_type": "markdown",
   "metadata": {
    "id": "nn04rMOEDKpm"
   },
   "source": [
    "# **Data Science CSCI 3320 Final Project** | Predictive Maintenance Dataset ⚙️\n",
    "\n",
    "---\n",
    "\n",
    "© Zaki Kurdya\n",
    "\n",
    "<a href=\"https://github.com/ZakiKurdya/Predictive-Maintenance\">\n",
    "<img src=\"https://cdn-icons-png.flaticon.com/512/25/25231.png\" alt=\"github repository\" width=35></a>\n",
    "\n",
    "<a href=\"https://colab.research.google.com/drive/1DDEsCd9cCICfcxJQJMmKq9yyMYXAl3et?usp=sharing\">\n",
    "<img src=\"https://upload.wikimedia.org/wikipedia/commons/thumb/d/d0/Google_Colaboratory_SVG_Logo.svg/1200px-Google_Colaboratory_SVG_Logo.svg.png\" width=65>\n",
    "</a>"
   ]
  },
  {
   "cell_type": "markdown",
   "metadata": {
    "id": "HR_HeXzP2PBU"
   },
   "source": [
    "# **Deployment** 📤"
   ]
  },
  {
   "cell_type": "markdown",
   "metadata": {
    "id": "-G5HwGyTCotj"
   },
   "source": [
    "Demo the predictive machine learning model using [Gradio](https://gradio.app/)"
   ]
  },
  {
   "cell_type": "code",
   "execution_count": 1,
   "metadata": {
    "colab": {
     "base_uri": "https://localhost:8080/"
    },
    "id": "yKB44oks2nI7",
    "outputId": "53b81996-cc40-456b-f376-bd8077a25e8a"
   },
   "outputs": [],
   "source": [
    "!pip install gradio --quiet"
   ]
  },
  {
   "cell_type": "markdown",
   "metadata": {
    "id": "kb26k5sPLSCb"
   },
   "source": [
    "Load the saved model and the dataframe"
   ]
  },
  {
   "cell_type": "code",
   "execution_count": null,
   "metadata": {
    "colab": {
     "base_uri": "https://localhost:8080/"
    },
    "id": "Teqr5lluPEqk",
    "outputId": "cd0d489b-e826-4d3c-e91d-96de7718cc85"
   },
   "outputs": [],
   "source": [
    "!wget https://github.com/ZakiKurdya/Predictive-Maintenance/raw/main/saved-models/decision_tree_model.pkl"
   ]
  },
  {
   "cell_type": "code",
   "execution_count": 12,
   "metadata": {
    "id": "_XZ2SeYVG51g"
   },
   "outputs": [],
   "source": [
    "import pickle\n",
    "\n",
    "loaded_model = pickle.load(open('/content/decision_tree_model.pkl', 'rb'))"
   ]
  },
  {
   "cell_type": "code",
   "execution_count": 13,
   "metadata": {
    "id": "UeLJBWNbK1qG"
   },
   "outputs": [],
   "source": [
    "import pandas as pd\n",
    "\n",
    "dataset_url = 'https://raw.githubusercontent.com/motazsaad/Data-Science-CSCI-3320/main/project%20datasets/Predictive%20Maintenance/ai4i2020.csv'\n",
    "dataset = pd.read_csv(dataset_url)\n",
    "\n",
    "# rename dataset columns\n",
    "dataset.rename(columns = {'Air temperature [K]':'Air temperature',\n",
    "                     'Process temperature [K]':'Process temperature',\n",
    "                     'Rotational speed [rpm]':'Rotational speed',\n",
    "                     'Torque [Nm]':'Torque',\n",
    "                     'Tool wear [min]':'Tool wear'},\n",
    "          inplace = True)\n",
    "dataset['Power'] = dataset[['Rotational speed', 'Torque']].product(axis=1)"
   ]
  },
  {
   "cell_type": "code",
   "execution_count": 14,
   "metadata": {
    "id": "4sII58Q3Lngm"
   },
   "outputs": [],
   "source": [
    "import numpy as np\n",
    "\n",
    "# normalize the feature using z-score normalization\n",
    "def z_score(feature, value):\n",
    "    mean = np.mean(dataset[feature])\n",
    "    std = np.std(dataset[feature])\n",
    "    return (float(value) - mean) / std"
   ]
  },
  {
   "cell_type": "code",
   "execution_count": null,
   "metadata": {
    "colab": {
     "base_uri": "https://localhost:8080/",
     "height": 670
    },
    "id": "KPrlXx4_2qka",
    "outputId": "6e831871-9a88-407e-b224-5ecd637aa0a9"
   },
   "outputs": [],
   "source": [
    "import gradio as gr\n",
    "from sklearn.preprocessing import StandardScaler\n",
    "\n",
    "def predict(air_temperature, process_temperature, rotational_speed, torque, tool_wear, type):\n",
    "    # normalize the inputs\n",
    "    air_temperature = z_score('Air temperature', air_temperature)\n",
    "    process_temperature = z_score('Process temperature', process_temperature)\n",
    "    rotational_speed = z_score('Rotational speed', rotational_speed)\n",
    "    torque = z_score('Torque', torque)\n",
    "    tool_wear = z_score('Tool wear', tool_wear)\n",
    "    power = z_score('Power', torque * rotational_speed)\n",
    "\n",
    "    mapping = {'L': 0, 'M': 1, 'H': 2}\n",
    "    temp = [{'Type':mapping[type], 'Air temperature':air_temperature,\n",
    "             'Process temperature':process_temperature, 'Rotational speed':rotational_speed,\n",
    "             'Torque':torque, 'Tool wear':tool_wear, 'Power':power}]\n",
    "\n",
    "    input_data = pd.DataFrame(temp) \n",
    "    prediction = loaded_model.predict_proba(input_data)\n",
    "\n",
    "    classes = [\"No failure\", \"Machine failure\"]\n",
    "    prediction_dict = dict\n",
    "    for record in prediction:\n",
    "        prediction_dict = {classes[i] : record[i] for i in range(2)}\n",
    "    \n",
    "    maintenance = \"No action required\"\n",
    "    if max(prediction_dict, key=prediction_dict.get) != \"No failure\":\n",
    "        maintenance = \"Need maintenance\"\n",
    "\n",
    "    return prediction_dict, maintenance\n",
    "\n",
    "# create the user interface (inputs and outputs)\n",
    "demo = gr.Interface(\n",
    "    fn=predict,\n",
    "    inputs=[gr.Slider(100, 350, label=\"Air temperature\"),\n",
    "            gr.Slider(100, 350, label=\"Process temperature\"),\n",
    "            gr.Number(label=\"Rotational speed\"),\n",
    "            gr.Number(label=\"Torque\"),\n",
    "            gr.Number(label=\"Tool wear\"),\n",
    "            gr.Radio([\"L\", \"M\", \"H\"], label=\"Type\")],\n",
    "    outputs=[gr.Label(num_top_classes=2, label=\"Result\"), gr.components.Textbox(label=\"Action\")]\n",
    ")\n",
    "demo.launch()"
   ]
  }
 ],
 "metadata": {
  "colab": {
   "authorship_tag": "ABX9TyNbOlUpNQ/7SVXRGrQgPWuj",
   "collapsed_sections": [
    "EeVD-rEAgmW1",
    "OoF88QuPqPCO",
    "Dyyv7njuqgv8",
    "rm0pn_q2DrLb",
    "aQ5G8wd0NTBK",
    "JGZ8sMrVZ614",
    "4AoVjBkSasvf",
    "PriYkty1aUqw",
    "G5W-YYtHo8lc",
    "KNu4_iyFPfue",
    "SCXyw7swPyzF",
    "vD0fY4tRzTGd",
    "W6Nljxy6HMmc",
    "FFiPHBsDwbPj",
    "xdEevcVJocxR",
    "v1hdpPU3c_P7",
    "t_DmCDsLogK7",
    "c-AFi1wgEBH6",
    "aEXgx0gB1xHi",
    "HR_HeXzP2PBU"
   ],
   "include_colab_link": true,
   "provenance": []
  },
  "gpuClass": "standard",
  "kernelspec": {
   "display_name": "Python 3 (ipykernel)",
   "language": "python",
   "name": "python3"
  },
  "language_info": {
   "codemirror_mode": {
    "name": "ipython",
    "version": 3
   },
   "file_extension": ".py",
   "mimetype": "text/x-python",
   "name": "python",
   "nbconvert_exporter": "python",
   "pygments_lexer": "ipython3",
   "version": "3.9.13"
  }
 },
 "nbformat": 4,
 "nbformat_minor": 1
}
