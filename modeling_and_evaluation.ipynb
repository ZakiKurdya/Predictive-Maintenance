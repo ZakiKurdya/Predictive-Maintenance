{
  "cells": [
    {
      "cell_type": "markdown",
      "metadata": {
        "id": "view-in-github",
        "colab_type": "text"
      },
      "source": [
        "<a href=\"https://colab.research.google.com/github/ZakiKurdya/Predictive-Maintenance/blob/main/modeling_and_evaluation.ipynb\" target=\"_parent\"><img src=\"https://colab.research.google.com/assets/colab-badge.svg\" alt=\"Open In Colab\"/></a>"
      ]
    },
    {
      "cell_type": "markdown",
      "metadata": {
        "id": "nn04rMOEDKpm"
      },
      "source": [
        "# **Data Science CSCI 3320 Final Project** | Predictive Maintenance Dataset ⚙️\n",
        "\n",
        "---\n",
        "\n",
        "© Zaki Kurdya\n",
        "\n",
        "<a href=\"https://github.com/ZakiKurdya/Predictive-Maintenance\">\n",
        "<img src=\"https://cdn-icons-png.flaticon.com/512/25/25231.png\" alt=\"github repository\" width=35></a>\n",
        "\n",
        "<a href=\"https://colab.research.google.com/drive/1DDEsCd9cCICfcxJQJMmKq9yyMYXAl3et?usp=sharing\">\n",
        "<img src=\"https://upload.wikimedia.org/wikipedia/commons/thumb/d/d0/Google_Colaboratory_SVG_Logo.svg/1200px-Google_Colaboratory_SVG_Logo.svg.png\" width=65>\n",
        "</a>"
      ]
    },
    {
      "cell_type": "markdown",
      "metadata": {
        "id": "vD0fY4tRzTGd"
      },
      "source": [
        "# **Modeling** 🧪"
      ]
    },
    {
      "cell_type": "markdown",
      "source": [
        "##**Load the cleaned dataset** 🔃"
      ],
      "metadata": {
        "id": "ZObiThk5HwKN"
      }
    },
    {
      "cell_type": "code",
      "source": [
        "import pandas as pd\n",
        "import numpy as np\n",
        "import matplotlib.pyplot as plt\n",
        "import seaborn as sns\n",
        "import pickle\n",
        "\n",
        "df = pd.read_csv('https://raw.githubusercontent.com/ZakiKurdya/Predictive-Maintenance/main/dataset/cleaned_dataset.csv')"
      ],
      "metadata": {
        "id": "g8hFR1dVH42p"
      },
      "execution_count": 33,
      "outputs": []
    },
    {
      "cell_type": "code",
      "source": [
        "df.head(3)"
      ],
      "metadata": {
        "colab": {
          "base_uri": "https://localhost:8080/",
          "height": 143
        },
        "id": "UIBL0TYkIJPB",
        "outputId": "aba0de41-7de8-4280-e026-3cf98d6aaf5e"
      },
      "execution_count": 3,
      "outputs": [
        {
          "output_type": "execute_result",
          "data": {
            "text/plain": [
              "   Type  Air temperature  Process temperature  Rotational speed    Torque  \\\n",
              "0   1.0        -0.947770            -0.944225          0.272686  0.235748   \n",
              "1   0.0        -0.897715            -0.876822         -0.838095  0.631532   \n",
              "2   0.0        -0.947770            -1.011628         -0.139002  0.982082   \n",
              "\n",
              "   Tool wear  Machine failure     Power  \n",
              "0  -1.703463              0.0  0.626122  \n",
              "1  -1.656112              0.0  0.494763  \n",
              "2  -1.624544              0.0  1.465392  "
            ],
            "text/html": [
              "\n",
              "  <div id=\"df-0542acd2-ccaf-40ad-92dd-122fac6e39f8\">\n",
              "    <div class=\"colab-df-container\">\n",
              "      <div>\n",
              "<style scoped>\n",
              "    .dataframe tbody tr th:only-of-type {\n",
              "        vertical-align: middle;\n",
              "    }\n",
              "\n",
              "    .dataframe tbody tr th {\n",
              "        vertical-align: top;\n",
              "    }\n",
              "\n",
              "    .dataframe thead th {\n",
              "        text-align: right;\n",
              "    }\n",
              "</style>\n",
              "<table border=\"1\" class=\"dataframe\">\n",
              "  <thead>\n",
              "    <tr style=\"text-align: right;\">\n",
              "      <th></th>\n",
              "      <th>Type</th>\n",
              "      <th>Air temperature</th>\n",
              "      <th>Process temperature</th>\n",
              "      <th>Rotational speed</th>\n",
              "      <th>Torque</th>\n",
              "      <th>Tool wear</th>\n",
              "      <th>Machine failure</th>\n",
              "      <th>Power</th>\n",
              "    </tr>\n",
              "  </thead>\n",
              "  <tbody>\n",
              "    <tr>\n",
              "      <th>0</th>\n",
              "      <td>1.0</td>\n",
              "      <td>-0.947770</td>\n",
              "      <td>-0.944225</td>\n",
              "      <td>0.272686</td>\n",
              "      <td>0.235748</td>\n",
              "      <td>-1.703463</td>\n",
              "      <td>0.0</td>\n",
              "      <td>0.626122</td>\n",
              "    </tr>\n",
              "    <tr>\n",
              "      <th>1</th>\n",
              "      <td>0.0</td>\n",
              "      <td>-0.897715</td>\n",
              "      <td>-0.876822</td>\n",
              "      <td>-0.838095</td>\n",
              "      <td>0.631532</td>\n",
              "      <td>-1.656112</td>\n",
              "      <td>0.0</td>\n",
              "      <td>0.494763</td>\n",
              "    </tr>\n",
              "    <tr>\n",
              "      <th>2</th>\n",
              "      <td>0.0</td>\n",
              "      <td>-0.947770</td>\n",
              "      <td>-1.011628</td>\n",
              "      <td>-0.139002</td>\n",
              "      <td>0.982082</td>\n",
              "      <td>-1.624544</td>\n",
              "      <td>0.0</td>\n",
              "      <td>1.465392</td>\n",
              "    </tr>\n",
              "  </tbody>\n",
              "</table>\n",
              "</div>\n",
              "      <button class=\"colab-df-convert\" onclick=\"convertToInteractive('df-0542acd2-ccaf-40ad-92dd-122fac6e39f8')\"\n",
              "              title=\"Convert this dataframe to an interactive table.\"\n",
              "              style=\"display:none;\">\n",
              "        \n",
              "  <svg xmlns=\"http://www.w3.org/2000/svg\" height=\"24px\"viewBox=\"0 0 24 24\"\n",
              "       width=\"24px\">\n",
              "    <path d=\"M0 0h24v24H0V0z\" fill=\"none\"/>\n",
              "    <path d=\"M18.56 5.44l.94 2.06.94-2.06 2.06-.94-2.06-.94-.94-2.06-.94 2.06-2.06.94zm-11 1L8.5 8.5l.94-2.06 2.06-.94-2.06-.94L8.5 2.5l-.94 2.06-2.06.94zm10 10l.94 2.06.94-2.06 2.06-.94-2.06-.94-.94-2.06-.94 2.06-2.06.94z\"/><path d=\"M17.41 7.96l-1.37-1.37c-.4-.4-.92-.59-1.43-.59-.52 0-1.04.2-1.43.59L10.3 9.45l-7.72 7.72c-.78.78-.78 2.05 0 2.83L4 21.41c.39.39.9.59 1.41.59.51 0 1.02-.2 1.41-.59l7.78-7.78 2.81-2.81c.8-.78.8-2.07 0-2.86zM5.41 20L4 18.59l7.72-7.72 1.47 1.35L5.41 20z\"/>\n",
              "  </svg>\n",
              "      </button>\n",
              "      \n",
              "  <style>\n",
              "    .colab-df-container {\n",
              "      display:flex;\n",
              "      flex-wrap:wrap;\n",
              "      gap: 12px;\n",
              "    }\n",
              "\n",
              "    .colab-df-convert {\n",
              "      background-color: #E8F0FE;\n",
              "      border: none;\n",
              "      border-radius: 50%;\n",
              "      cursor: pointer;\n",
              "      display: none;\n",
              "      fill: #1967D2;\n",
              "      height: 32px;\n",
              "      padding: 0 0 0 0;\n",
              "      width: 32px;\n",
              "    }\n",
              "\n",
              "    .colab-df-convert:hover {\n",
              "      background-color: #E2EBFA;\n",
              "      box-shadow: 0px 1px 2px rgba(60, 64, 67, 0.3), 0px 1px 3px 1px rgba(60, 64, 67, 0.15);\n",
              "      fill: #174EA6;\n",
              "    }\n",
              "\n",
              "    [theme=dark] .colab-df-convert {\n",
              "      background-color: #3B4455;\n",
              "      fill: #D2E3FC;\n",
              "    }\n",
              "\n",
              "    [theme=dark] .colab-df-convert:hover {\n",
              "      background-color: #434B5C;\n",
              "      box-shadow: 0px 1px 3px 1px rgba(0, 0, 0, 0.15);\n",
              "      filter: drop-shadow(0px 1px 2px rgba(0, 0, 0, 0.3));\n",
              "      fill: #FFFFFF;\n",
              "    }\n",
              "  </style>\n",
              "\n",
              "      <script>\n",
              "        const buttonEl =\n",
              "          document.querySelector('#df-0542acd2-ccaf-40ad-92dd-122fac6e39f8 button.colab-df-convert');\n",
              "        buttonEl.style.display =\n",
              "          google.colab.kernel.accessAllowed ? 'block' : 'none';\n",
              "\n",
              "        async function convertToInteractive(key) {\n",
              "          const element = document.querySelector('#df-0542acd2-ccaf-40ad-92dd-122fac6e39f8');\n",
              "          const dataTable =\n",
              "            await google.colab.kernel.invokeFunction('convertToInteractive',\n",
              "                                                     [key], {});\n",
              "          if (!dataTable) return;\n",
              "\n",
              "          const docLinkHtml = 'Like what you see? Visit the ' +\n",
              "            '<a target=\"_blank\" href=https://colab.research.google.com/notebooks/data_table.ipynb>data table notebook</a>'\n",
              "            + ' to learn more about interactive tables.';\n",
              "          element.innerHTML = '';\n",
              "          dataTable['output_type'] = 'display_data';\n",
              "          await google.colab.output.renderOutput(dataTable, element);\n",
              "          const docLink = document.createElement('div');\n",
              "          docLink.innerHTML = docLinkHtml;\n",
              "          element.appendChild(docLink);\n",
              "        }\n",
              "      </script>\n",
              "    </div>\n",
              "  </div>\n",
              "  "
            ]
          },
          "metadata": {},
          "execution_count": 3
        }
      ]
    },
    {
      "cell_type": "code",
      "execution_count": 4,
      "metadata": {
        "id": "SWUvtkNFAiEH"
      },
      "outputs": [],
      "source": [
        "from sklearn.metrics import f1_score, precision_score, recall_score, accuracy_score, classification_report\n",
        "import time\n",
        "\n",
        "model_performance = pd.DataFrame(columns=['Accuracy', 'Precision',\n",
        "                                          'Recall', 'F1-Score', 'Training time',\n",
        "                                          'Prediction time'])\n",
        "\n",
        "def log_scores(model_name, y_test, y_predictions):\n",
        "  accuracy = accuracy_score(y_test, y_predictions)\n",
        "  precision = precision_score(y_test, y_predictions, average='weighted')\n",
        "  recall = recall_score(y_test, y_predictions, average='weighted')\n",
        "  precision = precision_score(y_test, y_predictions, average='weighted')\n",
        "  f1 = f1_score(y_test, y_predictions, average='weighted')\n",
        "\n",
        "  # save the scores in model_performance dataframe\n",
        "  model_performance.loc[model_name] = [accuracy, precision, recall, f1,\n",
        "                                       end_train-start, end_predict-end_train]"
      ]
    },
    {
      "cell_type": "markdown",
      "metadata": {
        "id": "W6Nljxy6HMmc"
      },
      "source": [
        "## **Data splitting and sampling** 🧮"
      ]
    },
    {
      "cell_type": "code",
      "execution_count": 17,
      "metadata": {
        "colab": {
          "base_uri": "https://localhost:8080/"
        },
        "id": "eIje_AJpc15c",
        "outputId": "63dcb14b-7b93-40c8-e4a4-6302a6be4b97"
      },
      "outputs": [
        {
          "output_type": "execute_result",
          "data": {
            "text/plain": [
              "Index(['Type', 'Air temperature', 'Process temperature', 'Rotational speed',\n",
              "       'Torque', 'Tool wear', 'Machine failure', 'Power'],\n",
              "      dtype='object')"
            ]
          },
          "metadata": {},
          "execution_count": 17
        }
      ],
      "source": [
        "df.columns"
      ]
    },
    {
      "cell_type": "markdown",
      "metadata": {
        "id": "M-bB_yXvI77_"
      },
      "source": [
        "Split the dataset (70% train : 30% test)"
      ]
    },
    {
      "cell_type": "code",
      "execution_count": 18,
      "metadata": {
        "id": "Sflst93hIERl"
      },
      "outputs": [],
      "source": [
        "from sklearn.model_selection import train_test_split\n",
        "\n",
        "X = df.drop([\"Machine failure\"], axis=1)\n",
        "y = df[\"Machine failure\"]\n",
        "\n",
        "# Split the data into training and test set\n",
        "X_train, X_test, y_train, y_test = train_test_split(X, y,\n",
        "                                                    test_size = 0.3, \n",
        "                                                    random_state = 0,\n",
        "                                                    stratify = y)"
      ]
    },
    {
      "cell_type": "markdown",
      "metadata": {
        "id": "8amYq3J6F1K9"
      },
      "source": [
        "Because the data is imbalanced, we oversample the training set"
      ]
    },
    {
      "cell_type": "code",
      "execution_count": 19,
      "metadata": {
        "id": "vjRlQGh7D3M4"
      },
      "outputs": [],
      "source": [
        "from imblearn.over_sampling import RandomOverSampler\n",
        "\n",
        "oversample = RandomOverSampler(random_state=0)\n",
        "\n",
        "X_train, y_train = oversample.fit_resample(X_train, y_train)"
      ]
    },
    {
      "cell_type": "markdown",
      "metadata": {
        "id": "HhH3vPPKVvEc"
      },
      "source": [
        "Training set after oversampling"
      ]
    },
    {
      "cell_type": "code",
      "execution_count": 20,
      "metadata": {
        "colab": {
          "base_uri": "https://localhost:8080/",
          "height": 0
        },
        "id": "4y8klR3zVpxi",
        "outputId": "84d029ab-576a-4521-b5ae-e90fbc8251a6"
      },
      "outputs": [
        {
          "output_type": "execute_result",
          "data": {
            "text/plain": [
              "(array([6406.,    0.,    0.,    0.,    0.,    0.,    0.,    0.,    0.,\n",
              "        6406.]),\n",
              " array([0. , 0.1, 0.2, 0.3, 0.4, 0.5, 0.6, 0.7, 0.8, 0.9, 1. ]),\n",
              " <a list of 10 Patch objects>)"
            ]
          },
          "metadata": {},
          "execution_count": 20
        },
        {
          "output_type": "display_data",
          "data": {
            "text/plain": [
              "<Figure size 432x288 with 1 Axes>"
            ],
            "image/png": "[encoded data removed]"
          },
          "metadata": {
            "needs_background": "light"
          }
        }
      ],
      "source": [
        "plt.hist(y_train)"
      ]
    },
    {
      "cell_type": "markdown",
      "metadata": {
        "id": "FFiPHBsDwbPj"
      },
      "source": [
        "## **Decision Tree Model**"
      ]
    },
    {
      "cell_type": "markdown",
      "metadata": {
        "id": "-0yzFhvsCMed"
      },
      "source": [
        "Build the model"
      ]
    },
    {
      "cell_type": "code",
      "execution_count": 27,
      "metadata": {
        "id": "aiEe0Iy0xQp0"
      },
      "outputs": [],
      "source": [
        "from sklearn.tree import DecisionTreeClassifier\n",
        "\n",
        "start = time.time()\n",
        "model = DecisionTreeClassifier(max_depth = 8).fit(X_train, y_train)\n",
        "end_train = time.time()\n",
        "y_predictions = model.predict(X_test)\n",
        "end_predict = time.time()\n",
        "\n",
        "# evaluate the model\n",
        "log_scores(\"Decision Tree\", y_test, y_predictions)"
      ]
    },
    {
      "cell_type": "markdown",
      "metadata": {
        "id": "dPN_5vnbWRd3"
      },
      "source": [
        "Model evaluation for each Machine failure class:\n",
        "0. No failure\n",
        "1. Machine failure"
      ]
    },
    {
      "cell_type": "code",
      "execution_count": 28,
      "metadata": {
        "colab": {
          "base_uri": "https://localhost:8080/"
        },
        "id": "uw1RWt9kDc68",
        "outputId": "288c27a8-b69a-42d9-80ac-a68a48df954b"
      },
      "outputs": [
        {
          "output_type": "stream",
          "name": "stdout",
          "text": [
            "Decision Tree\n",
            "              precision    recall  f1-score   support\n",
            "\n",
            "         0.0       0.99      0.95      0.97      2746\n",
            "         1.0       0.24      0.61      0.35        74\n",
            "\n",
            "    accuracy                           0.94      2820\n",
            "   macro avg       0.62      0.78      0.66      2820\n",
            "weighted avg       0.97      0.94      0.95      2820\n",
            "\n"
          ]
        }
      ],
      "source": [
        "print(\"Decision Tree\\n\" + classification_report(y_test, y_predictions))"
      ]
    },
    {
      "cell_type": "code",
      "execution_count": 29,
      "metadata": {
        "colab": {
          "base_uri": "https://localhost:8080/",
          "height": 265
        },
        "id": "lzWHmvYiDZLm",
        "outputId": "366ced3c-775d-4b95-ea32-a1722affbdf7"
      },
      "outputs": [
        {
          "output_type": "display_data",
          "data": {
            "text/plain": [
              "<Figure size 432x288 with 1 Axes>"
            ],
            "image/png": "[encoded data removed]"
          },
          "metadata": {
            "needs_background": "light"
          }
        }
      ],
      "source": [
        "from sklearn.model_selection import learning_curve\n",
        "\n",
        "train_sizes, train_scores, test_scores = learning_curve(model, X, y, cv=5)\n",
        "\n",
        "# plot the learning curve\n",
        "plt.plot(train_sizes, train_scores.mean(axis=1), label='Training score')\n",
        "plt.plot(train_sizes, test_scores .mean(axis=1), label='Testing score')\n",
        "plt.legend(loc='best')\n",
        "plt.show()"
      ]
    },
    {
      "cell_type": "markdown",
      "metadata": {
        "id": "UvI-NP2LZmc-"
      },
      "source": [
        "Confusion matrix of Decision Tree model"
      ]
    },
    {
      "cell_type": "code",
      "execution_count": 30,
      "metadata": {
        "colab": {
          "base_uri": "https://localhost:8080/",
          "height": 334
        },
        "id": "-PXUpZd4YvsD",
        "outputId": "fb5f0b37-54b2-4af9-cb31-fd119a61fb3c"
      },
      "outputs": [
        {
          "output_type": "stream",
          "name": "stderr",
          "text": [
            "/usr/local/lib/python3.8/dist-packages/sklearn/utils/deprecation.py:87: FutureWarning: Function plot_confusion_matrix is deprecated; Function `plot_confusion_matrix` is deprecated in 1.0 and will be removed in 1.2. Use one of the class methods: ConfusionMatrixDisplay.from_predictions or ConfusionMatrixDisplay.from_estimator.\n",
            "  warnings.warn(msg, category=FutureWarning)\n"
          ]
        },
        {
          "output_type": "display_data",
          "data": {
            "text/plain": [
              "<Figure size 432x288 with 2 Axes>"
            ],
            "image/png": "[encoded data removed]"
          },
          "metadata": {
            "needs_background": "light"
          }
        }
      ],
      "source": [
        "from sklearn.metrics import plot_confusion_matrix\n",
        "\n",
        "plot_confusion_matrix(model, X_test, y_test, cmap=plt.cm.YlGnBu)  \n",
        "plt.show()"
      ]
    },
    {
      "cell_type": "code",
      "execution_count": 31,
      "metadata": {
        "colab": {
          "base_uri": "https://localhost:8080/",
          "height": 1000
        },
        "id": "1_rm0yMspr32",
        "outputId": "9ba4b9e0-f885-4e9c-eb96-281708eff8a6"
      },
      "outputs": [
        {
          "output_type": "execute_result",
          "data": {
            "text/plain": [
              "<graphviz.files.Source at 0x7f2cb2ab4e50>"
            ],
            "image/svg+xml": "<?xml version=\"1.0\" encoding=\"UTF-8\" standalone=\"no\"?>\n<!DOCTYPE svg PUBLIC \"-//W3C//DTD SVG 1.1//EN\"\n \"http://www.w3.org/Graphics/SVG/1.1/DTD/svg11.dtd\">\n<!-- Generated by graphviz version 2.40.1 (20161225.0304)\n -->\n<!-- Title: Tree Pages: 1 -->\n<svg width=\"4735pt\" height=\"1028pt\"\n viewBox=\"0.00 0.00 4735.00 1028.00\" xmlns=\"http://www.w3.org/2000/svg\" xmlns:xlink=\"http://www.w3.org/1999/xlink\">\n<g id=\"graph0\" class=\"graph\" transform=\"scale(1 1) rotate(0) translate(4 1024)\">\n<title>Tree</title>\n<polygon fill=\"#ffffff\" stroke=\"transparent\" points=\"-4,4 -4,-1024 4731,-1024 4731,4 -4,4\"/>\n<!-- 0 -->\n<g id=\"node1\" class=\"node\">\n<title>0</title>\n<polygon fill=\"#ffffff\" stroke=\"#000000\" points=\"2825.5,-1020 2634.5,-1020 2634.5,-937 2825.5,-937 2825.5,-1020\"/>\n<text text-anchor=\"middle\" x=\"2730\" y=\"-1004.8\" font-family=\"Helvetica,sans-Serif\" font-size=\"14.00\" fill=\"#000000\">Rotational speed &lt;= &#45;1.005</text>\n<text text-anchor=\"middle\" x=\"2730\" y=\"-989.8\" font-family=\"Helvetica,sans-Serif\" font-size=\"14.00\" fill=\"#000000\">gini = 0.5</text>\n<text text-anchor=\"middle\" x=\"2730\" y=\"-974.8\" font-family=\"Helvetica,sans-Serif\" font-size=\"14.00\" fill=\"#000000\">samples = 12812</text>\n<text text-anchor=\"middle\" x=\"2730\" y=\"-959.8\" font-family=\"Helvetica,sans-Serif\" font-size=\"14.00\" fill=\"#000000\">value = [6406, 6406]</text>\n<text text-anchor=\"middle\" x=\"2730\" y=\"-944.8\" font-family=\"Helvetica,sans-Serif\" font-size=\"14.00\" fill=\"#000000\">class = No failure</text>\n</g>\n<!-- 1 -->\n<g id=\"node2\" class=\"node\">\n<title>1</title>\n<polygon fill=\"#60b0ea\" stroke=\"#000000\" points=\"2005,-901 1829,-901 1829,-818 2005,-818 2005,-901\"/>\n<text text-anchor=\"middle\" x=\"1917\" y=\"-885.8\" font-family=\"Helvetica,sans-Serif\" font-size=\"14.00\" fill=\"#000000\">Air temperature &lt;= 0.779</text>\n<text text-anchor=\"middle\" x=\"1917\" y=\"-870.8\" font-family=\"Helvetica,sans-Serif\" font-size=\"14.00\" fill=\"#000000\">gini = 0.274</text>\n<text text-anchor=\"middle\" x=\"1917\" y=\"-855.8\" font-family=\"Helvetica,sans-Serif\" font-size=\"14.00\" fill=\"#000000\">samples = 5317</text>\n<text text-anchor=\"middle\" x=\"1917\" y=\"-840.8\" font-family=\"Helvetica,sans-Serif\" font-size=\"14.00\" fill=\"#000000\">value = [872, 4445]</text>\n<text text-anchor=\"middle\" x=\"1917\" y=\"-825.8\" font-family=\"Helvetica,sans-Serif\" font-size=\"14.00\" fill=\"#000000\">class = TWF</text>\n</g>\n<!-- 0&#45;&gt;1 -->\n<g id=\"edge1\" class=\"edge\">\n<title>0&#45;&gt;1</title>\n<path fill=\"none\" stroke=\"#000000\" d=\"M2634.3479,-964.4993C2478.7846,-941.7292 2172.5673,-896.9078 2015.3081,-873.8895\"/>\n<polygon fill=\"#000000\" stroke=\"#000000\" points=\"2015.5699,-870.3906 2005.1684,-872.4053 2014.556,-877.3168 2015.5699,-870.3906\"/>\n<text text-anchor=\"middle\" x=\"2020.0994\" y=\"-888.7568\" font-family=\"Helvetica,sans-Serif\" font-size=\"14.00\" fill=\"#000000\">True</text>\n</g>\n<!-- 58 -->\n<g id=\"node59\" class=\"node\">\n<title>58</title>\n<polygon fill=\"#eeae7f\" stroke=\"#000000\" points=\"3282.5,-901 3133.5,-901 3133.5,-818 3282.5,-818 3282.5,-901\"/>\n<text text-anchor=\"middle\" x=\"3208\" y=\"-885.8\" font-family=\"Helvetica,sans-Serif\" font-size=\"14.00\" fill=\"#000000\">Tool wear &lt;= 1.445</text>\n<text text-anchor=\"middle\" x=\"3208\" y=\"-870.8\" font-family=\"Helvetica,sans-Serif\" font-size=\"14.00\" fill=\"#000000\">gini = 0.386</text>\n<text text-anchor=\"middle\" x=\"3208\" y=\"-855.8\" font-family=\"Helvetica,sans-Serif\" font-size=\"14.00\" fill=\"#000000\">samples = 7495</text>\n<text text-anchor=\"middle\" x=\"3208\" y=\"-840.8\" font-family=\"Helvetica,sans-Serif\" font-size=\"14.00\" fill=\"#000000\">value = [5534, 1961]</text>\n<text text-anchor=\"middle\" x=\"3208\" y=\"-825.8\" font-family=\"Helvetica,sans-Serif\" font-size=\"14.00\" fill=\"#000000\">class = No failure</text>\n</g>\n<!-- 0&#45;&gt;58 -->\n<g id=\"edge58\" class=\"edge\">\n<title>0&#45;&gt;58</title>\n<path fill=\"none\" stroke=\"#000000\" d=\"M2825.5816,-954.7046C2912.6314,-933.0332 3039.9617,-901.3338 3123.3985,-880.5619\"/>\n<polygon fill=\"#000000\" stroke=\"#000000\" points=\"3124.4922,-883.8965 3133.3504,-878.0843 3122.8011,-877.1038 3124.4922,-883.8965\"/>\n<text text-anchor=\"middle\" x=\"3120.4669\" y=\"-895.8089\" font-family=\"Helvetica,sans-Serif\" font-size=\"14.00\" fill=\"#000000\">False</text>\n</g>\n<!-- 2 -->\n<g id=\"node3\" class=\"node\">\n<title>2</title>\n<polygon fill=\"#9fd0f2\" stroke=\"#000000\" points=\"1113,-782 973,-782 973,-699 1113,-699 1113,-782\"/>\n<text text-anchor=\"middle\" x=\"1043\" y=\"-766.8\" font-family=\"Helvetica,sans-Serif\" font-size=\"14.00\" fill=\"#000000\">Tool wear &lt;= 1.082</text>\n<text text-anchor=\"middle\" x=\"1043\" y=\"-751.8\" font-family=\"Helvetica,sans-Serif\" font-size=\"14.00\" fill=\"#000000\">gini = 0.449</text>\n<text text-anchor=\"middle\" x=\"1043\" y=\"-736.8\" font-family=\"Helvetica,sans-Serif\" font-size=\"14.00\" fill=\"#000000\">samples = 2076</text>\n<text text-anchor=\"middle\" x=\"1043\" y=\"-721.8\" font-family=\"Helvetica,sans-Serif\" font-size=\"14.00\" fill=\"#000000\">value = [707, 1369]</text>\n<text text-anchor=\"middle\" x=\"1043\" y=\"-706.8\" font-family=\"Helvetica,sans-Serif\" font-size=\"14.00\" fill=\"#000000\">class = TWF</text>\n</g>\n<!-- 1&#45;&gt;2 -->\n<g id=\"edge2\" class=\"edge\">\n<title>1&#45;&gt;2</title>\n<path fill=\"none\" stroke=\"#000000\" d=\"M1828.7915,-847.4899C1658.5507,-824.3107 1287.0645,-773.7308 1123.288,-751.4317\"/>\n<polygon fill=\"#000000\" stroke=\"#000000\" points=\"1123.6586,-747.9499 1113.2778,-750.0687 1122.7142,-754.8859 1123.6586,-747.9499\"/>\n</g>\n<!-- 37 -->\n<g id=\"node38\" class=\"node\">\n<title>37</title>\n<polygon fill=\"#44a2e6\" stroke=\"#000000\" points=\"2012.5,-782 1821.5,-782 1821.5,-699 2012.5,-699 2012.5,-782\"/>\n<text text-anchor=\"middle\" x=\"1917\" y=\"-766.8\" font-family=\"Helvetica,sans-Serif\" font-size=\"14.00\" fill=\"#000000\">Rotational speed &lt;= &#45;1.028</text>\n<text text-anchor=\"middle\" x=\"1917\" y=\"-751.8\" font-family=\"Helvetica,sans-Serif\" font-size=\"14.00\" fill=\"#000000\">gini = 0.097</text>\n<text text-anchor=\"middle\" x=\"1917\" y=\"-736.8\" font-family=\"Helvetica,sans-Serif\" font-size=\"14.00\" fill=\"#000000\">samples = 3241</text>\n<text text-anchor=\"middle\" x=\"1917\" y=\"-721.8\" font-family=\"Helvetica,sans-Serif\" font-size=\"14.00\" fill=\"#000000\">value = [165, 3076]</text>\n<text text-anchor=\"middle\" x=\"1917\" y=\"-706.8\" font-family=\"Helvetica,sans-Serif\" font-size=\"14.00\" fill=\"#000000\">class = TWF</text>\n</g>\n<!-- 1&#45;&gt;37 -->\n<g id=\"edge37\" class=\"edge\">\n<title>1&#45;&gt;37</title>\n<path fill=\"none\" stroke=\"#000000\" d=\"M1917,-817.8796C1917,-809.6838 1917,-800.9891 1917,-792.5013\"/>\n<polygon fill=\"#000000\" stroke=\"#000000\" points=\"1920.5001,-792.298 1917,-782.2981 1913.5001,-792.2981 1920.5001,-792.298\"/>\n</g>\n<!-- 3 -->\n<g id=\"node4\" class=\"node\">\n<title>3</title>\n<polygon fill=\"#eca16c\" stroke=\"#000000\" points=\"654,-663 522,-663 522,-580 654,-580 654,-663\"/>\n<text text-anchor=\"middle\" x=\"588\" y=\"-647.8\" font-family=\"Helvetica,sans-Serif\" font-size=\"14.00\" fill=\"#000000\">Torque &lt;= 2.435</text>\n<text text-anchor=\"middle\" x=\"588\" y=\"-632.8\" font-family=\"Helvetica,sans-Serif\" font-size=\"14.00\" fill=\"#000000\">gini = 0.325</text>\n<text text-anchor=\"middle\" x=\"588\" y=\"-617.8\" font-family=\"Helvetica,sans-Serif\" font-size=\"14.00\" fill=\"#000000\">samples = 760</text>\n<text text-anchor=\"middle\" x=\"588\" y=\"-602.8\" font-family=\"Helvetica,sans-Serif\" font-size=\"14.00\" fill=\"#000000\">value = [605, 155]</text>\n<text text-anchor=\"middle\" x=\"588\" y=\"-587.8\" font-family=\"Helvetica,sans-Serif\" font-size=\"14.00\" fill=\"#000000\">class = No failure</text>\n</g>\n<!-- 2&#45;&gt;3 -->\n<g id=\"edge3\" class=\"edge\">\n<title>2&#45;&gt;3</title>\n<path fill=\"none\" stroke=\"#000000\" d=\"M972.9034,-722.167C889.2533,-700.2893 749.9151,-663.847 663.8177,-641.3293\"/>\n<polygon fill=\"#000000\" stroke=\"#000000\" points=\"664.667,-637.9337 654.1067,-638.7895 662.8957,-644.7059 664.667,-637.9337\"/>\n</g>\n<!-- 14 -->\n<g id=\"node15\" class=\"node\">\n<title>14</title>\n<polygon fill=\"#4aa5e7\" stroke=\"#000000\" points=\"1113,-663 973,-663 973,-580 1113,-580 1113,-663\"/>\n<text text-anchor=\"middle\" x=\"1043\" y=\"-647.8\" font-family=\"Helvetica,sans-Serif\" font-size=\"14.00\" fill=\"#000000\">Torque &lt;= 1.451</text>\n<text text-anchor=\"middle\" x=\"1043\" y=\"-632.8\" font-family=\"Helvetica,sans-Serif\" font-size=\"14.00\" fill=\"#000000\">gini = 0.143</text>\n<text text-anchor=\"middle\" x=\"1043\" y=\"-617.8\" font-family=\"Helvetica,sans-Serif\" font-size=\"14.00\" fill=\"#000000\">samples = 1316</text>\n<text text-anchor=\"middle\" x=\"1043\" y=\"-602.8\" font-family=\"Helvetica,sans-Serif\" font-size=\"14.00\" fill=\"#000000\">value = [102, 1214]</text>\n<text text-anchor=\"middle\" x=\"1043\" y=\"-587.8\" font-family=\"Helvetica,sans-Serif\" font-size=\"14.00\" fill=\"#000000\">class = TWF</text>\n</g>\n<!-- 2&#45;&gt;14 -->\n<g id=\"edge14\" class=\"edge\">\n<title>2&#45;&gt;14</title>\n<path fill=\"none\" stroke=\"#000000\" d=\"M1043,-698.8796C1043,-690.6838 1043,-681.9891 1043,-673.5013\"/>\n<polygon fill=\"#000000\" stroke=\"#000000\" points=\"1046.5001,-673.298 1043,-663.2981 1039.5001,-673.2981 1046.5001,-673.298\"/>\n</g>\n<!-- 4 -->\n<g id=\"node5\" class=\"node\">\n<title>4</title>\n<polygon fill=\"#e58139\" stroke=\"#000000\" points=\"504,-536.5 376,-536.5 376,-468.5 504,-468.5 504,-536.5\"/>\n<text text-anchor=\"middle\" x=\"440\" y=\"-521.3\" font-family=\"Helvetica,sans-Serif\" font-size=\"14.00\" fill=\"#000000\">gini = 0.0</text>\n<text text-anchor=\"middle\" x=\"440\" y=\"-506.3\" font-family=\"Helvetica,sans-Serif\" font-size=\"14.00\" fill=\"#000000\">samples = 582</text>\n<text text-anchor=\"middle\" x=\"440\" y=\"-491.3\" font-family=\"Helvetica,sans-Serif\" font-size=\"14.00\" fill=\"#000000\">value = [582, 0]</text>\n<text text-anchor=\"middle\" x=\"440\" y=\"-476.3\" font-family=\"Helvetica,sans-Serif\" font-size=\"14.00\" fill=\"#000000\">class = No failure</text>\n</g>\n<!-- 3&#45;&gt;4 -->\n<g id=\"edge4\" class=\"edge\">\n<title>3&#45;&gt;4</title>\n<path fill=\"none\" stroke=\"#000000\" d=\"M536.2368,-579.8796C521.4669,-568.0038 505.3941,-555.0804 490.6892,-543.2568\"/>\n<polygon fill=\"#000000\" stroke=\"#000000\" points=\"492.6639,-540.3535 482.6774,-536.8149 488.2775,-545.8088 492.6639,-540.3535\"/>\n</g>\n<!-- 5 -->\n<g id=\"node6\" class=\"node\">\n<title>5</title>\n<polygon fill=\"#56ace9\" stroke=\"#000000\" points=\"653.5,-544 522.5,-544 522.5,-461 653.5,-461 653.5,-544\"/>\n<text text-anchor=\"middle\" x=\"588\" y=\"-528.8\" font-family=\"Helvetica,sans-Serif\" font-size=\"14.00\" fill=\"#000000\">Tool wear &lt;= 0.12</text>\n<text text-anchor=\"middle\" x=\"588\" y=\"-513.8\" font-family=\"Helvetica,sans-Serif\" font-size=\"14.00\" fill=\"#000000\">gini = 0.225</text>\n<text text-anchor=\"middle\" x=\"588\" y=\"-498.8\" font-family=\"Helvetica,sans-Serif\" font-size=\"14.00\" fill=\"#000000\">samples = 178</text>\n<text text-anchor=\"middle\" x=\"588\" y=\"-483.8\" font-family=\"Helvetica,sans-Serif\" font-size=\"14.00\" fill=\"#000000\">value = [23, 155]</text>\n<text text-anchor=\"middle\" x=\"588\" y=\"-468.8\" font-family=\"Helvetica,sans-Serif\" font-size=\"14.00\" fill=\"#000000\">class = TWF</text>\n</g>\n<!-- 3&#45;&gt;5 -->\n<g id=\"edge5\" class=\"edge\">\n<title>3&#45;&gt;5</title>\n<path fill=\"none\" stroke=\"#000000\" d=\"M588,-579.8796C588,-571.6838 588,-562.9891 588,-554.5013\"/>\n<polygon fill=\"#000000\" stroke=\"#000000\" points=\"591.5001,-554.298 588,-544.2981 584.5001,-554.2981 591.5001,-554.298\"/>\n</g>\n<!-- 6 -->\n<g id=\"node7\" class=\"node\">\n<title>6</title>\n<polygon fill=\"#4aa5e7\" stroke=\"#000000\" points=\"506,-425 382,-425 382,-342 506,-342 506,-425\"/>\n<text text-anchor=\"middle\" x=\"444\" y=\"-409.8\" font-family=\"Helvetica,sans-Serif\" font-size=\"14.00\" fill=\"#000000\">Torque &lt;= 2.627</text>\n<text text-anchor=\"middle\" x=\"444\" y=\"-394.8\" font-family=\"Helvetica,sans-Serif\" font-size=\"14.00\" fill=\"#000000\">gini = 0.143</text>\n<text text-anchor=\"middle\" x=\"444\" y=\"-379.8\" font-family=\"Helvetica,sans-Serif\" font-size=\"14.00\" fill=\"#000000\">samples = 168</text>\n<text text-anchor=\"middle\" x=\"444\" y=\"-364.8\" font-family=\"Helvetica,sans-Serif\" font-size=\"14.00\" fill=\"#000000\">value = [13, 155]</text>\n<text text-anchor=\"middle\" x=\"444\" y=\"-349.8\" font-family=\"Helvetica,sans-Serif\" font-size=\"14.00\" fill=\"#000000\">class = TWF</text>\n</g>\n<!-- 5&#45;&gt;6 -->\n<g id=\"edge6\" class=\"edge\">\n<title>5&#45;&gt;6</title>\n<path fill=\"none\" stroke=\"#000000\" d=\"M537.6358,-460.8796C526.3015,-451.513 514.1785,-441.4948 502.5419,-431.8784\"/>\n<polygon fill=\"#000000\" stroke=\"#000000\" points=\"504.5173,-428.9703 494.5792,-425.2981 500.0581,-434.3663 504.5173,-428.9703\"/>\n</g>\n<!-- 13 -->\n<g id=\"node14\" class=\"node\">\n<title>13</title>\n<polygon fill=\"#e58139\" stroke=\"#000000\" points=\"652,-417.5 524,-417.5 524,-349.5 652,-349.5 652,-417.5\"/>\n<text text-anchor=\"middle\" x=\"588\" y=\"-402.3\" font-family=\"Helvetica,sans-Serif\" font-size=\"14.00\" fill=\"#000000\">gini = 0.0</text>\n<text text-anchor=\"middle\" x=\"588\" y=\"-387.3\" font-family=\"Helvetica,sans-Serif\" font-size=\"14.00\" fill=\"#000000\">samples = 10</text>\n<text text-anchor=\"middle\" x=\"588\" y=\"-372.3\" font-family=\"Helvetica,sans-Serif\" font-size=\"14.00\" fill=\"#000000\">value = [10, 0]</text>\n<text text-anchor=\"middle\" x=\"588\" y=\"-357.3\" font-family=\"Helvetica,sans-Serif\" font-size=\"14.00\" fill=\"#000000\">class = No failure</text>\n</g>\n<!-- 5&#45;&gt;13 -->\n<g id=\"edge13\" class=\"edge\">\n<title>5&#45;&gt;13</title>\n<path fill=\"none\" stroke=\"#000000\" d=\"M588,-460.8796C588,-450.2134 588,-438.7021 588,-427.9015\"/>\n<polygon fill=\"#000000\" stroke=\"#000000\" points=\"591.5001,-427.8149 588,-417.8149 584.5001,-427.815 591.5001,-427.8149\"/>\n</g>\n<!-- 7 -->\n<g id=\"node8\" class=\"node\">\n<title>7</title>\n<polygon fill=\"#3fa0e6\" stroke=\"#000000\" points=\"411.5,-306 194.5,-306 194.5,-223 411.5,-223 411.5,-306\"/>\n<text text-anchor=\"middle\" x=\"303\" y=\"-290.8\" font-family=\"Helvetica,sans-Serif\" font-size=\"14.00\" fill=\"#000000\">Process temperature &lt;= &#45;0.034</text>\n<text text-anchor=\"middle\" x=\"303\" y=\"-275.8\" font-family=\"Helvetica,sans-Serif\" font-size=\"14.00\" fill=\"#000000\">gini = 0.061</text>\n<text text-anchor=\"middle\" x=\"303\" y=\"-260.8\" font-family=\"Helvetica,sans-Serif\" font-size=\"14.00\" fill=\"#000000\">samples = 160</text>\n<text text-anchor=\"middle\" x=\"303\" y=\"-245.8\" font-family=\"Helvetica,sans-Serif\" font-size=\"14.00\" fill=\"#000000\">value = [5, 155]</text>\n<text text-anchor=\"middle\" x=\"303\" y=\"-230.8\" font-family=\"Helvetica,sans-Serif\" font-size=\"14.00\" fill=\"#000000\">class = TWF</text>\n</g>\n<!-- 6&#45;&gt;7 -->\n<g id=\"edge7\" class=\"edge\">\n<title>6&#45;&gt;7</title>\n<path fill=\"none\" stroke=\"#000000\" d=\"M394.685,-341.8796C383.5868,-332.513 371.7165,-322.4948 360.3223,-312.8784\"/>\n<polygon fill=\"#000000\" stroke=\"#000000\" points=\"362.425,-310.0731 352.5254,-306.2981 357.9101,-315.4225 362.425,-310.0731\"/>\n</g>\n<!-- 12 -->\n<g id=\"node13\" class=\"node\">\n<title>12</title>\n<polygon fill=\"#e58139\" stroke=\"#000000\" points=\"558,-298.5 430,-298.5 430,-230.5 558,-230.5 558,-298.5\"/>\n<text text-anchor=\"middle\" x=\"494\" y=\"-283.3\" font-family=\"Helvetica,sans-Serif\" font-size=\"14.00\" fill=\"#000000\">gini = 0.0</text>\n<text text-anchor=\"middle\" x=\"494\" y=\"-268.3\" font-family=\"Helvetica,sans-Serif\" font-size=\"14.00\" fill=\"#000000\">samples = 8</text>\n<text text-anchor=\"middle\" x=\"494\" y=\"-253.3\" font-family=\"Helvetica,sans-Serif\" font-size=\"14.00\" fill=\"#000000\">value = [8, 0]</text>\n<text text-anchor=\"middle\" x=\"494\" y=\"-238.3\" font-family=\"Helvetica,sans-Serif\" font-size=\"14.00\" fill=\"#000000\">class = No failure</text>\n</g>\n<!-- 6&#45;&gt;12 -->\n<g id=\"edge12\" class=\"edge\">\n<title>6&#45;&gt;12</title>\n<path fill=\"none\" stroke=\"#000000\" d=\"M461.4876,-341.8796C466.0616,-330.9935 471.0054,-319.227 475.6242,-308.2344\"/>\n<polygon fill=\"#000000\" stroke=\"#000000\" points=\"478.935,-309.39 479.582,-298.8149 472.4815,-306.6784 478.935,-309.39\"/>\n</g>\n<!-- 8 -->\n<g id=\"node9\" class=\"node\">\n<title>8</title>\n<polygon fill=\"#3d9fe6\" stroke=\"#000000\" points=\"229.5,-187 38.5,-187 38.5,-104 229.5,-104 229.5,-187\"/>\n<text text-anchor=\"middle\" x=\"134\" y=\"-171.8\" font-family=\"Helvetica,sans-Serif\" font-size=\"14.00\" fill=\"#000000\">Rotational speed &lt;= &#45;2.034</text>\n<text text-anchor=\"middle\" x=\"134\" y=\"-156.8\" font-family=\"Helvetica,sans-Serif\" font-size=\"14.00\" fill=\"#000000\">gini = 0.037</text>\n<text text-anchor=\"middle\" x=\"134\" y=\"-141.8\" font-family=\"Helvetica,sans-Serif\" font-size=\"14.00\" fill=\"#000000\">samples = 158</text>\n<text text-anchor=\"middle\" x=\"134\" y=\"-126.8\" font-family=\"Helvetica,sans-Serif\" font-size=\"14.00\" fill=\"#000000\">value = [3, 155]</text>\n<text text-anchor=\"middle\" x=\"134\" y=\"-111.8\" font-family=\"Helvetica,sans-Serif\" font-size=\"14.00\" fill=\"#000000\">class = TWF</text>\n</g>\n<!-- 7&#45;&gt;8 -->\n<g id=\"edge8\" class=\"edge\">\n<title>7&#45;&gt;8</title>\n<path fill=\"none\" stroke=\"#000000\" d=\"M243.892,-222.8796C230.1266,-213.1868 215.3701,-202.7961 201.2807,-192.8752\"/>\n<polygon fill=\"#000000\" stroke=\"#000000\" points=\"203.2661,-189.9926 193.0746,-187.0969 199.2359,-195.716 203.2661,-189.9926\"/>\n</g>\n<!-- 11 -->\n<g id=\"node12\" class=\"node\">\n<title>11</title>\n<polygon fill=\"#e58139\" stroke=\"#000000\" points=\"376,-179.5 248,-179.5 248,-111.5 376,-111.5 376,-179.5\"/>\n<text text-anchor=\"middle\" x=\"312\" y=\"-164.3\" font-family=\"Helvetica,sans-Serif\" font-size=\"14.00\" fill=\"#000000\">gini = 0.0</text>\n<text text-anchor=\"middle\" x=\"312\" y=\"-149.3\" font-family=\"Helvetica,sans-Serif\" font-size=\"14.00\" fill=\"#000000\">samples = 2</text>\n<text text-anchor=\"middle\" x=\"312\" y=\"-134.3\" font-family=\"Helvetica,sans-Serif\" font-size=\"14.00\" fill=\"#000000\">value = [2, 0]</text>\n<text text-anchor=\"middle\" x=\"312\" y=\"-119.3\" font-family=\"Helvetica,sans-Serif\" font-size=\"14.00\" fill=\"#000000\">class = No failure</text>\n</g>\n<!-- 7&#45;&gt;11 -->\n<g id=\"edge11\" class=\"edge\">\n<title>7&#45;&gt;11</title>\n<path fill=\"none\" stroke=\"#000000\" d=\"M306.1478,-222.8796C306.9545,-212.2134 307.8251,-200.7021 308.6419,-189.9015\"/>\n<polygon fill=\"#000000\" stroke=\"#000000\" points=\"312.1405,-190.0504 309.4048,-179.8149 305.1605,-189.5225 312.1405,-190.0504\"/>\n</g>\n<!-- 9 -->\n<g id=\"node10\" class=\"node\">\n<title>9</title>\n<polygon fill=\"#e58139\" stroke=\"#000000\" points=\"128,-68 0,-68 0,0 128,0 128,-68\"/>\n<text text-anchor=\"middle\" x=\"64\" y=\"-52.8\" font-family=\"Helvetica,sans-Serif\" font-size=\"14.00\" fill=\"#000000\">gini = 0.0</text>\n<text text-anchor=\"middle\" x=\"64\" y=\"-37.8\" font-family=\"Helvetica,sans-Serif\" font-size=\"14.00\" fill=\"#000000\">samples = 1</text>\n<text text-anchor=\"middle\" x=\"64\" y=\"-22.8\" font-family=\"Helvetica,sans-Serif\" font-size=\"14.00\" fill=\"#000000\">value = [1, 0]</text>\n<text text-anchor=\"middle\" x=\"64\" y=\"-7.8\" font-family=\"Helvetica,sans-Serif\" font-size=\"14.00\" fill=\"#000000\">class = No failure</text>\n</g>\n<!-- 8&#45;&gt;9 -->\n<g id=\"edge9\" class=\"edge\">\n<title>8&#45;&gt;9</title>\n<path fill=\"none\" stroke=\"#000000\" d=\"M107.9346,-103.9815C102.3955,-95.1585 96.5364,-85.8258 90.9645,-76.9506\"/>\n<polygon fill=\"#000000\" stroke=\"#000000\" points=\"93.7922,-74.872 85.5108,-68.2637 87.8637,-78.594 93.7922,-74.872\"/>\n</g>\n<!-- 10 -->\n<g id=\"node11\" class=\"node\">\n<title>10</title>\n<polygon fill=\"#3c9ee5\" stroke=\"#000000\" points=\"262,-68 146,-68 146,0 262,0 262,-68\"/>\n<text text-anchor=\"middle\" x=\"204\" y=\"-52.8\" font-family=\"Helvetica,sans-Serif\" font-size=\"14.00\" fill=\"#000000\">gini = 0.025</text>\n<text text-anchor=\"middle\" x=\"204\" y=\"-37.8\" font-family=\"Helvetica,sans-Serif\" font-size=\"14.00\" fill=\"#000000\">samples = 157</text>\n<text text-anchor=\"middle\" x=\"204\" y=\"-22.8\" font-family=\"Helvetica,sans-Serif\" font-size=\"14.00\" fill=\"#000000\">value = [2, 155]</text>\n<text text-anchor=\"middle\" x=\"204\" y=\"-7.8\" font-family=\"Helvetica,sans-Serif\" font-size=\"14.00\" fill=\"#000000\">class = TWF</text>\n</g>\n<!-- 8&#45;&gt;10 -->\n<g id=\"edge10\" class=\"edge\">\n<title>8&#45;&gt;10</title>\n<path fill=\"none\" stroke=\"#000000\" d=\"M160.0654,-103.9815C165.6045,-95.1585 171.4636,-85.8258 177.0355,-76.9506\"/>\n<polygon fill=\"#000000\" stroke=\"#000000\" points=\"180.1363,-78.594 182.4892,-68.2637 174.2078,-74.872 180.1363,-78.594\"/>\n</g>\n<!-- 15 -->\n<g id=\"node16\" class=\"node\">\n<title>15</title>\n<polygon fill=\"#fae9dc\" stroke=\"#000000\" points=\"947,-544 807,-544 807,-461 947,-461 947,-544\"/>\n<text text-anchor=\"middle\" x=\"877\" y=\"-528.8\" font-family=\"Helvetica,sans-Serif\" font-size=\"14.00\" fill=\"#000000\">Tool wear &lt;= 1.556</text>\n<text text-anchor=\"middle\" x=\"877\" y=\"-513.8\" font-family=\"Helvetica,sans-Serif\" font-size=\"14.00\" fill=\"#000000\">gini = 0.495</text>\n<text text-anchor=\"middle\" x=\"877\" y=\"-498.8\" font-family=\"Helvetica,sans-Serif\" font-size=\"14.00\" fill=\"#000000\">samples = 146</text>\n<text text-anchor=\"middle\" x=\"877\" y=\"-483.8\" font-family=\"Helvetica,sans-Serif\" font-size=\"14.00\" fill=\"#000000\">value = [80, 66]</text>\n<text text-anchor=\"middle\" x=\"877\" y=\"-468.8\" font-family=\"Helvetica,sans-Serif\" font-size=\"14.00\" fill=\"#000000\">class = No failure</text>\n</g>\n<!-- 14&#45;&gt;15 -->\n<g id=\"edge15\" class=\"edge\">\n<title>14&#45;&gt;15</title>\n<path fill=\"none\" stroke=\"#000000\" d=\"M984.9413,-579.8796C971.5466,-570.2774 957.1965,-559.9903 943.4745,-550.1534\"/>\n<polygon fill=\"#000000\" stroke=\"#000000\" points=\"945.1926,-547.0786 935.026,-544.0969 941.1142,-552.7678 945.1926,-547.0786\"/>\n</g>\n<!-- 24 -->\n<g id=\"node25\" class=\"node\">\n<title>24</title>\n<polygon fill=\"#3d9fe5\" stroke=\"#000000\" points=\"1225,-544 1093,-544 1093,-461 1225,-461 1225,-544\"/>\n<text text-anchor=\"middle\" x=\"1159\" y=\"-528.8\" font-family=\"Helvetica,sans-Serif\" font-size=\"14.00\" fill=\"#000000\">Type &lt;= 0.5</text>\n<text text-anchor=\"middle\" x=\"1159\" y=\"-513.8\" font-family=\"Helvetica,sans-Serif\" font-size=\"14.00\" fill=\"#000000\">gini = 0.037</text>\n<text text-anchor=\"middle\" x=\"1159\" y=\"-498.8\" font-family=\"Helvetica,sans-Serif\" font-size=\"14.00\" fill=\"#000000\">samples = 1170</text>\n<text text-anchor=\"middle\" x=\"1159\" y=\"-483.8\" font-family=\"Helvetica,sans-Serif\" font-size=\"14.00\" fill=\"#000000\">value = [22, 1148]</text>\n<text text-anchor=\"middle\" x=\"1159\" y=\"-468.8\" font-family=\"Helvetica,sans-Serif\" font-size=\"14.00\" fill=\"#000000\">class = TWF</text>\n</g>\n<!-- 14&#45;&gt;24 -->\n<g id=\"edge24\" class=\"edge\">\n<title>14&#45;&gt;24</title>\n<path fill=\"none\" stroke=\"#000000\" d=\"M1083.5712,-579.8796C1092.4382,-570.7832 1101.9044,-561.0722 1111.0291,-551.7116\"/>\n<polygon fill=\"#000000\" stroke=\"#000000\" points=\"1113.7817,-553.9019 1118.2557,-544.2981 1108.7691,-549.0158 1113.7817,-553.9019\"/>\n</g>\n<!-- 16 -->\n<g id=\"node17\" class=\"node\">\n<title>16</title>\n<polygon fill=\"#e58139\" stroke=\"#000000\" points=\"798,-417.5 670,-417.5 670,-349.5 798,-349.5 798,-417.5\"/>\n<text text-anchor=\"middle\" x=\"734\" y=\"-402.3\" font-family=\"Helvetica,sans-Serif\" font-size=\"14.00\" fill=\"#000000\">gini = 0.0</text>\n<text text-anchor=\"middle\" x=\"734\" y=\"-387.3\" font-family=\"Helvetica,sans-Serif\" font-size=\"14.00\" fill=\"#000000\">samples = 62</text>\n<text text-anchor=\"middle\" x=\"734\" y=\"-372.3\" font-family=\"Helvetica,sans-Serif\" font-size=\"14.00\" fill=\"#000000\">value = [62, 0]</text>\n<text text-anchor=\"middle\" x=\"734\" y=\"-357.3\" font-family=\"Helvetica,sans-Serif\" font-size=\"14.00\" fill=\"#000000\">class = No failure</text>\n</g>\n<!-- 15&#45;&gt;16 -->\n<g id=\"edge16\" class=\"edge\">\n<title>15&#45;&gt;16</title>\n<path fill=\"none\" stroke=\"#000000\" d=\"M826.9855,-460.8796C812.7147,-449.0038 797.1849,-436.0804 782.9767,-424.2568\"/>\n<polygon fill=\"#000000\" stroke=\"#000000\" points=\"785.161,-421.5212 775.2356,-417.8149 780.6834,-426.9019 785.161,-421.5212\"/>\n</g>\n<!-- 17 -->\n<g id=\"node18\" class=\"node\">\n<title>17</title>\n<polygon fill=\"#6fb8ec\" stroke=\"#000000\" points=\"938,-425 816,-425 816,-342 938,-342 938,-425\"/>\n<text text-anchor=\"middle\" x=\"877\" y=\"-409.8\" font-family=\"Helvetica,sans-Serif\" font-size=\"14.00\" fill=\"#000000\">Torque &lt;= 0.829</text>\n<text text-anchor=\"middle\" x=\"877\" y=\"-394.8\" font-family=\"Helvetica,sans-Serif\" font-size=\"14.00\" fill=\"#000000\">gini = 0.337</text>\n<text text-anchor=\"middle\" x=\"877\" y=\"-379.8\" font-family=\"Helvetica,sans-Serif\" font-size=\"14.00\" fill=\"#000000\">samples = 84</text>\n<text text-anchor=\"middle\" x=\"877\" y=\"-364.8\" font-family=\"Helvetica,sans-Serif\" font-size=\"14.00\" fill=\"#000000\">value = [18, 66]</text>\n<text text-anchor=\"middle\" x=\"877\" y=\"-349.8\" font-family=\"Helvetica,sans-Serif\" font-size=\"14.00\" fill=\"#000000\">class = TWF</text>\n</g>\n<!-- 15&#45;&gt;17 -->\n<g id=\"edge17\" class=\"edge\">\n<title>15&#45;&gt;17</title>\n<path fill=\"none\" stroke=\"#000000\" d=\"M877,-460.8796C877,-452.6838 877,-443.9891 877,-435.5013\"/>\n<polygon fill=\"#000000\" stroke=\"#000000\" points=\"880.5001,-435.298 877,-425.2981 873.5001,-435.2981 880.5001,-435.298\"/>\n</g>\n<!-- 18 -->\n<g id=\"node19\" class=\"node\">\n<title>18</title>\n<polygon fill=\"#48a4e7\" stroke=\"#000000\" points=\"744,-306 622,-306 622,-223 744,-223 744,-306\"/>\n<text text-anchor=\"middle\" x=\"683\" y=\"-290.8\" font-family=\"Helvetica,sans-Serif\" font-size=\"14.00\" fill=\"#000000\">Torque &lt;= 0.377</text>\n<text text-anchor=\"middle\" x=\"683\" y=\"-275.8\" font-family=\"Helvetica,sans-Serif\" font-size=\"14.00\" fill=\"#000000\">gini = 0.131</text>\n<text text-anchor=\"middle\" x=\"683\" y=\"-260.8\" font-family=\"Helvetica,sans-Serif\" font-size=\"14.00\" fill=\"#000000\">samples = 71</text>\n<text text-anchor=\"middle\" x=\"683\" y=\"-245.8\" font-family=\"Helvetica,sans-Serif\" font-size=\"14.00\" fill=\"#000000\">value = [5, 66]</text>\n<text text-anchor=\"middle\" x=\"683\" y=\"-230.8\" font-family=\"Helvetica,sans-Serif\" font-size=\"14.00\" fill=\"#000000\">class = TWF</text>\n</g>\n<!-- 17&#45;&gt;18 -->\n<g id=\"edge18\" class=\"edge\">\n<title>17&#45;&gt;18</title>\n<path fill=\"none\" stroke=\"#000000\" d=\"M815.8835,-346.011C795.864,-333.731 773.4708,-319.9949 752.8563,-307.35\"/>\n<polygon fill=\"#000000\" stroke=\"#000000\" points=\"754.4967,-304.2503 744.1425,-302.005 750.8366,-310.2172 754.4967,-304.2503\"/>\n</g>\n<!-- 23 -->\n<g id=\"node24\" class=\"node\">\n<title>23</title>\n<polygon fill=\"#e58139\" stroke=\"#000000\" points=\"890,-298.5 762,-298.5 762,-230.5 890,-230.5 890,-298.5\"/>\n<text text-anchor=\"middle\" x=\"826\" y=\"-283.3\" font-family=\"Helvetica,sans-Serif\" font-size=\"14.00\" fill=\"#000000\">gini = 0.0</text>\n<text text-anchor=\"middle\" x=\"826\" y=\"-268.3\" font-family=\"Helvetica,sans-Serif\" font-size=\"14.00\" fill=\"#000000\">samples = 13</text>\n<text text-anchor=\"middle\" x=\"826\" y=\"-253.3\" font-family=\"Helvetica,sans-Serif\" font-size=\"14.00\" fill=\"#000000\">value = [13, 0]</text>\n<text text-anchor=\"middle\" x=\"826\" y=\"-238.3\" font-family=\"Helvetica,sans-Serif\" font-size=\"14.00\" fill=\"#000000\">class = No failure</text>\n</g>\n<!-- 17&#45;&gt;23 -->\n<g id=\"edge23\" class=\"edge\">\n<title>17&#45;&gt;23</title>\n<path fill=\"none\" stroke=\"#000000\" d=\"M859.1627,-341.8796C854.4972,-330.9935 849.4544,-319.227 844.7433,-308.2344\"/>\n<polygon fill=\"#000000\" stroke=\"#000000\" points=\"847.8627,-306.6277 840.7064,-298.8149 841.4286,-309.3851 847.8627,-306.6277\"/>\n</g>\n<!-- 19 -->\n<g id=\"node20\" class=\"node\">\n<title>19</title>\n<polygon fill=\"#e58139\" stroke=\"#000000\" points=\"588,-179.5 460,-179.5 460,-111.5 588,-111.5 588,-179.5\"/>\n<text text-anchor=\"middle\" x=\"524\" y=\"-164.3\" font-family=\"Helvetica,sans-Serif\" font-size=\"14.00\" fill=\"#000000\">gini = 0.0</text>\n<text text-anchor=\"middle\" x=\"524\" y=\"-149.3\" font-family=\"Helvetica,sans-Serif\" font-size=\"14.00\" fill=\"#000000\">samples = 2</text>\n<text text-anchor=\"middle\" x=\"524\" y=\"-134.3\" font-family=\"Helvetica,sans-Serif\" font-size=\"14.00\" fill=\"#000000\">value = [2, 0]</text>\n<text text-anchor=\"middle\" x=\"524\" y=\"-119.3\" font-family=\"Helvetica,sans-Serif\" font-size=\"14.00\" fill=\"#000000\">class = No failure</text>\n</g>\n<!-- 18&#45;&gt;19 -->\n<g id=\"edge19\" class=\"edge\">\n<title>18&#45;&gt;19</title>\n<path fill=\"none\" stroke=\"#000000\" d=\"M627.3895,-222.8796C611.2987,-210.8368 593.7685,-197.7167 577.7909,-185.7586\"/>\n<polygon fill=\"#000000\" stroke=\"#000000\" points=\"579.6962,-182.8129 569.593,-179.623 575.5018,-188.4171 579.6962,-182.8129\"/>\n</g>\n<!-- 20 -->\n<g id=\"node21\" class=\"node\">\n<title>20</title>\n<polygon fill=\"#42a1e6\" stroke=\"#000000\" points=\"782,-187 606,-187 606,-104 782,-104 782,-187\"/>\n<text text-anchor=\"middle\" x=\"694\" y=\"-171.8\" font-family=\"Helvetica,sans-Serif\" font-size=\"14.00\" fill=\"#000000\">Air temperature &lt;= 0.304</text>\n<text text-anchor=\"middle\" x=\"694\" y=\"-156.8\" font-family=\"Helvetica,sans-Serif\" font-size=\"14.00\" fill=\"#000000\">gini = 0.083</text>\n<text text-anchor=\"middle\" x=\"694\" y=\"-141.8\" font-family=\"Helvetica,sans-Serif\" font-size=\"14.00\" fill=\"#000000\">samples = 69</text>\n<text text-anchor=\"middle\" x=\"694\" y=\"-126.8\" font-family=\"Helvetica,sans-Serif\" font-size=\"14.00\" fill=\"#000000\">value = [3, 66]</text>\n<text text-anchor=\"middle\" x=\"694\" y=\"-111.8\" font-family=\"Helvetica,sans-Serif\" font-size=\"14.00\" fill=\"#000000\">class = TWF</text>\n</g>\n<!-- 18&#45;&gt;20 -->\n<g id=\"edge20\" class=\"edge\">\n<title>18&#45;&gt;20</title>\n<path fill=\"none\" stroke=\"#000000\" d=\"M686.8473,-222.8796C687.6049,-214.6838 688.4086,-205.9891 689.1932,-197.5013\"/>\n<polygon fill=\"#000000\" stroke=\"#000000\" points=\"692.7009,-197.5778 690.1363,-187.2981 685.7306,-196.9334 692.7009,-197.5778\"/>\n</g>\n<!-- 21 -->\n<g id=\"node22\" class=\"node\">\n<title>21</title>\n<polygon fill=\"#3fa0e6\" stroke=\"#000000\" points=\"679.5,-68 572.5,-68 572.5,0 679.5,0 679.5,-68\"/>\n<text text-anchor=\"middle\" x=\"626\" y=\"-52.8\" font-family=\"Helvetica,sans-Serif\" font-size=\"14.00\" fill=\"#000000\">gini = 0.057</text>\n<text text-anchor=\"middle\" x=\"626\" y=\"-37.8\" font-family=\"Helvetica,sans-Serif\" font-size=\"14.00\" fill=\"#000000\">samples = 68</text>\n<text text-anchor=\"middle\" x=\"626\" y=\"-22.8\" font-family=\"Helvetica,sans-Serif\" font-size=\"14.00\" fill=\"#000000\">value = [2, 66]</text>\n<text text-anchor=\"middle\" x=\"626\" y=\"-7.8\" font-family=\"Helvetica,sans-Serif\" font-size=\"14.00\" fill=\"#000000\">class = TWF</text>\n</g>\n<!-- 20&#45;&gt;21 -->\n<g id=\"edge21\" class=\"edge\">\n<title>20&#45;&gt;21</title>\n<path fill=\"none\" stroke=\"#000000\" d=\"M668.6793,-103.9815C663.2984,-95.1585 657.6068,-85.8258 652.1941,-76.9506\"/>\n<polygon fill=\"#000000\" stroke=\"#000000\" points=\"655.0912,-74.9789 646.8962,-68.2637 649.1149,-78.6236 655.0912,-74.9789\"/>\n</g>\n<!-- 22 -->\n<g id=\"node23\" class=\"node\">\n<title>22</title>\n<polygon fill=\"#e58139\" stroke=\"#000000\" points=\"826,-68 698,-68 698,0 826,0 826,-68\"/>\n<text text-anchor=\"middle\" x=\"762\" y=\"-52.8\" font-family=\"Helvetica,sans-Serif\" font-size=\"14.00\" fill=\"#000000\">gini = 0.0</text>\n<text text-anchor=\"middle\" x=\"762\" y=\"-37.8\" font-family=\"Helvetica,sans-Serif\" font-size=\"14.00\" fill=\"#000000\">samples = 1</text>\n<text text-anchor=\"middle\" x=\"762\" y=\"-22.8\" font-family=\"Helvetica,sans-Serif\" font-size=\"14.00\" fill=\"#000000\">value = [1, 0]</text>\n<text text-anchor=\"middle\" x=\"762\" y=\"-7.8\" font-family=\"Helvetica,sans-Serif\" font-size=\"14.00\" fill=\"#000000\">class = No failure</text>\n</g>\n<!-- 20&#45;&gt;22 -->\n<g id=\"edge22\" class=\"edge\">\n<title>20&#45;&gt;22</title>\n<path fill=\"none\" stroke=\"#000000\" d=\"M719.3207,-103.9815C724.7016,-95.1585 730.3932,-85.8258 735.8059,-76.9506\"/>\n<polygon fill=\"#000000\" stroke=\"#000000\" points=\"738.8851,-78.6236 741.1038,-68.2637 732.9088,-74.9789 738.8851,-78.6236\"/>\n</g>\n<!-- 25 -->\n<g id=\"node26\" class=\"node\">\n<title>25</title>\n<polygon fill=\"#3a9ee5\" stroke=\"#000000\" points=\"1229,-425 1089,-425 1089,-342 1229,-342 1229,-425\"/>\n<text text-anchor=\"middle\" x=\"1159\" y=\"-409.8\" font-family=\"Helvetica,sans-Serif\" font-size=\"14.00\" fill=\"#000000\">Tool wear &lt;= 1.217</text>\n<text text-anchor=\"middle\" x=\"1159\" y=\"-394.8\" font-family=\"Helvetica,sans-Serif\" font-size=\"14.00\" fill=\"#000000\">gini = 0.013</text>\n<text text-anchor=\"middle\" x=\"1159\" y=\"-379.8\" font-family=\"Helvetica,sans-Serif\" font-size=\"14.00\" fill=\"#000000\">samples = 1084</text>\n<text text-anchor=\"middle\" x=\"1159\" y=\"-364.8\" font-family=\"Helvetica,sans-Serif\" font-size=\"14.00\" fill=\"#000000\">value = [7, 1077]</text>\n<text text-anchor=\"middle\" x=\"1159\" y=\"-349.8\" font-family=\"Helvetica,sans-Serif\" font-size=\"14.00\" fill=\"#000000\">class = TWF</text>\n</g>\n<!-- 24&#45;&gt;25 -->\n<g id=\"edge25\" class=\"edge\">\n<title>24&#45;&gt;25</title>\n<path fill=\"none\" stroke=\"#000000\" d=\"M1159,-460.8796C1159,-452.6838 1159,-443.9891 1159,-435.5013\"/>\n<polygon fill=\"#000000\" stroke=\"#000000\" points=\"1162.5001,-435.298 1159,-425.2981 1155.5001,-435.2981 1162.5001,-435.298\"/>\n</g>\n<!-- 34 -->\n<g id=\"node35\" class=\"node\">\n<title>34</title>\n<polygon fill=\"#63b2ea\" stroke=\"#000000\" points=\"1418,-425 1302,-425 1302,-342 1418,-342 1418,-425\"/>\n<text text-anchor=\"middle\" x=\"1360\" y=\"-409.8\" font-family=\"Helvetica,sans-Serif\" font-size=\"14.00\" fill=\"#000000\">Torque &lt;= 2.26</text>\n<text text-anchor=\"middle\" x=\"1360\" y=\"-394.8\" font-family=\"Helvetica,sans-Serif\" font-size=\"14.00\" fill=\"#000000\">gini = 0.288</text>\n<text text-anchor=\"middle\" x=\"1360\" y=\"-379.8\" font-family=\"Helvetica,sans-Serif\" font-size=\"14.00\" fill=\"#000000\">samples = 86</text>\n<text text-anchor=\"middle\" x=\"1360\" y=\"-364.8\" font-family=\"Helvetica,sans-Serif\" font-size=\"14.00\" fill=\"#000000\">value = [15, 71]</text>\n<text text-anchor=\"middle\" x=\"1360\" y=\"-349.8\" font-family=\"Helvetica,sans-Serif\" font-size=\"14.00\" fill=\"#000000\">class = TWF</text>\n</g>\n<!-- 24&#45;&gt;34 -->\n<g id=\"edge34\" class=\"edge\">\n<title>24&#45;&gt;34</title>\n<path fill=\"none\" stroke=\"#000000\" d=\"M1225.0933,-463.3701C1246.9161,-450.4502 1271.2003,-436.0729 1293.0841,-423.1169\"/>\n<polygon fill=\"#000000\" stroke=\"#000000\" points=\"1295.158,-425.9565 1301.98,-417.8502 1291.5919,-419.933 1295.158,-425.9565\"/>\n</g>\n<!-- 26 -->\n<g id=\"node27\" class=\"node\">\n<title>26</title>\n<polygon fill=\"#46a3e7\" stroke=\"#000000\" points=\"1084,-306 908,-306 908,-223 1084,-223 1084,-306\"/>\n<text text-anchor=\"middle\" x=\"996\" y=\"-290.8\" font-family=\"Helvetica,sans-Serif\" font-size=\"14.00\" fill=\"#000000\">Air temperature &lt;= 0.454</text>\n<text text-anchor=\"middle\" x=\"996\" y=\"-275.8\" font-family=\"Helvetica,sans-Serif\" font-size=\"14.00\" fill=\"#000000\">gini = 0.112</text>\n<text text-anchor=\"middle\" x=\"996\" y=\"-260.8\" font-family=\"Helvetica,sans-Serif\" font-size=\"14.00\" fill=\"#000000\">samples = 84</text>\n<text text-anchor=\"middle\" x=\"996\" y=\"-245.8\" font-family=\"Helvetica,sans-Serif\" font-size=\"14.00\" fill=\"#000000\">value = [5, 79]</text>\n<text text-anchor=\"middle\" x=\"996\" y=\"-230.8\" font-family=\"Helvetica,sans-Serif\" font-size=\"14.00\" fill=\"#000000\">class = TWF</text>\n</g>\n<!-- 25&#45;&gt;26 -->\n<g id=\"edge26\" class=\"edge\">\n<title>25&#45;&gt;26</title>\n<path fill=\"none\" stroke=\"#000000\" d=\"M1101.9905,-341.8796C1088.8379,-332.2774 1074.7472,-321.9903 1061.2732,-312.1534\"/>\n<polygon fill=\"#000000\" stroke=\"#000000\" points=\"1063.1177,-309.1666 1052.9773,-306.0969 1058.9902,-314.8202 1063.1177,-309.1666\"/>\n</g>\n<!-- 29 -->\n<g id=\"node30\" class=\"node\">\n<title>29</title>\n<polygon fill=\"#399de5\" stroke=\"#000000\" points=\"1278,-306 1102,-306 1102,-223 1278,-223 1278,-306\"/>\n<text text-anchor=\"middle\" x=\"1190\" y=\"-290.8\" font-family=\"Helvetica,sans-Serif\" font-size=\"14.00\" fill=\"#000000\">Air temperature &lt;= 0.579</text>\n<text text-anchor=\"middle\" x=\"1190\" y=\"-275.8\" font-family=\"Helvetica,sans-Serif\" font-size=\"14.00\" fill=\"#000000\">gini = 0.004</text>\n<text text-anchor=\"middle\" x=\"1190\" y=\"-260.8\" font-family=\"Helvetica,sans-Serif\" font-size=\"14.00\" fill=\"#000000\">samples = 1000</text>\n<text text-anchor=\"middle\" x=\"1190\" y=\"-245.8\" font-family=\"Helvetica,sans-Serif\" font-size=\"14.00\" fill=\"#000000\">value = [2, 998]</text>\n<text text-anchor=\"middle\" x=\"1190\" y=\"-230.8\" font-family=\"Helvetica,sans-Serif\" font-size=\"14.00\" fill=\"#000000\">class = TWF</text>\n</g>\n<!-- 25&#45;&gt;29 -->\n<g id=\"edge29\" class=\"edge\">\n<title>25&#45;&gt;29</title>\n<path fill=\"none\" stroke=\"#000000\" d=\"M1169.8423,-341.8796C1172.0008,-333.5938 1174.2921,-324.798 1176.5263,-316.2216\"/>\n<polygon fill=\"#000000\" stroke=\"#000000\" points=\"1179.9774,-316.8575 1179.1114,-306.2981 1173.2035,-315.0928 1179.9774,-316.8575\"/>\n</g>\n<!-- 27 -->\n<g id=\"node28\" class=\"node\">\n<title>27</title>\n<polygon fill=\"#e58139\" stroke=\"#000000\" points=\"961,-179.5 833,-179.5 833,-111.5 961,-111.5 961,-179.5\"/>\n<text text-anchor=\"middle\" x=\"897\" y=\"-164.3\" font-family=\"Helvetica,sans-Serif\" font-size=\"14.00\" fill=\"#000000\">gini = 0.0</text>\n<text text-anchor=\"middle\" x=\"897\" y=\"-149.3\" font-family=\"Helvetica,sans-Serif\" font-size=\"14.00\" fill=\"#000000\">samples = 5</text>\n<text text-anchor=\"middle\" x=\"897\" y=\"-134.3\" font-family=\"Helvetica,sans-Serif\" font-size=\"14.00\" fill=\"#000000\">value = [5, 0]</text>\n<text text-anchor=\"middle\" x=\"897\" y=\"-119.3\" font-family=\"Helvetica,sans-Serif\" font-size=\"14.00\" fill=\"#000000\">class = No failure</text>\n</g>\n<!-- 26&#45;&gt;27 -->\n<g id=\"edge27\" class=\"edge\">\n<title>26&#45;&gt;27</title>\n<path fill=\"none\" stroke=\"#000000\" d=\"M961.3746,-222.8796C951.8607,-211.4436 941.5386,-199.0363 932.0035,-187.575\"/>\n<polygon fill=\"#000000\" stroke=\"#000000\" points=\"934.6339,-185.264 925.5477,-179.8149 929.2526,-189.7409 934.6339,-185.264\"/>\n</g>\n<!-- 28 -->\n<g id=\"node29\" class=\"node\">\n<title>28</title>\n<polygon fill=\"#399de5\" stroke=\"#000000\" points=\"1086.5,-179.5 979.5,-179.5 979.5,-111.5 1086.5,-111.5 1086.5,-179.5\"/>\n<text text-anchor=\"middle\" x=\"1033\" y=\"-164.3\" font-family=\"Helvetica,sans-Serif\" font-size=\"14.00\" fill=\"#000000\">gini = 0.0</text>\n<text text-anchor=\"middle\" x=\"1033\" y=\"-149.3\" font-family=\"Helvetica,sans-Serif\" font-size=\"14.00\" fill=\"#000000\">samples = 79</text>\n<text text-anchor=\"middle\" x=\"1033\" y=\"-134.3\" font-family=\"Helvetica,sans-Serif\" font-size=\"14.00\" fill=\"#000000\">value = [0, 79]</text>\n<text text-anchor=\"middle\" x=\"1033\" y=\"-119.3\" font-family=\"Helvetica,sans-Serif\" font-size=\"14.00\" fill=\"#000000\">class = TWF</text>\n</g>\n<!-- 26&#45;&gt;28 -->\n<g id=\"edge28\" class=\"edge\">\n<title>26&#45;&gt;28</title>\n<path fill=\"none\" stroke=\"#000000\" d=\"M1008.9408,-222.8796C1012.2914,-212.1034 1015.9101,-200.4647 1019.2983,-189.5677\"/>\n<polygon fill=\"#000000\" stroke=\"#000000\" points=\"1022.7037,-190.4032 1022.3307,-179.8149 1016.0194,-188.3248 1022.7037,-190.4032\"/>\n</g>\n<!-- 30 -->\n<g id=\"node31\" class=\"node\">\n<title>30</title>\n<polygon fill=\"#399de5\" stroke=\"#000000\" points=\"1243,-187 1121,-187 1121,-104 1243,-104 1243,-187\"/>\n<text text-anchor=\"middle\" x=\"1182\" y=\"-171.8\" font-family=\"Helvetica,sans-Serif\" font-size=\"14.00\" fill=\"#000000\">Torque &lt;= 1.485</text>\n<text text-anchor=\"middle\" x=\"1182\" y=\"-156.8\" font-family=\"Helvetica,sans-Serif\" font-size=\"14.00\" fill=\"#000000\">gini = 0.002</text>\n<text text-anchor=\"middle\" x=\"1182\" y=\"-141.8\" font-family=\"Helvetica,sans-Serif\" font-size=\"14.00\" fill=\"#000000\">samples = 999</text>\n<text text-anchor=\"middle\" x=\"1182\" y=\"-126.8\" font-family=\"Helvetica,sans-Serif\" font-size=\"14.00\" fill=\"#000000\">value = [1, 998]</text>\n<text text-anchor=\"middle\" x=\"1182\" y=\"-111.8\" font-family=\"Helvetica,sans-Serif\" font-size=\"14.00\" fill=\"#000000\">class = TWF</text>\n</g>\n<!-- 29&#45;&gt;30 -->\n<g id=\"edge30\" class=\"edge\">\n<title>29&#45;&gt;30</title>\n<path fill=\"none\" stroke=\"#000000\" d=\"M1187.202,-222.8796C1186.651,-214.6838 1186.0665,-205.9891 1185.4959,-197.5013\"/>\n<polygon fill=\"#000000\" stroke=\"#000000\" points=\"1188.9729,-197.0408 1184.81,-187.2981 1181.9887,-197.5103 1188.9729,-197.0408\"/>\n</g>\n<!-- 33 -->\n<g id=\"node34\" class=\"node\">\n<title>33</title>\n<polygon fill=\"#e58139\" stroke=\"#000000\" points=\"1389,-179.5 1261,-179.5 1261,-111.5 1389,-111.5 1389,-179.5\"/>\n<text text-anchor=\"middle\" x=\"1325\" y=\"-164.3\" font-family=\"Helvetica,sans-Serif\" font-size=\"14.00\" fill=\"#000000\">gini = 0.0</text>\n<text text-anchor=\"middle\" x=\"1325\" y=\"-149.3\" font-family=\"Helvetica,sans-Serif\" font-size=\"14.00\" fill=\"#000000\">samples = 1</text>\n<text text-anchor=\"middle\" x=\"1325\" y=\"-134.3\" font-family=\"Helvetica,sans-Serif\" font-size=\"14.00\" fill=\"#000000\">value = [1, 0]</text>\n<text text-anchor=\"middle\" x=\"1325\" y=\"-119.3\" font-family=\"Helvetica,sans-Serif\" font-size=\"14.00\" fill=\"#000000\">class = No failure</text>\n</g>\n<!-- 29&#45;&gt;33 -->\n<g id=\"edge33\" class=\"edge\">\n<title>29&#45;&gt;33</title>\n<path fill=\"none\" stroke=\"#000000\" d=\"M1237.2164,-222.8796C1250.5642,-211.1138 1265.0785,-198.3197 1278.3904,-186.5855\"/>\n<polygon fill=\"#000000\" stroke=\"#000000\" points=\"1280.884,-189.0531 1286.0713,-179.8149 1276.2552,-183.8019 1280.884,-189.0531\"/>\n</g>\n<!-- 31 -->\n<g id=\"node32\" class=\"node\">\n<title>31</title>\n<polygon fill=\"#3c9ee5\" stroke=\"#000000\" points=\"1170.5,-68 1063.5,-68 1063.5,0 1170.5,0 1170.5,-68\"/>\n<text text-anchor=\"middle\" x=\"1117\" y=\"-52.8\" font-family=\"Helvetica,sans-Serif\" font-size=\"14.00\" fill=\"#000000\">gini = 0.028</text>\n<text text-anchor=\"middle\" x=\"1117\" y=\"-37.8\" font-family=\"Helvetica,sans-Serif\" font-size=\"14.00\" fill=\"#000000\">samples = 70</text>\n<text text-anchor=\"middle\" x=\"1117\" y=\"-22.8\" font-family=\"Helvetica,sans-Serif\" font-size=\"14.00\" fill=\"#000000\">value = [1, 69]</text>\n<text text-anchor=\"middle\" x=\"1117\" y=\"-7.8\" font-family=\"Helvetica,sans-Serif\" font-size=\"14.00\" fill=\"#000000\">class = TWF</text>\n</g>\n<!-- 30&#45;&gt;31 -->\n<g id=\"edge31\" class=\"edge\">\n<title>30&#45;&gt;31</title>\n<path fill=\"none\" stroke=\"#000000\" d=\"M1157.7964,-103.9815C1152.6529,-95.1585 1147.2123,-85.8258 1142.0384,-76.9506\"/>\n<polygon fill=\"#000000\" stroke=\"#000000\" points=\"1145.0344,-75.1402 1136.9743,-68.2637 1138.987,-78.6656 1145.0344,-75.1402\"/>\n</g>\n<!-- 32 -->\n<g id=\"node33\" class=\"node\">\n<title>32</title>\n<polygon fill=\"#399de5\" stroke=\"#000000\" points=\"1305,-68 1189,-68 1189,0 1305,0 1305,-68\"/>\n<text text-anchor=\"middle\" x=\"1247\" y=\"-52.8\" font-family=\"Helvetica,sans-Serif\" font-size=\"14.00\" fill=\"#000000\">gini = 0.0</text>\n<text text-anchor=\"middle\" x=\"1247\" y=\"-37.8\" font-family=\"Helvetica,sans-Serif\" font-size=\"14.00\" fill=\"#000000\">samples = 929</text>\n<text text-anchor=\"middle\" x=\"1247\" y=\"-22.8\" font-family=\"Helvetica,sans-Serif\" font-size=\"14.00\" fill=\"#000000\">value = [0, 929]</text>\n<text text-anchor=\"middle\" x=\"1247\" y=\"-7.8\" font-family=\"Helvetica,sans-Serif\" font-size=\"14.00\" fill=\"#000000\">class = TWF</text>\n</g>\n<!-- 30&#45;&gt;32 -->\n<g id=\"edge32\" class=\"edge\">\n<title>30&#45;&gt;32</title>\n<path fill=\"none\" stroke=\"#000000\" d=\"M1206.2036,-103.9815C1211.3471,-95.1585 1216.7877,-85.8258 1221.9616,-76.9506\"/>\n<polygon fill=\"#000000\" stroke=\"#000000\" points=\"1225.013,-78.6656 1227.0257,-68.2637 1218.9656,-75.1402 1225.013,-78.6656\"/>\n</g>\n<!-- 35 -->\n<g id=\"node36\" class=\"node\">\n<title>35</title>\n<polygon fill=\"#e58139\" stroke=\"#000000\" points=\"1424,-298.5 1296,-298.5 1296,-230.5 1424,-230.5 1424,-298.5\"/>\n<text text-anchor=\"middle\" x=\"1360\" y=\"-283.3\" font-family=\"Helvetica,sans-Serif\" font-size=\"14.00\" fill=\"#000000\">gini = 0.0</text>\n<text text-anchor=\"middle\" x=\"1360\" y=\"-268.3\" font-family=\"Helvetica,sans-Serif\" font-size=\"14.00\" fill=\"#000000\">samples = 15</text>\n<text text-anchor=\"middle\" x=\"1360\" y=\"-253.3\" font-family=\"Helvetica,sans-Serif\" font-size=\"14.00\" fill=\"#000000\">value = [15, 0]</text>\n<text text-anchor=\"middle\" x=\"1360\" y=\"-238.3\" font-family=\"Helvetica,sans-Serif\" font-size=\"14.00\" fill=\"#000000\">class = No failure</text>\n</g>\n<!-- 34&#45;&gt;35 -->\n<g id=\"edge35\" class=\"edge\">\n<title>34&#45;&gt;35</title>\n<path fill=\"none\" stroke=\"#000000\" d=\"M1360,-341.8796C1360,-331.2134 1360,-319.7021 1360,-308.9015\"/>\n<polygon fill=\"#000000\" stroke=\"#000000\" points=\"1363.5001,-308.8149 1360,-298.8149 1356.5001,-308.815 1363.5001,-308.8149\"/>\n</g>\n<!-- 36 -->\n<g id=\"node37\" class=\"node\">\n<title>36</title>\n<polygon fill=\"#399de5\" stroke=\"#000000\" points=\"1549.5,-298.5 1442.5,-298.5 1442.5,-230.5 1549.5,-230.5 1549.5,-298.5\"/>\n<text text-anchor=\"middle\" x=\"1496\" y=\"-283.3\" font-family=\"Helvetica,sans-Serif\" font-size=\"14.00\" fill=\"#000000\">gini = 0.0</text>\n<text text-anchor=\"middle\" x=\"1496\" y=\"-268.3\" font-family=\"Helvetica,sans-Serif\" font-size=\"14.00\" fill=\"#000000\">samples = 71</text>\n<text text-anchor=\"middle\" x=\"1496\" y=\"-253.3\" font-family=\"Helvetica,sans-Serif\" font-size=\"14.00\" fill=\"#000000\">value = [0, 71]</text>\n<text text-anchor=\"middle\" x=\"1496\" y=\"-238.3\" font-family=\"Helvetica,sans-Serif\" font-size=\"14.00\" fill=\"#000000\">class = TWF</text>\n</g>\n<!-- 34&#45;&gt;36 -->\n<g id=\"edge36\" class=\"edge\">\n<title>34&#45;&gt;36</title>\n<path fill=\"none\" stroke=\"#000000\" d=\"M1407.5662,-341.8796C1421.0128,-330.1138 1435.6347,-317.3197 1449.0451,-305.5855\"/>\n<polygon fill=\"#000000\" stroke=\"#000000\" points=\"1451.5619,-308.034 1456.7829,-298.8149 1446.9524,-302.766 1451.5619,-308.034\"/>\n</g>\n<!-- 38 -->\n<g id=\"node39\" class=\"node\">\n<title>38</title>\n<polygon fill=\"#43a2e6\" stroke=\"#000000\" points=\"1929,-663 1717,-663 1717,-580 1929,-580 1929,-663\"/>\n<text text-anchor=\"middle\" x=\"1823\" y=\"-647.8\" font-family=\"Helvetica,sans-Serif\" font-size=\"14.00\" fill=\"#000000\">Process temperature &lt;= 1.381</text>\n<text text-anchor=\"middle\" x=\"1823\" y=\"-632.8\" font-family=\"Helvetica,sans-Serif\" font-size=\"14.00\" fill=\"#000000\">gini = 0.088</text>\n<text text-anchor=\"middle\" x=\"1823\" y=\"-617.8\" font-family=\"Helvetica,sans-Serif\" font-size=\"14.00\" fill=\"#000000\">samples = 3224</text>\n<text text-anchor=\"middle\" x=\"1823\" y=\"-602.8\" font-family=\"Helvetica,sans-Serif\" font-size=\"14.00\" fill=\"#000000\">value = [148, 3076]</text>\n<text text-anchor=\"middle\" x=\"1823\" y=\"-587.8\" font-family=\"Helvetica,sans-Serif\" font-size=\"14.00\" fill=\"#000000\">class = TWF</text>\n</g>\n<!-- 37&#45;&gt;38 -->\n<g id=\"edge38\" class=\"edge\">\n<title>37&#45;&gt;38</title>\n<path fill=\"none\" stroke=\"#000000\" d=\"M1884.1234,-698.8796C1877.0803,-689.9633 1869.5707,-680.4565 1862.3126,-671.268\"/>\n<polygon fill=\"#000000\" stroke=\"#000000\" points=\"1864.9621,-668.9757 1856.017,-663.2981 1859.4691,-673.3147 1864.9621,-668.9757\"/>\n</g>\n<!-- 57 -->\n<g id=\"node58\" class=\"node\">\n<title>57</title>\n<polygon fill=\"#e58139\" stroke=\"#000000\" points=\"2075,-655.5 1947,-655.5 1947,-587.5 2075,-587.5 2075,-655.5\"/>\n<text text-anchor=\"middle\" x=\"2011\" y=\"-640.3\" font-family=\"Helvetica,sans-Serif\" font-size=\"14.00\" fill=\"#000000\">gini = 0.0</text>\n<text text-anchor=\"middle\" x=\"2011\" y=\"-625.3\" font-family=\"Helvetica,sans-Serif\" font-size=\"14.00\" fill=\"#000000\">samples = 17</text>\n<text text-anchor=\"middle\" x=\"2011\" y=\"-610.3\" font-family=\"Helvetica,sans-Serif\" font-size=\"14.00\" fill=\"#000000\">value = [17, 0]</text>\n<text text-anchor=\"middle\" x=\"2011\" y=\"-595.3\" font-family=\"Helvetica,sans-Serif\" font-size=\"14.00\" fill=\"#000000\">class = No failure</text>\n</g>\n<!-- 37&#45;&gt;57 -->\n<g id=\"edge57\" class=\"edge\">\n<title>37&#45;&gt;57</title>\n<path fill=\"none\" stroke=\"#000000\" d=\"M1949.8766,-698.8796C1958.8232,-687.5536 1968.5224,-675.2748 1977.5029,-663.9058\"/>\n<polygon fill=\"#000000\" stroke=\"#000000\" points=\"1980.442,-665.8316 1983.8941,-655.8149 1974.949,-661.4926 1980.442,-665.8316\"/>\n</g>\n<!-- 39 -->\n<g id=\"node40\" class=\"node\">\n<title>39</title>\n<polygon fill=\"#3fa0e6\" stroke=\"#000000\" points=\"1819,-544 1675,-544 1675,-461 1819,-461 1819,-544\"/>\n<text text-anchor=\"middle\" x=\"1747\" y=\"-528.8\" font-family=\"Helvetica,sans-Serif\" font-size=\"14.00\" fill=\"#000000\">Tool wear &lt;= &#45;1.688</text>\n<text text-anchor=\"middle\" x=\"1747\" y=\"-513.8\" font-family=\"Helvetica,sans-Serif\" font-size=\"14.00\" fill=\"#000000\">gini = 0.053</text>\n<text text-anchor=\"middle\" x=\"1747\" y=\"-498.8\" font-family=\"Helvetica,sans-Serif\" font-size=\"14.00\" fill=\"#000000\">samples = 2987</text>\n<text text-anchor=\"middle\" x=\"1747\" y=\"-483.8\" font-family=\"Helvetica,sans-Serif\" font-size=\"14.00\" fill=\"#000000\">value = [82, 2905]</text>\n<text text-anchor=\"middle\" x=\"1747\" y=\"-468.8\" font-family=\"Helvetica,sans-Serif\" font-size=\"14.00\" fill=\"#000000\">class = TWF</text>\n</g>\n<!-- 38&#45;&gt;39 -->\n<g id=\"edge39\" class=\"edge\">\n<title>38&#45;&gt;39</title>\n<path fill=\"none\" stroke=\"#000000\" d=\"M1796.4189,-579.8796C1790.8395,-571.1434 1784.8981,-561.8404 1779.1405,-552.8253\"/>\n<polygon fill=\"#000000\" stroke=\"#000000\" points=\"1782.0269,-550.8421 1773.6946,-544.2981 1776.1274,-554.6098 1782.0269,-550.8421\"/>\n</g>\n<!-- 48 -->\n<g id=\"node49\" class=\"node\">\n<title>48</title>\n<polygon fill=\"#85c3ef\" stroke=\"#000000\" points=\"1961,-544 1837,-544 1837,-461 1961,-461 1961,-544\"/>\n<text text-anchor=\"middle\" x=\"1899\" y=\"-528.8\" font-family=\"Helvetica,sans-Serif\" font-size=\"14.00\" fill=\"#000000\">Power &lt;= 1.431</text>\n<text text-anchor=\"middle\" x=\"1899\" y=\"-513.8\" font-family=\"Helvetica,sans-Serif\" font-size=\"14.00\" fill=\"#000000\">gini = 0.402</text>\n<text text-anchor=\"middle\" x=\"1899\" y=\"-498.8\" font-family=\"Helvetica,sans-Serif\" font-size=\"14.00\" fill=\"#000000\">samples = 237</text>\n<text text-anchor=\"middle\" x=\"1899\" y=\"-483.8\" font-family=\"Helvetica,sans-Serif\" font-size=\"14.00\" fill=\"#000000\">value = [66, 171]</text>\n<text text-anchor=\"middle\" x=\"1899\" y=\"-468.8\" font-family=\"Helvetica,sans-Serif\" font-size=\"14.00\" fill=\"#000000\">class = TWF</text>\n</g>\n<!-- 38&#45;&gt;48 -->\n<g id=\"edge48\" class=\"edge\">\n<title>38&#45;&gt;48</title>\n<path fill=\"none\" stroke=\"#000000\" d=\"M1849.5811,-579.8796C1855.1605,-571.1434 1861.1019,-561.8404 1866.8595,-552.8253\"/>\n<polygon fill=\"#000000\" stroke=\"#000000\" points=\"1869.8726,-554.6098 1872.3054,-544.2981 1863.9731,-550.8421 1869.8726,-554.6098\"/>\n</g>\n<!-- 40 -->\n<g id=\"node41\" class=\"node\">\n<title>40</title>\n<polygon fill=\"#e58139\" stroke=\"#000000\" points=\"1664,-417.5 1536,-417.5 1536,-349.5 1664,-349.5 1664,-417.5\"/>\n<text text-anchor=\"middle\" x=\"1600\" y=\"-402.3\" font-family=\"Helvetica,sans-Serif\" font-size=\"14.00\" fill=\"#000000\">gini = 0.0</text>\n<text text-anchor=\"middle\" x=\"1600\" y=\"-387.3\" font-family=\"Helvetica,sans-Serif\" font-size=\"14.00\" fill=\"#000000\">samples = 2</text>\n<text text-anchor=\"middle\" x=\"1600\" y=\"-372.3\" font-family=\"Helvetica,sans-Serif\" font-size=\"14.00\" fill=\"#000000\">value = [2, 0]</text>\n<text text-anchor=\"middle\" x=\"1600\" y=\"-357.3\" font-family=\"Helvetica,sans-Serif\" font-size=\"14.00\" fill=\"#000000\">class = No failure</text>\n</g>\n<!-- 39&#45;&gt;40 -->\n<g id=\"edge40\" class=\"edge\">\n<title>39&#45;&gt;40</title>\n<path fill=\"none\" stroke=\"#000000\" d=\"M1695.5865,-460.8796C1680.9165,-449.0038 1664.9523,-436.0804 1650.3467,-424.2568\"/>\n<polygon fill=\"#000000\" stroke=\"#000000\" points=\"1652.3637,-421.3866 1642.389,-417.8149 1647.9593,-426.8273 1652.3637,-421.3866\"/>\n</g>\n<!-- 41 -->\n<g id=\"node42\" class=\"node\">\n<title>41</title>\n<polygon fill=\"#3ea0e6\" stroke=\"#000000\" points=\"1814,-425 1682,-425 1682,-342 1814,-342 1814,-425\"/>\n<text text-anchor=\"middle\" x=\"1748\" y=\"-409.8\" font-family=\"Helvetica,sans-Serif\" font-size=\"14.00\" fill=\"#000000\">Power &lt;= &#45;0.392</text>\n<text text-anchor=\"middle\" x=\"1748\" y=\"-394.8\" font-family=\"Helvetica,sans-Serif\" font-size=\"14.00\" fill=\"#000000\">gini = 0.052</text>\n<text text-anchor=\"middle\" x=\"1748\" y=\"-379.8\" font-family=\"Helvetica,sans-Serif\" font-size=\"14.00\" fill=\"#000000\">samples = 2985</text>\n<text text-anchor=\"middle\" x=\"1748\" y=\"-364.8\" font-family=\"Helvetica,sans-Serif\" font-size=\"14.00\" fill=\"#000000\">value = [80, 2905]</text>\n<text text-anchor=\"middle\" x=\"1748\" y=\"-349.8\" font-family=\"Helvetica,sans-Serif\" font-size=\"14.00\" fill=\"#000000\">class = TWF</text>\n</g>\n<!-- 39&#45;&gt;41 -->\n<g id=\"edge41\" class=\"edge\">\n<title>39&#45;&gt;41</title>\n<path fill=\"none\" stroke=\"#000000\" d=\"M1747.3498,-460.8796C1747.4186,-452.6838 1747.4917,-443.9891 1747.563,-435.5013\"/>\n<polygon fill=\"#000000\" stroke=\"#000000\" points=\"1751.0645,-435.3272 1747.6488,-425.2981 1744.0648,-435.2683 1751.0645,-435.3272\"/>\n</g>\n<!-- 42 -->\n<g id=\"node43\" class=\"node\">\n<title>42</title>\n<polygon fill=\"#e58139\" stroke=\"#000000\" points=\"1696,-298.5 1568,-298.5 1568,-230.5 1696,-230.5 1696,-298.5\"/>\n<text text-anchor=\"middle\" x=\"1632\" y=\"-283.3\" font-family=\"Helvetica,sans-Serif\" font-size=\"14.00\" fill=\"#000000\">gini = 0.0</text>\n<text text-anchor=\"middle\" x=\"1632\" y=\"-268.3\" font-family=\"Helvetica,sans-Serif\" font-size=\"14.00\" fill=\"#000000\">samples = 2</text>\n<text text-anchor=\"middle\" x=\"1632\" y=\"-253.3\" font-family=\"Helvetica,sans-Serif\" font-size=\"14.00\" fill=\"#000000\">value = [2, 0]</text>\n<text text-anchor=\"middle\" x=\"1632\" y=\"-238.3\" font-family=\"Helvetica,sans-Serif\" font-size=\"14.00\" fill=\"#000000\">class = No failure</text>\n</g>\n<!-- 41&#45;&gt;42 -->\n<g id=\"edge42\" class=\"edge\">\n<title>41&#45;&gt;42</title>\n<path fill=\"none\" stroke=\"#000000\" d=\"M1707.4288,-341.8796C1696.174,-330.3337 1683.9539,-317.7976 1672.6922,-306.2446\"/>\n<polygon fill=\"#000000\" stroke=\"#000000\" points=\"1674.9364,-303.5326 1665.4499,-298.8149 1669.9238,-308.4188 1674.9364,-303.5326\"/>\n</g>\n<!-- 43 -->\n<g id=\"node44\" class=\"node\">\n<title>43</title>\n<polygon fill=\"#3ea0e6\" stroke=\"#000000\" points=\"1905.5,-306 1714.5,-306 1714.5,-223 1905.5,-223 1905.5,-306\"/>\n<text text-anchor=\"middle\" x=\"1810\" y=\"-290.8\" font-family=\"Helvetica,sans-Serif\" font-size=\"14.00\" fill=\"#000000\">Rotational speed &lt;= &#45;1.999</text>\n<text text-anchor=\"middle\" x=\"1810\" y=\"-275.8\" font-family=\"Helvetica,sans-Serif\" font-size=\"14.00\" fill=\"#000000\">gini = 0.051</text>\n<text text-anchor=\"middle\" x=\"1810\" y=\"-260.8\" font-family=\"Helvetica,sans-Serif\" font-size=\"14.00\" fill=\"#000000\">samples = 2983</text>\n<text text-anchor=\"middle\" x=\"1810\" y=\"-245.8\" font-family=\"Helvetica,sans-Serif\" font-size=\"14.00\" fill=\"#000000\">value = [78, 2905]</text>\n<text text-anchor=\"middle\" x=\"1810\" y=\"-230.8\" font-family=\"Helvetica,sans-Serif\" font-size=\"14.00\" fill=\"#000000\">class = TWF</text>\n</g>\n<!-- 41&#45;&gt;43 -->\n<g id=\"edge43\" class=\"edge\">\n<title>41&#45;&gt;43</title>\n<path fill=\"none\" stroke=\"#000000\" d=\"M1769.6846,-341.8796C1774.1423,-333.3236 1778.8834,-324.2238 1783.4894,-315.3833\"/>\n<polygon fill=\"#000000\" stroke=\"#000000\" points=\"1786.7062,-316.7838 1788.2229,-306.2981 1780.4983,-313.5494 1786.7062,-316.7838\"/>\n</g>\n<!-- 44 -->\n<g id=\"node45\" class=\"node\">\n<title>44</title>\n<polygon fill=\"#e58139\" stroke=\"#000000\" points=\"1708,-179.5 1580,-179.5 1580,-111.5 1708,-111.5 1708,-179.5\"/>\n<text text-anchor=\"middle\" x=\"1644\" y=\"-164.3\" font-family=\"Helvetica,sans-Serif\" font-size=\"14.00\" fill=\"#000000\">gini = 0.0</text>\n<text text-anchor=\"middle\" x=\"1644\" y=\"-149.3\" font-family=\"Helvetica,sans-Serif\" font-size=\"14.00\" fill=\"#000000\">samples = 1</text>\n<text text-anchor=\"middle\" x=\"1644\" y=\"-134.3\" font-family=\"Helvetica,sans-Serif\" font-size=\"14.00\" fill=\"#000000\">value = [1, 0]</text>\n<text text-anchor=\"middle\" x=\"1644\" y=\"-119.3\" font-family=\"Helvetica,sans-Serif\" font-size=\"14.00\" fill=\"#000000\">class = No failure</text>\n</g>\n<!-- 43&#45;&gt;44 -->\n<g id=\"edge44\" class=\"edge\">\n<title>43&#45;&gt;44</title>\n<path fill=\"none\" stroke=\"#000000\" d=\"M1751.9413,-222.8796C1735.142,-210.8368 1716.8401,-197.7167 1700.159,-185.7586\"/>\n<polygon fill=\"#000000\" stroke=\"#000000\" points=\"1701.7668,-182.6047 1691.6002,-179.623 1697.6884,-188.2939 1701.7668,-182.6047\"/>\n</g>\n<!-- 45 -->\n<g id=\"node46\" class=\"node\">\n<title>45</title>\n<polygon fill=\"#3ea0e6\" stroke=\"#000000\" points=\"1894,-187 1726,-187 1726,-104 1894,-104 1894,-187\"/>\n<text text-anchor=\"middle\" x=\"1810\" y=\"-171.8\" font-family=\"Helvetica,sans-Serif\" font-size=\"14.00\" fill=\"#000000\">Air temperature &lt;= 1.28</text>\n<text text-anchor=\"middle\" x=\"1810\" y=\"-156.8\" font-family=\"Helvetica,sans-Serif\" font-size=\"14.00\" fill=\"#000000\">gini = 0.05</text>\n<text text-anchor=\"middle\" x=\"1810\" y=\"-141.8\" font-family=\"Helvetica,sans-Serif\" font-size=\"14.00\" fill=\"#000000\">samples = 2982</text>\n<text text-anchor=\"middle\" x=\"1810\" y=\"-126.8\" font-family=\"Helvetica,sans-Serif\" font-size=\"14.00\" fill=\"#000000\">value = [77, 2905]</text>\n<text text-anchor=\"middle\" x=\"1810\" y=\"-111.8\" font-family=\"Helvetica,sans-Serif\" font-size=\"14.00\" fill=\"#000000\">class = TWF</text>\n</g>\n<!-- 43&#45;&gt;45 -->\n<g id=\"edge45\" class=\"edge\">\n<title>43&#45;&gt;45</title>\n<path fill=\"none\" stroke=\"#000000\" d=\"M1810,-222.8796C1810,-214.6838 1810,-205.9891 1810,-197.5013\"/>\n<polygon fill=\"#000000\" stroke=\"#000000\" points=\"1813.5001,-197.298 1810,-187.2981 1806.5001,-197.2981 1813.5001,-197.298\"/>\n</g>\n<!-- 46 -->\n<g id=\"node47\" class=\"node\">\n<title>46</title>\n<polygon fill=\"#41a1e6\" stroke=\"#000000\" points=\"1770,-68 1638,-68 1638,0 1770,0 1770,-68\"/>\n<text text-anchor=\"middle\" x=\"1704\" y=\"-52.8\" font-family=\"Helvetica,sans-Serif\" font-size=\"14.00\" fill=\"#000000\">gini = 0.075</text>\n<text text-anchor=\"middle\" x=\"1704\" y=\"-37.8\" font-family=\"Helvetica,sans-Serif\" font-size=\"14.00\" fill=\"#000000\">samples = 1858</text>\n<text text-anchor=\"middle\" x=\"1704\" y=\"-22.8\" font-family=\"Helvetica,sans-Serif\" font-size=\"14.00\" fill=\"#000000\">value = [73, 1785]</text>\n<text text-anchor=\"middle\" x=\"1704\" y=\"-7.8\" font-family=\"Helvetica,sans-Serif\" font-size=\"14.00\" fill=\"#000000\">class = TWF</text>\n</g>\n<!-- 45&#45;&gt;46 -->\n<g id=\"edge46\" class=\"edge\">\n<title>45&#45;&gt;46</title>\n<path fill=\"none\" stroke=\"#000000\" d=\"M1770.5295,-103.9815C1761.7048,-94.6989 1752.3438,-84.8522 1743.5173,-75.5677\"/>\n<polygon fill=\"#000000\" stroke=\"#000000\" points=\"1746.0003,-73.0997 1736.5735,-68.2637 1740.927,-77.9228 1746.0003,-73.0997\"/>\n</g>\n<!-- 47 -->\n<g id=\"node48\" class=\"node\">\n<title>47</title>\n<polygon fill=\"#3a9de5\" stroke=\"#000000\" points=\"1912,-68 1788,-68 1788,0 1912,0 1912,-68\"/>\n<text text-anchor=\"middle\" x=\"1850\" y=\"-52.8\" font-family=\"Helvetica,sans-Serif\" font-size=\"14.00\" fill=\"#000000\">gini = 0.007</text>\n<text text-anchor=\"middle\" x=\"1850\" y=\"-37.8\" font-family=\"Helvetica,sans-Serif\" font-size=\"14.00\" fill=\"#000000\">samples = 1124</text>\n<text text-anchor=\"middle\" x=\"1850\" y=\"-22.8\" font-family=\"Helvetica,sans-Serif\" font-size=\"14.00\" fill=\"#000000\">value = [4, 1120]</text>\n<text text-anchor=\"middle\" x=\"1850\" y=\"-7.8\" font-family=\"Helvetica,sans-Serif\" font-size=\"14.00\" fill=\"#000000\">class = TWF</text>\n</g>\n<!-- 45&#45;&gt;47 -->\n<g id=\"edge47\" class=\"edge\">\n<title>45&#45;&gt;47</title>\n<path fill=\"none\" stroke=\"#000000\" d=\"M1824.8945,-103.9815C1827.9608,-95.4342 1831.1987,-86.4086 1834.2928,-77.7839\"/>\n<polygon fill=\"#000000\" stroke=\"#000000\" points=\"1837.6257,-78.8582 1837.7081,-68.2637 1831.0369,-76.4944 1837.6257,-78.8582\"/>\n</g>\n<!-- 49 -->\n<g id=\"node50\" class=\"node\">\n<title>49</title>\n<polygon fill=\"#e58139\" stroke=\"#000000\" points=\"1962,-417.5 1834,-417.5 1834,-349.5 1962,-349.5 1962,-417.5\"/>\n<text text-anchor=\"middle\" x=\"1898\" y=\"-402.3\" font-family=\"Helvetica,sans-Serif\" font-size=\"14.00\" fill=\"#000000\">gini = 0.0</text>\n<text text-anchor=\"middle\" x=\"1898\" y=\"-387.3\" font-family=\"Helvetica,sans-Serif\" font-size=\"14.00\" fill=\"#000000\">samples = 49</text>\n<text text-anchor=\"middle\" x=\"1898\" y=\"-372.3\" font-family=\"Helvetica,sans-Serif\" font-size=\"14.00\" fill=\"#000000\">value = [49, 0]</text>\n<text text-anchor=\"middle\" x=\"1898\" y=\"-357.3\" font-family=\"Helvetica,sans-Serif\" font-size=\"14.00\" fill=\"#000000\">class = No failure</text>\n</g>\n<!-- 48&#45;&gt;49 -->\n<g id=\"edge49\" class=\"edge\">\n<title>48&#45;&gt;49</title>\n<path fill=\"none\" stroke=\"#000000\" d=\"M1898.6502,-460.8796C1898.5606,-450.2134 1898.4639,-438.7021 1898.3731,-427.9015\"/>\n<polygon fill=\"#000000\" stroke=\"#000000\" points=\"1901.8724,-427.7851 1898.2884,-417.8149 1894.8726,-427.844 1901.8724,-427.7851\"/>\n</g>\n<!-- 50 -->\n<g id=\"node51\" class=\"node\">\n<title>50</title>\n<polygon fill=\"#4da7e8\" stroke=\"#000000\" points=\"2171.5,-425 1980.5,-425 1980.5,-342 2171.5,-342 2171.5,-425\"/>\n<text text-anchor=\"middle\" x=\"2076\" y=\"-409.8\" font-family=\"Helvetica,sans-Serif\" font-size=\"14.00\" fill=\"#000000\">Rotational speed &lt;= &#45;1.114</text>\n<text text-anchor=\"middle\" x=\"2076\" y=\"-394.8\" font-family=\"Helvetica,sans-Serif\" font-size=\"14.00\" fill=\"#000000\">gini = 0.164</text>\n<text text-anchor=\"middle\" x=\"2076\" y=\"-379.8\" font-family=\"Helvetica,sans-Serif\" font-size=\"14.00\" fill=\"#000000\">samples = 188</text>\n<text text-anchor=\"middle\" x=\"2076\" y=\"-364.8\" font-family=\"Helvetica,sans-Serif\" font-size=\"14.00\" fill=\"#000000\">value = [17, 171]</text>\n<text text-anchor=\"middle\" x=\"2076\" y=\"-349.8\" font-family=\"Helvetica,sans-Serif\" font-size=\"14.00\" fill=\"#000000\">class = TWF</text>\n</g>\n<!-- 48&#45;&gt;50 -->\n<g id=\"edge50\" class=\"edge\">\n<title>48&#45;&gt;50</title>\n<path fill=\"none\" stroke=\"#000000\" d=\"M1960.906,-460.8796C1975.323,-451.1868 1990.778,-440.7961 2005.5344,-430.8752\"/>\n<polygon fill=\"#000000\" stroke=\"#000000\" points=\"2007.7829,-433.581 2014.1289,-425.0969 2003.8773,-427.7718 2007.7829,-433.581\"/>\n</g>\n<!-- 51 -->\n<g id=\"node52\" class=\"node\">\n<title>51</title>\n<polygon fill=\"#47a4e7\" stroke=\"#000000\" points=\"2102,-306 1926,-306 1926,-223 2102,-223 2102,-306\"/>\n<text text-anchor=\"middle\" x=\"2014\" y=\"-290.8\" font-family=\"Helvetica,sans-Serif\" font-size=\"14.00\" fill=\"#000000\">Air temperature &lt;= 1.405</text>\n<text text-anchor=\"middle\" x=\"2014\" y=\"-275.8\" font-family=\"Helvetica,sans-Serif\" font-size=\"14.00\" fill=\"#000000\">gini = 0.123</text>\n<text text-anchor=\"middle\" x=\"2014\" y=\"-260.8\" font-family=\"Helvetica,sans-Serif\" font-size=\"14.00\" fill=\"#000000\">samples = 183</text>\n<text text-anchor=\"middle\" x=\"2014\" y=\"-245.8\" font-family=\"Helvetica,sans-Serif\" font-size=\"14.00\" fill=\"#000000\">value = [12, 171]</text>\n<text text-anchor=\"middle\" x=\"2014\" y=\"-230.8\" font-family=\"Helvetica,sans-Serif\" font-size=\"14.00\" fill=\"#000000\">class = TWF</text>\n</g>\n<!-- 50&#45;&gt;51 -->\n<g id=\"edge51\" class=\"edge\">\n<title>50&#45;&gt;51</title>\n<path fill=\"none\" stroke=\"#000000\" d=\"M2054.3154,-341.8796C2049.8577,-333.3236 2045.1166,-324.2238 2040.5106,-315.3833\"/>\n<polygon fill=\"#000000\" stroke=\"#000000\" points=\"2043.5017,-313.5494 2035.7771,-306.2981 2037.2938,-316.7838 2043.5017,-313.5494\"/>\n</g>\n<!-- 56 -->\n<g id=\"node57\" class=\"node\">\n<title>56</title>\n<polygon fill=\"#e58139\" stroke=\"#000000\" points=\"2248,-298.5 2120,-298.5 2120,-230.5 2248,-230.5 2248,-298.5\"/>\n<text text-anchor=\"middle\" x=\"2184\" y=\"-283.3\" font-family=\"Helvetica,sans-Serif\" font-size=\"14.00\" fill=\"#000000\">gini = 0.0</text>\n<text text-anchor=\"middle\" x=\"2184\" y=\"-268.3\" font-family=\"Helvetica,sans-Serif\" font-size=\"14.00\" fill=\"#000000\">samples = 5</text>\n<text text-anchor=\"middle\" x=\"2184\" y=\"-253.3\" font-family=\"Helvetica,sans-Serif\" font-size=\"14.00\" fill=\"#000000\">value = [5, 0]</text>\n<text text-anchor=\"middle\" x=\"2184\" y=\"-238.3\" font-family=\"Helvetica,sans-Serif\" font-size=\"14.00\" fill=\"#000000\">class = No failure</text>\n</g>\n<!-- 50&#45;&gt;56 -->\n<g id=\"edge56\" class=\"edge\">\n<title>50&#45;&gt;56</title>\n<path fill=\"none\" stroke=\"#000000\" d=\"M2113.7732,-341.8796C2124.2518,-330.3337 2135.6291,-317.7976 2146.1141,-306.2446\"/>\n<polygon fill=\"#000000\" stroke=\"#000000\" points=\"2148.7282,-308.5722 2152.857,-298.8149 2143.5447,-303.8678 2148.7282,-308.5722\"/>\n</g>\n<!-- 52 -->\n<g id=\"node53\" class=\"node\">\n<title>52</title>\n<polygon fill=\"#e58139\" stroke=\"#000000\" points=\"2040,-179.5 1912,-179.5 1912,-111.5 2040,-111.5 2040,-179.5\"/>\n<text text-anchor=\"middle\" x=\"1976\" y=\"-164.3\" font-family=\"Helvetica,sans-Serif\" font-size=\"14.00\" fill=\"#000000\">gini = 0.0</text>\n<text text-anchor=\"middle\" x=\"1976\" y=\"-149.3\" font-family=\"Helvetica,sans-Serif\" font-size=\"14.00\" fill=\"#000000\">samples = 2</text>\n<text text-anchor=\"middle\" x=\"1976\" y=\"-134.3\" font-family=\"Helvetica,sans-Serif\" font-size=\"14.00\" fill=\"#000000\">value = [2, 0]</text>\n<text text-anchor=\"middle\" x=\"1976\" y=\"-119.3\" font-family=\"Helvetica,sans-Serif\" font-size=\"14.00\" fill=\"#000000\">class = No failure</text>\n</g>\n<!-- 51&#45;&gt;52 -->\n<g id=\"edge52\" class=\"edge\">\n<title>51&#45;&gt;52</title>\n<path fill=\"none\" stroke=\"#000000\" d=\"M2000.7094,-222.8796C1997.2683,-212.1034 1993.5517,-200.4647 1990.0721,-189.5677\"/>\n<polygon fill=\"#000000\" stroke=\"#000000\" points=\"1993.3339,-188.2763 1986.9577,-179.8149 1986.6656,-190.4057 1993.3339,-188.2763\"/>\n</g>\n<!-- 53 -->\n<g id=\"node54\" class=\"node\">\n<title>53</title>\n<polygon fill=\"#45a3e7\" stroke=\"#000000\" points=\"2249.5,-187 2058.5,-187 2058.5,-104 2249.5,-104 2249.5,-187\"/>\n<text text-anchor=\"middle\" x=\"2154\" y=\"-171.8\" font-family=\"Helvetica,sans-Serif\" font-size=\"14.00\" fill=\"#000000\">Rotational speed &lt;= &#45;1.261</text>\n<text text-anchor=\"middle\" x=\"2154\" y=\"-156.8\" font-family=\"Helvetica,sans-Serif\" font-size=\"14.00\" fill=\"#000000\">gini = 0.104</text>\n<text text-anchor=\"middle\" x=\"2154\" y=\"-141.8\" font-family=\"Helvetica,sans-Serif\" font-size=\"14.00\" fill=\"#000000\">samples = 181</text>\n<text text-anchor=\"middle\" x=\"2154\" y=\"-126.8\" font-family=\"Helvetica,sans-Serif\" font-size=\"14.00\" fill=\"#000000\">value = [10, 171]</text>\n<text text-anchor=\"middle\" x=\"2154\" y=\"-111.8\" font-family=\"Helvetica,sans-Serif\" font-size=\"14.00\" fill=\"#000000\">class = TWF</text>\n</g>\n<!-- 51&#45;&gt;53 -->\n<g id=\"edge53\" class=\"edge\">\n<title>51&#45;&gt;53</title>\n<path fill=\"none\" stroke=\"#000000\" d=\"M2062.9652,-222.8796C2073.9847,-213.513 2085.7709,-203.4948 2097.0842,-193.8784\"/>\n<polygon fill=\"#000000\" stroke=\"#000000\" points=\"2099.4732,-196.4414 2104.8258,-187.2981 2094.9396,-191.1078 2099.4732,-196.4414\"/>\n</g>\n<!-- 54 -->\n<g id=\"node55\" class=\"node\">\n<title>54</title>\n<polygon fill=\"#6cb6ec\" stroke=\"#000000\" points=\"2142.5,-68 2035.5,-68 2035.5,0 2142.5,0 2142.5,-68\"/>\n<text text-anchor=\"middle\" x=\"2089\" y=\"-52.8\" font-family=\"Helvetica,sans-Serif\" font-size=\"14.00\" fill=\"#000000\">gini = 0.326</text>\n<text text-anchor=\"middle\" x=\"2089\" y=\"-37.8\" font-family=\"Helvetica,sans-Serif\" font-size=\"14.00\" fill=\"#000000\">samples = 39</text>\n<text text-anchor=\"middle\" x=\"2089\" y=\"-22.8\" font-family=\"Helvetica,sans-Serif\" font-size=\"14.00\" fill=\"#000000\">value = [8, 31]</text>\n<text text-anchor=\"middle\" x=\"2089\" y=\"-7.8\" font-family=\"Helvetica,sans-Serif\" font-size=\"14.00\" fill=\"#000000\">class = TWF</text>\n</g>\n<!-- 53&#45;&gt;54 -->\n<g id=\"edge54\" class=\"edge\">\n<title>53&#45;&gt;54</title>\n<path fill=\"none\" stroke=\"#000000\" d=\"M2129.7964,-103.9815C2124.6529,-95.1585 2119.2123,-85.8258 2114.0384,-76.9506\"/>\n<polygon fill=\"#000000\" stroke=\"#000000\" points=\"2117.0344,-75.1402 2108.9743,-68.2637 2110.987,-78.6656 2117.0344,-75.1402\"/>\n</g>\n<!-- 55 -->\n<g id=\"node56\" class=\"node\">\n<title>55</title>\n<polygon fill=\"#3c9ee5\" stroke=\"#000000\" points=\"2277,-68 2161,-68 2161,0 2277,0 2277,-68\"/>\n<text text-anchor=\"middle\" x=\"2219\" y=\"-52.8\" font-family=\"Helvetica,sans-Serif\" font-size=\"14.00\" fill=\"#000000\">gini = 0.028</text>\n<text text-anchor=\"middle\" x=\"2219\" y=\"-37.8\" font-family=\"Helvetica,sans-Serif\" font-size=\"14.00\" fill=\"#000000\">samples = 142</text>\n<text text-anchor=\"middle\" x=\"2219\" y=\"-22.8\" font-family=\"Helvetica,sans-Serif\" font-size=\"14.00\" fill=\"#000000\">value = [2, 140]</text>\n<text text-anchor=\"middle\" x=\"2219\" y=\"-7.8\" font-family=\"Helvetica,sans-Serif\" font-size=\"14.00\" fill=\"#000000\">class = TWF</text>\n</g>\n<!-- 53&#45;&gt;55 -->\n<g id=\"edge55\" class=\"edge\">\n<title>53&#45;&gt;55</title>\n<path fill=\"none\" stroke=\"#000000\" d=\"M2178.2036,-103.9815C2183.3471,-95.1585 2188.7877,-85.8258 2193.9616,-76.9506\"/>\n<polygon fill=\"#000000\" stroke=\"#000000\" points=\"2197.013,-78.6656 2199.0257,-68.2637 2190.9656,-75.1402 2197.013,-78.6656\"/>\n</g>\n<!-- 59 -->\n<g id=\"node60\" class=\"node\">\n<title>59</title>\n<polygon fill=\"#e88f4e\" stroke=\"#000000\" points=\"3278,-782 3138,-782 3138,-699 3278,-699 3278,-782\"/>\n<text text-anchor=\"middle\" x=\"3208\" y=\"-766.8\" font-family=\"Helvetica,sans-Serif\" font-size=\"14.00\" fill=\"#000000\">Torque &lt;= 2.039</text>\n<text text-anchor=\"middle\" x=\"3208\" y=\"-751.8\" font-family=\"Helvetica,sans-Serif\" font-size=\"14.00\" fill=\"#000000\">gini = 0.175</text>\n<text text-anchor=\"middle\" x=\"3208\" y=\"-736.8\" font-family=\"Helvetica,sans-Serif\" font-size=\"14.00\" fill=\"#000000\">samples = 5685</text>\n<text text-anchor=\"middle\" x=\"3208\" y=\"-721.8\" font-family=\"Helvetica,sans-Serif\" font-size=\"14.00\" fill=\"#000000\">value = [5134, 551]</text>\n<text text-anchor=\"middle\" x=\"3208\" y=\"-706.8\" font-family=\"Helvetica,sans-Serif\" font-size=\"14.00\" fill=\"#000000\">class = No failure</text>\n</g>\n<!-- 58&#45;&gt;59 -->\n<g id=\"edge59\" class=\"edge\">\n<title>58&#45;&gt;59</title>\n<path fill=\"none\" stroke=\"#000000\" d=\"M3208,-817.8796C3208,-809.6838 3208,-800.9891 3208,-792.5013\"/>\n<polygon fill=\"#000000\" stroke=\"#000000\" points=\"3211.5001,-792.298 3208,-782.2981 3204.5001,-792.2981 3211.5001,-792.298\"/>\n</g>\n<!-- 94 -->\n<g id=\"node95\" class=\"node\">\n<title>94</title>\n<polygon fill=\"#71b9ec\" stroke=\"#000000\" points=\"4001,-782 3861,-782 3861,-699 4001,-699 4001,-782\"/>\n<text text-anchor=\"middle\" x=\"3931\" y=\"-766.8\" font-family=\"Helvetica,sans-Serif\" font-size=\"14.00\" fill=\"#000000\">Tool wear &lt;= 1.54</text>\n<text text-anchor=\"middle\" x=\"3931\" y=\"-751.8\" font-family=\"Helvetica,sans-Serif\" font-size=\"14.00\" fill=\"#000000\">gini = 0.344</text>\n<text text-anchor=\"middle\" x=\"3931\" y=\"-736.8\" font-family=\"Helvetica,sans-Serif\" font-size=\"14.00\" fill=\"#000000\">samples = 1810</text>\n<text text-anchor=\"middle\" x=\"3931\" y=\"-721.8\" font-family=\"Helvetica,sans-Serif\" font-size=\"14.00\" fill=\"#000000\">value = [400, 1410]</text>\n<text text-anchor=\"middle\" x=\"3931\" y=\"-706.8\" font-family=\"Helvetica,sans-Serif\" font-size=\"14.00\" fill=\"#000000\">class = TWF</text>\n</g>\n<!-- 58&#45;&gt;94 -->\n<g id=\"edge94\" class=\"edge\">\n<title>58&#45;&gt;94</title>\n<path fill=\"none\" stroke=\"#000000\" d=\"M3282.6505,-847.2131C3419.621,-824.6689 3709.9287,-776.8866 3850.8744,-753.688\"/>\n<polygon fill=\"#000000\" stroke=\"#000000\" points=\"3851.4614,-757.1386 3860.7602,-752.0609 3850.3245,-750.2315 3851.4614,-757.1386\"/>\n</g>\n<!-- 60 -->\n<g id=\"node61\" class=\"node\">\n<title>60</title>\n<polygon fill=\"#e78a47\" stroke=\"#000000\" points=\"3203,-663 3063,-663 3063,-580 3203,-580 3203,-663\"/>\n<text text-anchor=\"middle\" x=\"3133\" y=\"-647.8\" font-family=\"Helvetica,sans-Serif\" font-size=\"14.00\" fill=\"#000000\">Tool wear &lt;= 0.372</text>\n<text text-anchor=\"middle\" x=\"3133\" y=\"-632.8\" font-family=\"Helvetica,sans-Serif\" font-size=\"14.00\" fill=\"#000000\">gini = 0.126</text>\n<text text-anchor=\"middle\" x=\"3133\" y=\"-617.8\" font-family=\"Helvetica,sans-Serif\" font-size=\"14.00\" fill=\"#000000\">samples = 5497</text>\n<text text-anchor=\"middle\" x=\"3133\" y=\"-602.8\" font-family=\"Helvetica,sans-Serif\" font-size=\"14.00\" fill=\"#000000\">value = [5127, 370]</text>\n<text text-anchor=\"middle\" x=\"3133\" y=\"-587.8\" font-family=\"Helvetica,sans-Serif\" font-size=\"14.00\" fill=\"#000000\">class = No failure</text>\n</g>\n<!-- 59&#45;&gt;60 -->\n<g id=\"edge60\" class=\"edge\">\n<title>59&#45;&gt;60</title>\n<path fill=\"none\" stroke=\"#000000\" d=\"M3181.7686,-698.8796C3176.2627,-690.1434 3170.3994,-680.8404 3164.7176,-671.8253\"/>\n<polygon fill=\"#000000\" stroke=\"#000000\" points=\"3167.6363,-669.8919 3159.3433,-663.2981 3161.7143,-673.6242 3167.6363,-669.8919\"/>\n</g>\n<!-- 89 -->\n<g id=\"node90\" class=\"node\">\n<title>89</title>\n<polygon fill=\"#41a1e6\" stroke=\"#000000\" points=\"3371,-663 3227,-663 3227,-580 3371,-580 3371,-663\"/>\n<text text-anchor=\"middle\" x=\"3299\" y=\"-647.8\" font-family=\"Helvetica,sans-Serif\" font-size=\"14.00\" fill=\"#000000\">Tool wear &lt;= &#45;0.188</text>\n<text text-anchor=\"middle\" x=\"3299\" y=\"-632.8\" font-family=\"Helvetica,sans-Serif\" font-size=\"14.00\" fill=\"#000000\">gini = 0.072</text>\n<text text-anchor=\"middle\" x=\"3299\" y=\"-617.8\" font-family=\"Helvetica,sans-Serif\" font-size=\"14.00\" fill=\"#000000\">samples = 188</text>\n<text text-anchor=\"middle\" x=\"3299\" y=\"-602.8\" font-family=\"Helvetica,sans-Serif\" font-size=\"14.00\" fill=\"#000000\">value = [7, 181]</text>\n<text text-anchor=\"middle\" x=\"3299\" y=\"-587.8\" font-family=\"Helvetica,sans-Serif\" font-size=\"14.00\" fill=\"#000000\">class = TWF</text>\n</g>\n<!-- 59&#45;&gt;89 -->\n<g id=\"edge89\" class=\"edge\">\n<title>59&#45;&gt;89</title>\n<path fill=\"none\" stroke=\"#000000\" d=\"M3239.8274,-698.8796C3246.6457,-689.9633 3253.9156,-680.4565 3260.9421,-671.268\"/>\n<polygon fill=\"#000000\" stroke=\"#000000\" points=\"3263.7425,-673.3678 3267.0368,-663.2981 3258.182,-669.1156 3263.7425,-673.3678\"/>\n</g>\n<!-- 61 -->\n<g id=\"node62\" class=\"node\">\n<title>61</title>\n<polygon fill=\"#e6843e\" stroke=\"#000000\" points=\"2853,-544 2641,-544 2641,-461 2853,-461 2853,-544\"/>\n<text text-anchor=\"middle\" x=\"2747\" y=\"-528.8\" font-family=\"Helvetica,sans-Serif\" font-size=\"14.00\" fill=\"#000000\">Process temperature &lt;= 1.449</text>\n<text text-anchor=\"middle\" x=\"2747\" y=\"-513.8\" font-family=\"Helvetica,sans-Serif\" font-size=\"14.00\" fill=\"#000000\">gini = 0.049</text>\n<text text-anchor=\"middle\" x=\"2747\" y=\"-498.8\" font-family=\"Helvetica,sans-Serif\" font-size=\"14.00\" fill=\"#000000\">samples = 3440</text>\n<text text-anchor=\"middle\" x=\"2747\" y=\"-483.8\" font-family=\"Helvetica,sans-Serif\" font-size=\"14.00\" fill=\"#000000\">value = [3354, 86]</text>\n<text text-anchor=\"middle\" x=\"2747\" y=\"-468.8\" font-family=\"Helvetica,sans-Serif\" font-size=\"14.00\" fill=\"#000000\">class = No failure</text>\n</g>\n<!-- 60&#45;&gt;61 -->\n<g id=\"edge61\" class=\"edge\">\n<title>60&#45;&gt;61</title>\n<path fill=\"none\" stroke=\"#000000\" d=\"M3062.6505,-599.8119C3007.012,-582.6591 2928.1531,-558.3477 2863.177,-538.3162\"/>\n<polygon fill=\"#000000\" stroke=\"#000000\" points=\"2863.8726,-534.8682 2853.2852,-535.2667 2861.8103,-541.5575 2863.8726,-534.8682\"/>\n</g>\n<!-- 74 -->\n<g id=\"node75\" class=\"node\">\n<title>74</title>\n<polygon fill=\"#e99559\" stroke=\"#000000\" points=\"3203,-544 3063,-544 3063,-461 3203,-461 3203,-544\"/>\n<text text-anchor=\"middle\" x=\"3133\" y=\"-528.8\" font-family=\"Helvetica,sans-Serif\" font-size=\"14.00\" fill=\"#000000\">Tool wear &lt;= 0.388</text>\n<text text-anchor=\"middle\" x=\"3133\" y=\"-513.8\" font-family=\"Helvetica,sans-Serif\" font-size=\"14.00\" fill=\"#000000\">gini = 0.238</text>\n<text text-anchor=\"middle\" x=\"3133\" y=\"-498.8\" font-family=\"Helvetica,sans-Serif\" font-size=\"14.00\" fill=\"#000000\">samples = 2057</text>\n<text text-anchor=\"middle\" x=\"3133\" y=\"-483.8\" font-family=\"Helvetica,sans-Serif\" font-size=\"14.00\" fill=\"#000000\">value = [1773, 284]</text>\n<text text-anchor=\"middle\" x=\"3133\" y=\"-468.8\" font-family=\"Helvetica,sans-Serif\" font-size=\"14.00\" fill=\"#000000\">class = No failure</text>\n</g>\n<!-- 60&#45;&gt;74 -->\n<g id=\"edge74\" class=\"edge\">\n<title>60&#45;&gt;74</title>\n<path fill=\"none\" stroke=\"#000000\" d=\"M3133,-579.8796C3133,-571.6838 3133,-562.9891 3133,-554.5013\"/>\n<polygon fill=\"#000000\" stroke=\"#000000\" points=\"3136.5001,-554.298 3133,-544.2981 3129.5001,-554.2981 3136.5001,-554.298\"/>\n</g>\n<!-- 62 -->\n<g id=\"node63\" class=\"node\">\n<title>62</title>\n<polygon fill=\"#e5823b\" stroke=\"#000000\" points=\"2544,-425 2412,-425 2412,-342 2544,-342 2544,-425\"/>\n<text text-anchor=\"middle\" x=\"2478\" y=\"-409.8\" font-family=\"Helvetica,sans-Serif\" font-size=\"14.00\" fill=\"#000000\">Power &lt;= &#45;1.536</text>\n<text text-anchor=\"middle\" x=\"2478\" y=\"-394.8\" font-family=\"Helvetica,sans-Serif\" font-size=\"14.00\" fill=\"#000000\">gini = 0.023</text>\n<text text-anchor=\"middle\" x=\"2478\" y=\"-379.8\" font-family=\"Helvetica,sans-Serif\" font-size=\"14.00\" fill=\"#000000\">samples = 3125</text>\n<text text-anchor=\"middle\" x=\"2478\" y=\"-364.8\" font-family=\"Helvetica,sans-Serif\" font-size=\"14.00\" fill=\"#000000\">value = [3089, 36]</text>\n<text text-anchor=\"middle\" x=\"2478\" y=\"-349.8\" font-family=\"Helvetica,sans-Serif\" font-size=\"14.00\" fill=\"#000000\">class = No failure</text>\n</g>\n<!-- 61&#45;&gt;62 -->\n<g id=\"edge62\" class=\"edge\">\n<title>61&#45;&gt;62</title>\n<path fill=\"none\" stroke=\"#000000\" d=\"M2652.9169,-460.8796C2620.3759,-446.4841 2584.3553,-430.5494 2553.5009,-416.9\"/>\n<polygon fill=\"#000000\" stroke=\"#000000\" points=\"2554.6619,-413.5865 2544.1008,-412.7416 2551.83,-419.9881 2554.6619,-413.5865\"/>\n</g>\n<!-- 67 -->\n<g id=\"node68\" class=\"node\">\n<title>67</title>\n<polygon fill=\"#ea995e\" stroke=\"#000000\" points=\"2853,-425 2641,-425 2641,-342 2853,-342 2853,-425\"/>\n<text text-anchor=\"middle\" x=\"2747\" y=\"-409.8\" font-family=\"Helvetica,sans-Serif\" font-size=\"14.00\" fill=\"#000000\">Process temperature &lt;= 1.516</text>\n<text text-anchor=\"middle\" x=\"2747\" y=\"-394.8\" font-family=\"Helvetica,sans-Serif\" font-size=\"14.00\" fill=\"#000000\">gini = 0.267</text>\n<text text-anchor=\"middle\" x=\"2747\" y=\"-379.8\" font-family=\"Helvetica,sans-Serif\" font-size=\"14.00\" fill=\"#000000\">samples = 315</text>\n<text text-anchor=\"middle\" x=\"2747\" y=\"-364.8\" font-family=\"Helvetica,sans-Serif\" font-size=\"14.00\" fill=\"#000000\">value = [265, 50]</text>\n<text text-anchor=\"middle\" x=\"2747\" y=\"-349.8\" font-family=\"Helvetica,sans-Serif\" font-size=\"14.00\" fill=\"#000000\">class = No failure</text>\n</g>\n<!-- 61&#45;&gt;67 -->\n<g id=\"edge67\" class=\"edge\">\n<title>61&#45;&gt;67</title>\n<path fill=\"none\" stroke=\"#000000\" d=\"M2747,-460.8796C2747,-452.6838 2747,-443.9891 2747,-435.5013\"/>\n<polygon fill=\"#000000\" stroke=\"#000000\" points=\"2750.5001,-435.298 2747,-425.2981 2743.5001,-435.2981 2750.5001,-435.298\"/>\n</g>\n<!-- 63 -->\n<g id=\"node64\" class=\"node\">\n<title>63</title>\n<polygon fill=\"#e9965a\" stroke=\"#000000\" points=\"2396,-306 2268,-306 2268,-223 2396,-223 2396,-306\"/>\n<text text-anchor=\"middle\" x=\"2332\" y=\"-290.8\" font-family=\"Helvetica,sans-Serif\" font-size=\"14.00\" fill=\"#000000\">Power &lt;= &#45;1.54</text>\n<text text-anchor=\"middle\" x=\"2332\" y=\"-275.8\" font-family=\"Helvetica,sans-Serif\" font-size=\"14.00\" fill=\"#000000\">gini = 0.247</text>\n<text text-anchor=\"middle\" x=\"2332\" y=\"-260.8\" font-family=\"Helvetica,sans-Serif\" font-size=\"14.00\" fill=\"#000000\">samples = 249</text>\n<text text-anchor=\"middle\" x=\"2332\" y=\"-245.8\" font-family=\"Helvetica,sans-Serif\" font-size=\"14.00\" fill=\"#000000\">value = [213, 36]</text>\n<text text-anchor=\"middle\" x=\"2332\" y=\"-230.8\" font-family=\"Helvetica,sans-Serif\" font-size=\"14.00\" fill=\"#000000\">class = No failure</text>\n</g>\n<!-- 62&#45;&gt;63 -->\n<g id=\"edge63\" class=\"edge\">\n<title>62&#45;&gt;63</title>\n<path fill=\"none\" stroke=\"#000000\" d=\"M2426.9363,-341.8796C2415.4445,-332.513 2403.1532,-322.4948 2391.355,-312.8784\"/>\n<polygon fill=\"#000000\" stroke=\"#000000\" points=\"2393.2444,-309.903 2383.2817,-306.2981 2388.8218,-315.329 2393.2444,-309.903\"/>\n</g>\n<!-- 66 -->\n<g id=\"node67\" class=\"node\">\n<title>66</title>\n<polygon fill=\"#e58139\" stroke=\"#000000\" points=\"2542,-298.5 2414,-298.5 2414,-230.5 2542,-230.5 2542,-298.5\"/>\n<text text-anchor=\"middle\" x=\"2478\" y=\"-283.3\" font-family=\"Helvetica,sans-Serif\" font-size=\"14.00\" fill=\"#000000\">gini = 0.0</text>\n<text text-anchor=\"middle\" x=\"2478\" y=\"-268.3\" font-family=\"Helvetica,sans-Serif\" font-size=\"14.00\" fill=\"#000000\">samples = 2876</text>\n<text text-anchor=\"middle\" x=\"2478\" y=\"-253.3\" font-family=\"Helvetica,sans-Serif\" font-size=\"14.00\" fill=\"#000000\">value = [2876, 0]</text>\n<text text-anchor=\"middle\" x=\"2478\" y=\"-238.3\" font-family=\"Helvetica,sans-Serif\" font-size=\"14.00\" fill=\"#000000\">class = No failure</text>\n</g>\n<!-- 62&#45;&gt;66 -->\n<g id=\"edge66\" class=\"edge\">\n<title>62&#45;&gt;66</title>\n<path fill=\"none\" stroke=\"#000000\" d=\"M2478,-341.8796C2478,-331.2134 2478,-319.7021 2478,-308.9015\"/>\n<polygon fill=\"#000000\" stroke=\"#000000\" points=\"2481.5001,-308.8149 2478,-298.8149 2474.5001,-308.815 2481.5001,-308.8149\"/>\n</g>\n<!-- 64 -->\n<g id=\"node65\" class=\"node\">\n<title>64</title>\n<polygon fill=\"#e58139\" stroke=\"#000000\" points=\"2396,-179.5 2268,-179.5 2268,-111.5 2396,-111.5 2396,-179.5\"/>\n<text text-anchor=\"middle\" x=\"2332\" y=\"-164.3\" font-family=\"Helvetica,sans-Serif\" font-size=\"14.00\" fill=\"#000000\">gini = 0.0</text>\n<text text-anchor=\"middle\" x=\"2332\" y=\"-149.3\" font-family=\"Helvetica,sans-Serif\" font-size=\"14.00\" fill=\"#000000\">samples = 213</text>\n<text text-anchor=\"middle\" x=\"2332\" y=\"-134.3\" font-family=\"Helvetica,sans-Serif\" font-size=\"14.00\" fill=\"#000000\">value = [213, 0]</text>\n<text text-anchor=\"middle\" x=\"2332\" y=\"-119.3\" font-family=\"Helvetica,sans-Serif\" font-size=\"14.00\" fill=\"#000000\">class = No failure</text>\n</g>\n<!-- 63&#45;&gt;64 -->\n<g id=\"edge64\" class=\"edge\">\n<title>63&#45;&gt;64</title>\n<path fill=\"none\" stroke=\"#000000\" d=\"M2332,-222.8796C2332,-212.2134 2332,-200.7021 2332,-189.9015\"/>\n<polygon fill=\"#000000\" stroke=\"#000000\" points=\"2335.5001,-189.8149 2332,-179.8149 2328.5001,-189.815 2335.5001,-189.8149\"/>\n</g>\n<!-- 65 -->\n<g id=\"node66\" class=\"node\">\n<title>65</title>\n<polygon fill=\"#399de5\" stroke=\"#000000\" points=\"2521.5,-179.5 2414.5,-179.5 2414.5,-111.5 2521.5,-111.5 2521.5,-179.5\"/>\n<text text-anchor=\"middle\" x=\"2468\" y=\"-164.3\" font-family=\"Helvetica,sans-Serif\" font-size=\"14.00\" fill=\"#000000\">gini = 0.0</text>\n<text text-anchor=\"middle\" x=\"2468\" y=\"-149.3\" font-family=\"Helvetica,sans-Serif\" font-size=\"14.00\" fill=\"#000000\">samples = 36</text>\n<text text-anchor=\"middle\" x=\"2468\" y=\"-134.3\" font-family=\"Helvetica,sans-Serif\" font-size=\"14.00\" fill=\"#000000\">value = [0, 36]</text>\n<text text-anchor=\"middle\" x=\"2468\" y=\"-119.3\" font-family=\"Helvetica,sans-Serif\" font-size=\"14.00\" fill=\"#000000\">class = TWF</text>\n</g>\n<!-- 63&#45;&gt;65 -->\n<g id=\"edge65\" class=\"edge\">\n<title>63&#45;&gt;65</title>\n<path fill=\"none\" stroke=\"#000000\" d=\"M2379.5662,-222.8796C2393.0128,-211.1138 2407.6347,-198.3197 2421.0451,-186.5855\"/>\n<polygon fill=\"#000000\" stroke=\"#000000\" points=\"2423.5619,-189.034 2428.7829,-179.8149 2418.9524,-183.766 2423.5619,-189.034\"/>\n</g>\n<!-- 68 -->\n<g id=\"node69\" class=\"node\">\n<title>68</title>\n<polygon fill=\"#88c4ef\" stroke=\"#000000\" points=\"2743.5,-306 2560.5,-306 2560.5,-223 2743.5,-223 2743.5,-306\"/>\n<text text-anchor=\"middle\" x=\"2652\" y=\"-290.8\" font-family=\"Helvetica,sans-Serif\" font-size=\"14.00\" fill=\"#000000\">Rotational speed &lt;= &#45;0.05</text>\n<text text-anchor=\"middle\" x=\"2652\" y=\"-275.8\" font-family=\"Helvetica,sans-Serif\" font-size=\"14.00\" fill=\"#000000\">gini = 0.408</text>\n<text text-anchor=\"middle\" x=\"2652\" y=\"-260.8\" font-family=\"Helvetica,sans-Serif\" font-size=\"14.00\" fill=\"#000000\">samples = 70</text>\n<text text-anchor=\"middle\" x=\"2652\" y=\"-245.8\" font-family=\"Helvetica,sans-Serif\" font-size=\"14.00\" fill=\"#000000\">value = [20, 50]</text>\n<text text-anchor=\"middle\" x=\"2652\" y=\"-230.8\" font-family=\"Helvetica,sans-Serif\" font-size=\"14.00\" fill=\"#000000\">class = TWF</text>\n</g>\n<!-- 67&#45;&gt;68 -->\n<g id=\"edge68\" class=\"edge\">\n<title>67&#45;&gt;68</title>\n<path fill=\"none\" stroke=\"#000000\" d=\"M2713.7736,-341.8796C2706.6556,-332.9633 2699.0661,-323.4565 2691.7308,-314.268\"/>\n<polygon fill=\"#000000\" stroke=\"#000000\" points=\"2694.3425,-311.9295 2685.3682,-306.2981 2688.8719,-316.2968 2694.3425,-311.9295\"/>\n</g>\n<!-- 73 -->\n<g id=\"node74\" class=\"node\">\n<title>73</title>\n<polygon fill=\"#e58139\" stroke=\"#000000\" points=\"2890,-298.5 2762,-298.5 2762,-230.5 2890,-230.5 2890,-298.5\"/>\n<text text-anchor=\"middle\" x=\"2826\" y=\"-283.3\" font-family=\"Helvetica,sans-Serif\" font-size=\"14.00\" fill=\"#000000\">gini = 0.0</text>\n<text text-anchor=\"middle\" x=\"2826\" y=\"-268.3\" font-family=\"Helvetica,sans-Serif\" font-size=\"14.00\" fill=\"#000000\">samples = 245</text>\n<text text-anchor=\"middle\" x=\"2826\" y=\"-253.3\" font-family=\"Helvetica,sans-Serif\" font-size=\"14.00\" fill=\"#000000\">value = [245, 0]</text>\n<text text-anchor=\"middle\" x=\"2826\" y=\"-238.3\" font-family=\"Helvetica,sans-Serif\" font-size=\"14.00\" fill=\"#000000\">class = No failure</text>\n</g>\n<!-- 67&#45;&gt;73 -->\n<g id=\"edge73\" class=\"edge\">\n<title>67&#45;&gt;73</title>\n<path fill=\"none\" stroke=\"#000000\" d=\"M2774.6304,-341.8796C2782.0763,-330.6636 2790.1425,-318.5131 2797.6282,-307.2372\"/>\n<polygon fill=\"#000000\" stroke=\"#000000\" points=\"2800.6046,-309.082 2803.2195,-298.8149 2794.7727,-305.2104 2800.6046,-309.082\"/>\n</g>\n<!-- 69 -->\n<g id=\"node70\" class=\"node\">\n<title>69</title>\n<polygon fill=\"#41a1e6\" stroke=\"#000000\" points=\"2688.5,-187 2565.5,-187 2565.5,-104 2688.5,-104 2688.5,-187\"/>\n<text text-anchor=\"middle\" x=\"2627\" y=\"-171.8\" font-family=\"Helvetica,sans-Serif\" font-size=\"14.00\" fill=\"#000000\">Power &lt;= &#45;0.154</text>\n<text text-anchor=\"middle\" x=\"2627\" y=\"-156.8\" font-family=\"Helvetica,sans-Serif\" font-size=\"14.00\" fill=\"#000000\">gini = 0.074</text>\n<text text-anchor=\"middle\" x=\"2627\" y=\"-141.8\" font-family=\"Helvetica,sans-Serif\" font-size=\"14.00\" fill=\"#000000\">samples = 52</text>\n<text text-anchor=\"middle\" x=\"2627\" y=\"-126.8\" font-family=\"Helvetica,sans-Serif\" font-size=\"14.00\" fill=\"#000000\">value = [2, 50]</text>\n<text text-anchor=\"middle\" x=\"2627\" y=\"-111.8\" font-family=\"Helvetica,sans-Serif\" font-size=\"14.00\" fill=\"#000000\">class = TWF</text>\n</g>\n<!-- 68&#45;&gt;69 -->\n<g id=\"edge69\" class=\"edge\">\n<title>68&#45;&gt;69</title>\n<path fill=\"none\" stroke=\"#000000\" d=\"M2643.2562,-222.8796C2641.5155,-214.5938 2639.6676,-205.798 2637.8659,-197.2216\"/>\n<polygon fill=\"#000000\" stroke=\"#000000\" points=\"2641.2624,-196.3648 2635.7811,-187.2981 2634.4119,-197.8041 2641.2624,-196.3648\"/>\n</g>\n<!-- 72 -->\n<g id=\"node73\" class=\"node\">\n<title>72</title>\n<polygon fill=\"#e58139\" stroke=\"#000000\" points=\"2835,-179.5 2707,-179.5 2707,-111.5 2835,-111.5 2835,-179.5\"/>\n<text text-anchor=\"middle\" x=\"2771\" y=\"-164.3\" font-family=\"Helvetica,sans-Serif\" font-size=\"14.00\" fill=\"#000000\">gini = 0.0</text>\n<text text-anchor=\"middle\" x=\"2771\" y=\"-149.3\" font-family=\"Helvetica,sans-Serif\" font-size=\"14.00\" fill=\"#000000\">samples = 18</text>\n<text text-anchor=\"middle\" x=\"2771\" y=\"-134.3\" font-family=\"Helvetica,sans-Serif\" font-size=\"14.00\" fill=\"#000000\">value = [18, 0]</text>\n<text text-anchor=\"middle\" x=\"2771\" y=\"-119.3\" font-family=\"Helvetica,sans-Serif\" font-size=\"14.00\" fill=\"#000000\">class = No failure</text>\n</g>\n<!-- 68&#45;&gt;72 -->\n<g id=\"edge72\" class=\"edge\">\n<title>68&#45;&gt;72</title>\n<path fill=\"none\" stroke=\"#000000\" d=\"M2693.6204,-222.8796C2705.2763,-211.2237 2717.9413,-198.5587 2729.5852,-186.9148\"/>\n<polygon fill=\"#000000\" stroke=\"#000000\" points=\"2732.0889,-189.3609 2736.6851,-179.8149 2727.1391,-184.4111 2732.0889,-189.3609\"/>\n</g>\n<!-- 70 -->\n<g id=\"node71\" class=\"node\">\n<title>70</title>\n<polygon fill=\"#399de5\" stroke=\"#000000\" points=\"2612.5,-68 2505.5,-68 2505.5,0 2612.5,0 2612.5,-68\"/>\n<text text-anchor=\"middle\" x=\"2559\" y=\"-52.8\" font-family=\"Helvetica,sans-Serif\" font-size=\"14.00\" fill=\"#000000\">gini = 0.0</text>\n<text text-anchor=\"middle\" x=\"2559\" y=\"-37.8\" font-family=\"Helvetica,sans-Serif\" font-size=\"14.00\" fill=\"#000000\">samples = 50</text>\n<text text-anchor=\"middle\" x=\"2559\" y=\"-22.8\" font-family=\"Helvetica,sans-Serif\" font-size=\"14.00\" fill=\"#000000\">value = [0, 50]</text>\n<text text-anchor=\"middle\" x=\"2559\" y=\"-7.8\" font-family=\"Helvetica,sans-Serif\" font-size=\"14.00\" fill=\"#000000\">class = TWF</text>\n</g>\n<!-- 69&#45;&gt;70 -->\n<g id=\"edge70\" class=\"edge\">\n<title>69&#45;&gt;70</title>\n<path fill=\"none\" stroke=\"#000000\" d=\"M2601.6793,-103.9815C2596.2984,-95.1585 2590.6068,-85.8258 2585.1941,-76.9506\"/>\n<polygon fill=\"#000000\" stroke=\"#000000\" points=\"2588.0912,-74.9789 2579.8962,-68.2637 2582.1149,-78.6236 2588.0912,-74.9789\"/>\n</g>\n<!-- 71 -->\n<g id=\"node72\" class=\"node\">\n<title>71</title>\n<polygon fill=\"#e58139\" stroke=\"#000000\" points=\"2759,-68 2631,-68 2631,0 2759,0 2759,-68\"/>\n<text text-anchor=\"middle\" x=\"2695\" y=\"-52.8\" font-family=\"Helvetica,sans-Serif\" font-size=\"14.00\" fill=\"#000000\">gini = 0.0</text>\n<text text-anchor=\"middle\" x=\"2695\" y=\"-37.8\" font-family=\"Helvetica,sans-Serif\" font-size=\"14.00\" fill=\"#000000\">samples = 2</text>\n<text text-anchor=\"middle\" x=\"2695\" y=\"-22.8\" font-family=\"Helvetica,sans-Serif\" font-size=\"14.00\" fill=\"#000000\">value = [2, 0]</text>\n<text text-anchor=\"middle\" x=\"2695\" y=\"-7.8\" font-family=\"Helvetica,sans-Serif\" font-size=\"14.00\" fill=\"#000000\">class = No failure</text>\n</g>\n<!-- 69&#45;&gt;71 -->\n<g id=\"edge71\" class=\"edge\">\n<title>69&#45;&gt;71</title>\n<path fill=\"none\" stroke=\"#000000\" d=\"M2652.3207,-103.9815C2657.7016,-95.1585 2663.3932,-85.8258 2668.8059,-76.9506\"/>\n<polygon fill=\"#000000\" stroke=\"#000000\" points=\"2671.8851,-78.6236 2674.1038,-68.2637 2665.9088,-74.9789 2671.8851,-78.6236\"/>\n</g>\n<!-- 75 -->\n<g id=\"node76\" class=\"node\">\n<title>75</title>\n<polygon fill=\"#a7d3f3\" stroke=\"#000000\" points=\"3219.5,-425 3036.5,-425 3036.5,-342 3219.5,-342 3219.5,-425\"/>\n<text text-anchor=\"middle\" x=\"3128\" y=\"-409.8\" font-family=\"Helvetica,sans-Serif\" font-size=\"14.00\" fill=\"#000000\">Rotational speed &lt;= &#45;0.78</text>\n<text text-anchor=\"middle\" x=\"3128\" y=\"-394.8\" font-family=\"Helvetica,sans-Serif\" font-size=\"14.00\" fill=\"#000000\">gini = 0.459</text>\n<text text-anchor=\"middle\" x=\"3128\" y=\"-379.8\" font-family=\"Helvetica,sans-Serif\" font-size=\"14.00\" fill=\"#000000\">samples = 56</text>\n<text text-anchor=\"middle\" x=\"3128\" y=\"-364.8\" font-family=\"Helvetica,sans-Serif\" font-size=\"14.00\" fill=\"#000000\">value = [20, 36]</text>\n<text text-anchor=\"middle\" x=\"3128\" y=\"-349.8\" font-family=\"Helvetica,sans-Serif\" font-size=\"14.00\" fill=\"#000000\">class = TWF</text>\n</g>\n<!-- 74&#45;&gt;75 -->\n<g id=\"edge75\" class=\"edge\">\n<title>74&#45;&gt;75</title>\n<path fill=\"none\" stroke=\"#000000\" d=\"M3131.2512,-460.8796C3130.9069,-452.6838 3130.5416,-443.9891 3130.1849,-435.5013\"/>\n<polygon fill=\"#000000\" stroke=\"#000000\" points=\"3133.673,-435.1423 3129.7562,-425.2981 3126.6792,-435.4362 3133.673,-435.1423\"/>\n</g>\n<!-- 80 -->\n<g id=\"node81\" class=\"node\">\n<title>80</title>\n<polygon fill=\"#e99355\" stroke=\"#000000\" points=\"3418.5,-425 3237.5,-425 3237.5,-342 3418.5,-342 3418.5,-425\"/>\n<text text-anchor=\"middle\" x=\"3328\" y=\"-409.8\" font-family=\"Helvetica,sans-Serif\" font-size=\"14.00\" fill=\"#000000\">Air temperature &lt;= &#45;0.823</text>\n<text text-anchor=\"middle\" x=\"3328\" y=\"-394.8\" font-family=\"Helvetica,sans-Serif\" font-size=\"14.00\" fill=\"#000000\">gini = 0.217</text>\n<text text-anchor=\"middle\" x=\"3328\" y=\"-379.8\" font-family=\"Helvetica,sans-Serif\" font-size=\"14.00\" fill=\"#000000\">samples = 2001</text>\n<text text-anchor=\"middle\" x=\"3328\" y=\"-364.8\" font-family=\"Helvetica,sans-Serif\" font-size=\"14.00\" fill=\"#000000\">value = [1753, 248]</text>\n<text text-anchor=\"middle\" x=\"3328\" y=\"-349.8\" font-family=\"Helvetica,sans-Serif\" font-size=\"14.00\" fill=\"#000000\">class = No failure</text>\n</g>\n<!-- 74&#45;&gt;80 -->\n<g id=\"edge80\" class=\"edge\">\n<title>74&#45;&gt;80</title>\n<path fill=\"none\" stroke=\"#000000\" d=\"M3201.2015,-460.8796C3217.3816,-451.0056 3234.7483,-440.4075 3251.2792,-430.3193\"/>\n<polygon fill=\"#000000\" stroke=\"#000000\" points=\"3253.1241,-433.2938 3259.837,-425.0969 3249.4777,-427.3185 3253.1241,-433.2938\"/>\n</g>\n<!-- 76 -->\n<g id=\"node77\" class=\"node\">\n<title>76</title>\n<polygon fill=\"#3ea0e6\" stroke=\"#000000\" points=\"3099.5,-306 2908.5,-306 2908.5,-223 3099.5,-223 3099.5,-306\"/>\n<text text-anchor=\"middle\" x=\"3004\" y=\"-290.8\" font-family=\"Helvetica,sans-Serif\" font-size=\"14.00\" fill=\"#000000\">Rotational speed &lt;= &#45;0.947</text>\n<text text-anchor=\"middle\" x=\"3004\" y=\"-275.8\" font-family=\"Helvetica,sans-Serif\" font-size=\"14.00\" fill=\"#000000\">gini = 0.053</text>\n<text text-anchor=\"middle\" x=\"3004\" y=\"-260.8\" font-family=\"Helvetica,sans-Serif\" font-size=\"14.00\" fill=\"#000000\">samples = 37</text>\n<text text-anchor=\"middle\" x=\"3004\" y=\"-245.8\" font-family=\"Helvetica,sans-Serif\" font-size=\"14.00\" fill=\"#000000\">value = [1, 36]</text>\n<text text-anchor=\"middle\" x=\"3004\" y=\"-230.8\" font-family=\"Helvetica,sans-Serif\" font-size=\"14.00\" fill=\"#000000\">class = TWF</text>\n</g>\n<!-- 75&#45;&gt;76 -->\n<g id=\"edge76\" class=\"edge\">\n<title>75&#45;&gt;76</title>\n<path fill=\"none\" stroke=\"#000000\" d=\"M3084.6308,-341.8796C3075.0584,-332.6931 3064.8328,-322.8798 3054.9897,-313.4336\"/>\n<polygon fill=\"#000000\" stroke=\"#000000\" points=\"3057.1928,-310.6969 3047.5543,-306.2981 3052.3459,-315.7475 3057.1928,-310.6969\"/>\n</g>\n<!-- 79 -->\n<g id=\"node80\" class=\"node\">\n<title>79</title>\n<polygon fill=\"#e58139\" stroke=\"#000000\" points=\"3246,-298.5 3118,-298.5 3118,-230.5 3246,-230.5 3246,-298.5\"/>\n<text text-anchor=\"middle\" x=\"3182\" y=\"-283.3\" font-family=\"Helvetica,sans-Serif\" font-size=\"14.00\" fill=\"#000000\">gini = 0.0</text>\n<text text-anchor=\"middle\" x=\"3182\" y=\"-268.3\" font-family=\"Helvetica,sans-Serif\" font-size=\"14.00\" fill=\"#000000\">samples = 19</text>\n<text text-anchor=\"middle\" x=\"3182\" y=\"-253.3\" font-family=\"Helvetica,sans-Serif\" font-size=\"14.00\" fill=\"#000000\">value = [19, 0]</text>\n<text text-anchor=\"middle\" x=\"3182\" y=\"-238.3\" font-family=\"Helvetica,sans-Serif\" font-size=\"14.00\" fill=\"#000000\">class = No failure</text>\n</g>\n<!-- 75&#45;&gt;79 -->\n<g id=\"edge79\" class=\"edge\">\n<title>75&#45;&gt;79</title>\n<path fill=\"none\" stroke=\"#000000\" d=\"M3146.8866,-341.8796C3151.8265,-330.9935 3157.1659,-319.227 3162.1541,-308.2344\"/>\n<polygon fill=\"#000000\" stroke=\"#000000\" points=\"3165.4834,-309.3675 3166.4285,-298.8149 3159.109,-306.4749 3165.4834,-309.3675\"/>\n</g>\n<!-- 77 -->\n<g id=\"node78\" class=\"node\">\n<title>77</title>\n<polygon fill=\"#e58139\" stroke=\"#000000\" points=\"3037,-179.5 2909,-179.5 2909,-111.5 3037,-111.5 3037,-179.5\"/>\n<text text-anchor=\"middle\" x=\"2973\" y=\"-164.3\" font-family=\"Helvetica,sans-Serif\" font-size=\"14.00\" fill=\"#000000\">gini = 0.0</text>\n<text text-anchor=\"middle\" x=\"2973\" y=\"-149.3\" font-family=\"Helvetica,sans-Serif\" font-size=\"14.00\" fill=\"#000000\">samples = 1</text>\n<text text-anchor=\"middle\" x=\"2973\" y=\"-134.3\" font-family=\"Helvetica,sans-Serif\" font-size=\"14.00\" fill=\"#000000\">value = [1, 0]</text>\n<text text-anchor=\"middle\" x=\"2973\" y=\"-119.3\" font-family=\"Helvetica,sans-Serif\" font-size=\"14.00\" fill=\"#000000\">class = No failure</text>\n</g>\n<!-- 76&#45;&gt;77 -->\n<g id=\"edge77\" class=\"edge\">\n<title>76&#45;&gt;77</title>\n<path fill=\"none\" stroke=\"#000000\" d=\"M2993.1577,-222.8796C2990.3505,-212.1034 2987.3185,-200.4647 2984.4798,-189.5677\"/>\n<polygon fill=\"#000000\" stroke=\"#000000\" points=\"2987.8471,-188.6096 2981.9392,-179.8149 2981.0732,-190.3743 2987.8471,-188.6096\"/>\n</g>\n<!-- 78 -->\n<g id=\"node79\" class=\"node\">\n<title>78</title>\n<polygon fill=\"#399de5\" stroke=\"#000000\" points=\"3162.5,-179.5 3055.5,-179.5 3055.5,-111.5 3162.5,-111.5 3162.5,-179.5\"/>\n<text text-anchor=\"middle\" x=\"3109\" y=\"-164.3\" font-family=\"Helvetica,sans-Serif\" font-size=\"14.00\" fill=\"#000000\">gini = 0.0</text>\n<text text-anchor=\"middle\" x=\"3109\" y=\"-149.3\" font-family=\"Helvetica,sans-Serif\" font-size=\"14.00\" fill=\"#000000\">samples = 36</text>\n<text text-anchor=\"middle\" x=\"3109\" y=\"-134.3\" font-family=\"Helvetica,sans-Serif\" font-size=\"14.00\" fill=\"#000000\">value = [0, 36]</text>\n<text text-anchor=\"middle\" x=\"3109\" y=\"-119.3\" font-family=\"Helvetica,sans-Serif\" font-size=\"14.00\" fill=\"#000000\">class = TWF</text>\n</g>\n<!-- 76&#45;&gt;78 -->\n<g id=\"edge78\" class=\"edge\">\n<title>76&#45;&gt;78</title>\n<path fill=\"none\" stroke=\"#000000\" d=\"M3040.7239,-222.8796C3050.8144,-211.4436 3061.7621,-199.0363 3071.875,-187.575\"/>\n<polygon fill=\"#000000\" stroke=\"#000000\" points=\"3074.7303,-189.629 3078.7221,-179.8149 3069.4814,-184.9977 3074.7303,-189.629\"/>\n</g>\n<!-- 81 -->\n<g id=\"node82\" class=\"node\">\n<title>81</title>\n<polygon fill=\"#e58139\" stroke=\"#000000\" points=\"3392,-298.5 3264,-298.5 3264,-230.5 3392,-230.5 3392,-298.5\"/>\n<text text-anchor=\"middle\" x=\"3328\" y=\"-283.3\" font-family=\"Helvetica,sans-Serif\" font-size=\"14.00\" fill=\"#000000\">gini = 0.0</text>\n<text text-anchor=\"middle\" x=\"3328\" y=\"-268.3\" font-family=\"Helvetica,sans-Serif\" font-size=\"14.00\" fill=\"#000000\">samples = 446</text>\n<text text-anchor=\"middle\" x=\"3328\" y=\"-253.3\" font-family=\"Helvetica,sans-Serif\" font-size=\"14.00\" fill=\"#000000\">value = [446, 0]</text>\n<text text-anchor=\"middle\" x=\"3328\" y=\"-238.3\" font-family=\"Helvetica,sans-Serif\" font-size=\"14.00\" fill=\"#000000\">class = No failure</text>\n</g>\n<!-- 80&#45;&gt;81 -->\n<g id=\"edge81\" class=\"edge\">\n<title>80&#45;&gt;81</title>\n<path fill=\"none\" stroke=\"#000000\" d=\"M3328,-341.8796C3328,-331.2134 3328,-319.7021 3328,-308.9015\"/>\n<polygon fill=\"#000000\" stroke=\"#000000\" points=\"3331.5001,-308.8149 3328,-298.8149 3324.5001,-308.815 3331.5001,-308.8149\"/>\n</g>\n<!-- 82 -->\n<g id=\"node83\" class=\"node\">\n<title>82</title>\n<polygon fill=\"#ea995f\" stroke=\"#000000\" points=\"3627.5,-306 3410.5,-306 3410.5,-223 3627.5,-223 3627.5,-306\"/>\n<text text-anchor=\"middle\" x=\"3519\" y=\"-290.8\" font-family=\"Helvetica,sans-Serif\" font-size=\"14.00\" fill=\"#000000\">Process temperature &lt;= &#45;1.315</text>\n<text text-anchor=\"middle\" x=\"3519\" y=\"-275.8\" font-family=\"Helvetica,sans-Serif\" font-size=\"14.00\" fill=\"#000000\">gini = 0.268</text>\n<text text-anchor=\"middle\" x=\"3519\" y=\"-260.8\" font-family=\"Helvetica,sans-Serif\" font-size=\"14.00\" fill=\"#000000\">samples = 1555</text>\n<text text-anchor=\"middle\" x=\"3519\" y=\"-245.8\" font-family=\"Helvetica,sans-Serif\" font-size=\"14.00\" fill=\"#000000\">value = [1307, 248]</text>\n<text text-anchor=\"middle\" x=\"3519\" y=\"-230.8\" font-family=\"Helvetica,sans-Serif\" font-size=\"14.00\" fill=\"#000000\">class = No failure</text>\n</g>\n<!-- 80&#45;&gt;82 -->\n<g id=\"edge82\" class=\"edge\">\n<title>80&#45;&gt;82</title>\n<path fill=\"none\" stroke=\"#000000\" d=\"M3394.8025,-341.8796C3410.5053,-332.0962 3427.3491,-321.6019 3443.4071,-311.5971\"/>\n<polygon fill=\"#000000\" stroke=\"#000000\" points=\"3445.5985,-314.3556 3452.2352,-306.0969 3441.8969,-308.4144 3445.5985,-314.3556\"/>\n</g>\n<!-- 83 -->\n<g id=\"node84\" class=\"node\">\n<title>83</title>\n<polygon fill=\"#3fa0e6\" stroke=\"#000000\" points=\"3408,-187 3268,-187 3268,-104 3408,-104 3408,-187\"/>\n<text text-anchor=\"middle\" x=\"3338\" y=\"-171.8\" font-family=\"Helvetica,sans-Serif\" font-size=\"14.00\" fill=\"#000000\">Tool wear &lt;= 0.822</text>\n<text text-anchor=\"middle\" x=\"3338\" y=\"-156.8\" font-family=\"Helvetica,sans-Serif\" font-size=\"14.00\" fill=\"#000000\">gini = 0.053</text>\n<text text-anchor=\"middle\" x=\"3338\" y=\"-141.8\" font-family=\"Helvetica,sans-Serif\" font-size=\"14.00\" fill=\"#000000\">samples = 73</text>\n<text text-anchor=\"middle\" x=\"3338\" y=\"-126.8\" font-family=\"Helvetica,sans-Serif\" font-size=\"14.00\" fill=\"#000000\">value = [2, 71]</text>\n<text text-anchor=\"middle\" x=\"3338\" y=\"-111.8\" font-family=\"Helvetica,sans-Serif\" font-size=\"14.00\" fill=\"#000000\">class = TWF</text>\n</g>\n<!-- 82&#45;&gt;83 -->\n<g id=\"edge83\" class=\"edge\">\n<title>82&#45;&gt;83</title>\n<path fill=\"none\" stroke=\"#000000\" d=\"M3455.695,-222.8796C3440.8144,-213.0962 3424.8524,-202.6019 3409.6351,-192.5971\"/>\n<polygon fill=\"#000000\" stroke=\"#000000\" points=\"3411.5479,-189.666 3401.2693,-187.0969 3407.7023,-195.5151 3411.5479,-189.666\"/>\n</g>\n<!-- 86 -->\n<g id=\"node87\" class=\"node\">\n<title>86</title>\n<polygon fill=\"#e99254\" stroke=\"#000000\" points=\"3609.5,-187 3428.5,-187 3428.5,-104 3609.5,-104 3609.5,-187\"/>\n<text text-anchor=\"middle\" x=\"3519\" y=\"-171.8\" font-family=\"Helvetica,sans-Serif\" font-size=\"14.00\" fill=\"#000000\">Air temperature &lt;= &#45;0.172</text>\n<text text-anchor=\"middle\" x=\"3519\" y=\"-156.8\" font-family=\"Helvetica,sans-Serif\" font-size=\"14.00\" fill=\"#000000\">gini = 0.21</text>\n<text text-anchor=\"middle\" x=\"3519\" y=\"-141.8\" font-family=\"Helvetica,sans-Serif\" font-size=\"14.00\" fill=\"#000000\">samples = 1482</text>\n<text text-anchor=\"middle\" x=\"3519\" y=\"-126.8\" font-family=\"Helvetica,sans-Serif\" font-size=\"14.00\" fill=\"#000000\">value = [1305, 177]</text>\n<text text-anchor=\"middle\" x=\"3519\" y=\"-111.8\" font-family=\"Helvetica,sans-Serif\" font-size=\"14.00\" fill=\"#000000\">class = No failure</text>\n</g>\n<!-- 82&#45;&gt;86 -->\n<g id=\"edge86\" class=\"edge\">\n<title>82&#45;&gt;86</title>\n<path fill=\"none\" stroke=\"#000000\" d=\"M3519,-222.8796C3519,-214.6838 3519,-205.9891 3519,-197.5013\"/>\n<polygon fill=\"#000000\" stroke=\"#000000\" points=\"3522.5001,-197.298 3519,-187.2981 3515.5001,-197.2981 3522.5001,-197.298\"/>\n</g>\n<!-- 84 -->\n<g id=\"node85\" class=\"node\">\n<title>84</title>\n<polygon fill=\"#e58139\" stroke=\"#000000\" points=\"3266,-68 3138,-68 3138,0 3266,0 3266,-68\"/>\n<text text-anchor=\"middle\" x=\"3202\" y=\"-52.8\" font-family=\"Helvetica,sans-Serif\" font-size=\"14.00\" fill=\"#000000\">gini = 0.0</text>\n<text text-anchor=\"middle\" x=\"3202\" y=\"-37.8\" font-family=\"Helvetica,sans-Serif\" font-size=\"14.00\" fill=\"#000000\">samples = 2</text>\n<text text-anchor=\"middle\" x=\"3202\" y=\"-22.8\" font-family=\"Helvetica,sans-Serif\" font-size=\"14.00\" fill=\"#000000\">value = [2, 0]</text>\n<text text-anchor=\"middle\" x=\"3202\" y=\"-7.8\" font-family=\"Helvetica,sans-Serif\" font-size=\"14.00\" fill=\"#000000\">class = No failure</text>\n</g>\n<!-- 83&#45;&gt;84 -->\n<g id=\"edge84\" class=\"edge\">\n<title>83&#45;&gt;84</title>\n<path fill=\"none\" stroke=\"#000000\" d=\"M3287.3586,-103.9815C3275.7001,-94.4232 3263.312,-84.2668 3251.6941,-74.7419\"/>\n<polygon fill=\"#000000\" stroke=\"#000000\" points=\"3253.7448,-71.8972 3243.7925,-68.2637 3249.3067,-77.3105 3253.7448,-71.8972\"/>\n</g>\n<!-- 85 -->\n<g id=\"node86\" class=\"node\">\n<title>85</title>\n<polygon fill=\"#399de5\" stroke=\"#000000\" points=\"3391.5,-68 3284.5,-68 3284.5,0 3391.5,0 3391.5,-68\"/>\n<text text-anchor=\"middle\" x=\"3338\" y=\"-52.8\" font-family=\"Helvetica,sans-Serif\" font-size=\"14.00\" fill=\"#000000\">gini = 0.0</text>\n<text text-anchor=\"middle\" x=\"3338\" y=\"-37.8\" font-family=\"Helvetica,sans-Serif\" font-size=\"14.00\" fill=\"#000000\">samples = 71</text>\n<text text-anchor=\"middle\" x=\"3338\" y=\"-22.8\" font-family=\"Helvetica,sans-Serif\" font-size=\"14.00\" fill=\"#000000\">value = [0, 71]</text>\n<text text-anchor=\"middle\" x=\"3338\" y=\"-7.8\" font-family=\"Helvetica,sans-Serif\" font-size=\"14.00\" fill=\"#000000\">class = TWF</text>\n</g>\n<!-- 83&#45;&gt;85 -->\n<g id=\"edge85\" class=\"edge\">\n<title>83&#45;&gt;85</title>\n<path fill=\"none\" stroke=\"#000000\" d=\"M3338,-103.9815C3338,-95.618 3338,-86.7965 3338,-78.3409\"/>\n<polygon fill=\"#000000\" stroke=\"#000000\" points=\"3341.5001,-78.2636 3338,-68.2637 3334.5001,-78.2637 3341.5001,-78.2636\"/>\n</g>\n<!-- 87 -->\n<g id=\"node88\" class=\"node\">\n<title>87</title>\n<polygon fill=\"#eead7e\" stroke=\"#000000\" points=\"3542,-68 3410,-68 3410,0 3542,0 3542,-68\"/>\n<text text-anchor=\"middle\" x=\"3476\" y=\"-52.8\" font-family=\"Helvetica,sans-Serif\" font-size=\"14.00\" fill=\"#000000\">gini = 0.384</text>\n<text text-anchor=\"middle\" x=\"3476\" y=\"-37.8\" font-family=\"Helvetica,sans-Serif\" font-size=\"14.00\" fill=\"#000000\">samples = 413</text>\n<text text-anchor=\"middle\" x=\"3476\" y=\"-22.8\" font-family=\"Helvetica,sans-Serif\" font-size=\"14.00\" fill=\"#000000\">value = [306, 107]</text>\n<text text-anchor=\"middle\" x=\"3476\" y=\"-7.8\" font-family=\"Helvetica,sans-Serif\" font-size=\"14.00\" fill=\"#000000\">class = No failure</text>\n</g>\n<!-- 86&#45;&gt;87 -->\n<g id=\"edge87\" class=\"edge\">\n<title>86&#45;&gt;87</title>\n<path fill=\"none\" stroke=\"#000000\" d=\"M3502.9884,-103.9815C3499.6921,-95.4342 3496.2114,-86.4086 3492.8853,-77.7839\"/>\n<polygon fill=\"#000000\" stroke=\"#000000\" points=\"3496.0776,-76.3345 3489.2138,-68.2637 3489.5465,-78.8533 3496.0776,-76.3345\"/>\n</g>\n<!-- 88 -->\n<g id=\"node89\" class=\"node\">\n<title>88</title>\n<polygon fill=\"#e78a47\" stroke=\"#000000\" points=\"3688,-68 3560,-68 3560,0 3688,0 3688,-68\"/>\n<text text-anchor=\"middle\" x=\"3624\" y=\"-52.8\" font-family=\"Helvetica,sans-Serif\" font-size=\"14.00\" fill=\"#000000\">gini = 0.122</text>\n<text text-anchor=\"middle\" x=\"3624\" y=\"-37.8\" font-family=\"Helvetica,sans-Serif\" font-size=\"14.00\" fill=\"#000000\">samples = 1069</text>\n<text text-anchor=\"middle\" x=\"3624\" y=\"-22.8\" font-family=\"Helvetica,sans-Serif\" font-size=\"14.00\" fill=\"#000000\">value = [999, 70]</text>\n<text text-anchor=\"middle\" x=\"3624\" y=\"-7.8\" font-family=\"Helvetica,sans-Serif\" font-size=\"14.00\" fill=\"#000000\">class = No failure</text>\n</g>\n<!-- 86&#45;&gt;88 -->\n<g id=\"edge88\" class=\"edge\">\n<title>86&#45;&gt;88</title>\n<path fill=\"none\" stroke=\"#000000\" d=\"M3558.0981,-103.9815C3566.8396,-94.6989 3576.1122,-84.8522 3584.8556,-75.5677\"/>\n<polygon fill=\"#000000\" stroke=\"#000000\" points=\"3587.4261,-77.9433 3591.7338,-68.2637 3582.33,-73.1443 3587.4261,-77.9433\"/>\n</g>\n<!-- 90 -->\n<g id=\"node91\" class=\"node\">\n<title>90</title>\n<polygon fill=\"#e58139\" stroke=\"#000000\" points=\"3363,-536.5 3235,-536.5 3235,-468.5 3363,-468.5 3363,-536.5\"/>\n<text text-anchor=\"middle\" x=\"3299\" y=\"-521.3\" font-family=\"Helvetica,sans-Serif\" font-size=\"14.00\" fill=\"#000000\">gini = 0.0</text>\n<text text-anchor=\"middle\" x=\"3299\" y=\"-506.3\" font-family=\"Helvetica,sans-Serif\" font-size=\"14.00\" fill=\"#000000\">samples = 6</text>\n<text text-anchor=\"middle\" x=\"3299\" y=\"-491.3\" font-family=\"Helvetica,sans-Serif\" font-size=\"14.00\" fill=\"#000000\">value = [6, 0]</text>\n<text text-anchor=\"middle\" x=\"3299\" y=\"-476.3\" font-family=\"Helvetica,sans-Serif\" font-size=\"14.00\" fill=\"#000000\">class = No failure</text>\n</g>\n<!-- 89&#45;&gt;90 -->\n<g id=\"edge90\" class=\"edge\">\n<title>89&#45;&gt;90</title>\n<path fill=\"none\" stroke=\"#000000\" d=\"M3299,-579.8796C3299,-569.2134 3299,-557.7021 3299,-546.9015\"/>\n<polygon fill=\"#000000\" stroke=\"#000000\" points=\"3302.5001,-546.8149 3299,-536.8149 3295.5001,-546.815 3302.5001,-546.8149\"/>\n</g>\n<!-- 91 -->\n<g id=\"node92\" class=\"node\">\n<title>91</title>\n<polygon fill=\"#3a9ee5\" stroke=\"#000000\" points=\"3609.5,-544 3392.5,-544 3392.5,-461 3609.5,-461 3609.5,-544\"/>\n<text text-anchor=\"middle\" x=\"3501\" y=\"-528.8\" font-family=\"Helvetica,sans-Serif\" font-size=\"14.00\" fill=\"#000000\">Process temperature &lt;= &#45;1.012</text>\n<text text-anchor=\"middle\" x=\"3501\" y=\"-513.8\" font-family=\"Helvetica,sans-Serif\" font-size=\"14.00\" fill=\"#000000\">gini = 0.011</text>\n<text text-anchor=\"middle\" x=\"3501\" y=\"-498.8\" font-family=\"Helvetica,sans-Serif\" font-size=\"14.00\" fill=\"#000000\">samples = 182</text>\n<text text-anchor=\"middle\" x=\"3501\" y=\"-483.8\" font-family=\"Helvetica,sans-Serif\" font-size=\"14.00\" fill=\"#000000\">value = [1, 181]</text>\n<text text-anchor=\"middle\" x=\"3501\" y=\"-468.8\" font-family=\"Helvetica,sans-Serif\" font-size=\"14.00\" fill=\"#000000\">class = TWF</text>\n</g>\n<!-- 89&#45;&gt;91 -->\n<g id=\"edge91\" class=\"edge\">\n<title>89&#45;&gt;91</title>\n<path fill=\"none\" stroke=\"#000000\" d=\"M3369.6498,-579.8796C3386.4106,-570.0056 3404.4008,-559.4075 3421.5252,-549.3193\"/>\n<polygon fill=\"#000000\" stroke=\"#000000\" points=\"3423.5506,-552.1884 3430.3901,-544.0969 3419.9975,-546.1571 3423.5506,-552.1884\"/>\n</g>\n<!-- 92 -->\n<g id=\"node93\" class=\"node\">\n<title>92</title>\n<polygon fill=\"#e58139\" stroke=\"#000000\" points=\"3565,-417.5 3437,-417.5 3437,-349.5 3565,-349.5 3565,-417.5\"/>\n<text text-anchor=\"middle\" x=\"3501\" y=\"-402.3\" font-family=\"Helvetica,sans-Serif\" font-size=\"14.00\" fill=\"#000000\">gini = 0.0</text>\n<text text-anchor=\"middle\" x=\"3501\" y=\"-387.3\" font-family=\"Helvetica,sans-Serif\" font-size=\"14.00\" fill=\"#000000\">samples = 1</text>\n<text text-anchor=\"middle\" x=\"3501\" y=\"-372.3\" font-family=\"Helvetica,sans-Serif\" font-size=\"14.00\" fill=\"#000000\">value = [1, 0]</text>\n<text text-anchor=\"middle\" x=\"3501\" y=\"-357.3\" font-family=\"Helvetica,sans-Serif\" font-size=\"14.00\" fill=\"#000000\">class = No failure</text>\n</g>\n<!-- 91&#45;&gt;92 -->\n<g id=\"edge92\" class=\"edge\">\n<title>91&#45;&gt;92</title>\n<path fill=\"none\" stroke=\"#000000\" d=\"M3501,-460.8796C3501,-450.2134 3501,-438.7021 3501,-427.9015\"/>\n<polygon fill=\"#000000\" stroke=\"#000000\" points=\"3504.5001,-427.8149 3501,-417.8149 3497.5001,-427.815 3504.5001,-427.8149\"/>\n</g>\n<!-- 93 -->\n<g id=\"node94\" class=\"node\">\n<title>93</title>\n<polygon fill=\"#399de5\" stroke=\"#000000\" points=\"3699,-417.5 3583,-417.5 3583,-349.5 3699,-349.5 3699,-417.5\"/>\n<text text-anchor=\"middle\" x=\"3641\" y=\"-402.3\" font-family=\"Helvetica,sans-Serif\" font-size=\"14.00\" fill=\"#000000\">gini = 0.0</text>\n<text text-anchor=\"middle\" x=\"3641\" y=\"-387.3\" font-family=\"Helvetica,sans-Serif\" font-size=\"14.00\" fill=\"#000000\">samples = 181</text>\n<text text-anchor=\"middle\" x=\"3641\" y=\"-372.3\" font-family=\"Helvetica,sans-Serif\" font-size=\"14.00\" fill=\"#000000\">value = [0, 181]</text>\n<text text-anchor=\"middle\" x=\"3641\" y=\"-357.3\" font-family=\"Helvetica,sans-Serif\" font-size=\"14.00\" fill=\"#000000\">class = TWF</text>\n</g>\n<!-- 91&#45;&gt;93 -->\n<g id=\"edge93\" class=\"edge\">\n<title>91&#45;&gt;93</title>\n<path fill=\"none\" stroke=\"#000000\" d=\"M3549.9652,-460.8796C3563.8073,-449.1138 3578.8592,-436.3197 3592.6641,-424.5855\"/>\n<polygon fill=\"#000000\" stroke=\"#000000\" points=\"3595.2769,-426.9582 3600.6295,-417.8149 3590.7433,-421.6247 3595.2769,-426.9582\"/>\n</g>\n<!-- 95 -->\n<g id=\"node96\" class=\"node\">\n<title>95</title>\n<polygon fill=\"#fbeee4\" stroke=\"#000000\" points=\"4039.5,-663 3822.5,-663 3822.5,-580 4039.5,-580 4039.5,-663\"/>\n<text text-anchor=\"middle\" x=\"3931\" y=\"-647.8\" font-family=\"Helvetica,sans-Serif\" font-size=\"14.00\" fill=\"#000000\">Process temperature &lt;= &#45;0.708</text>\n<text text-anchor=\"middle\" x=\"3931\" y=\"-632.8\" font-family=\"Helvetica,sans-Serif\" font-size=\"14.00\" fill=\"#000000\">gini = 0.497</text>\n<text text-anchor=\"middle\" x=\"3931\" y=\"-617.8\" font-family=\"Helvetica,sans-Serif\" font-size=\"14.00\" fill=\"#000000\">samples = 248</text>\n<text text-anchor=\"middle\" x=\"3931\" y=\"-602.8\" font-family=\"Helvetica,sans-Serif\" font-size=\"14.00\" fill=\"#000000\">value = [133, 115]</text>\n<text text-anchor=\"middle\" x=\"3931\" y=\"-587.8\" font-family=\"Helvetica,sans-Serif\" font-size=\"14.00\" fill=\"#000000\">class = No failure</text>\n</g>\n<!-- 94&#45;&gt;95 -->\n<g id=\"edge95\" class=\"edge\">\n<title>94&#45;&gt;95</title>\n<path fill=\"none\" stroke=\"#000000\" d=\"M3931,-698.8796C3931,-690.6838 3931,-681.9891 3931,-673.5013\"/>\n<polygon fill=\"#000000\" stroke=\"#000000\" points=\"3934.5001,-673.298 3931,-663.2981 3927.5001,-673.2981 3934.5001,-673.298\"/>\n</g>\n<!-- 106 -->\n<g id=\"node107\" class=\"node\">\n<title>106</title>\n<polygon fill=\"#62b1ea\" stroke=\"#000000\" points=\"4327,-663 4187,-663 4187,-580 4327,-580 4327,-663\"/>\n<text text-anchor=\"middle\" x=\"4257\" y=\"-647.8\" font-family=\"Helvetica,sans-Serif\" font-size=\"14.00\" fill=\"#000000\">Power &lt;= 1.304</text>\n<text text-anchor=\"middle\" x=\"4257\" y=\"-632.8\" font-family=\"Helvetica,sans-Serif\" font-size=\"14.00\" fill=\"#000000\">gini = 0.283</text>\n<text text-anchor=\"middle\" x=\"4257\" y=\"-617.8\" font-family=\"Helvetica,sans-Serif\" font-size=\"14.00\" fill=\"#000000\">samples = 1562</text>\n<text text-anchor=\"middle\" x=\"4257\" y=\"-602.8\" font-family=\"Helvetica,sans-Serif\" font-size=\"14.00\" fill=\"#000000\">value = [267, 1295]</text>\n<text text-anchor=\"middle\" x=\"4257\" y=\"-587.8\" font-family=\"Helvetica,sans-Serif\" font-size=\"14.00\" fill=\"#000000\">class = TWF</text>\n</g>\n<!-- 94&#45;&gt;106 -->\n<g id=\"edge106\" class=\"edge\">\n<title>94&#45;&gt;106</title>\n<path fill=\"none\" stroke=\"#000000\" d=\"M4001.3358,-714.8253C4053.0726,-695.9398 4123.4598,-670.2463 4177.2823,-650.5994\"/>\n<polygon fill=\"#000000\" stroke=\"#000000\" points=\"4178.5967,-653.8456 4186.7903,-647.1287 4176.1964,-647.27 4178.5967,-653.8456\"/>\n</g>\n<!-- 96 -->\n<g id=\"node97\" class=\"node\">\n<title>96</title>\n<polygon fill=\"#7abdee\" stroke=\"#000000\" points=\"3925,-544 3785,-544 3785,-461 3925,-461 3925,-544\"/>\n<text text-anchor=\"middle\" x=\"3855\" y=\"-528.8\" font-family=\"Helvetica,sans-Serif\" font-size=\"14.00\" fill=\"#000000\">Tool wear &lt;= 1.509</text>\n<text text-anchor=\"middle\" x=\"3855\" y=\"-513.8\" font-family=\"Helvetica,sans-Serif\" font-size=\"14.00\" fill=\"#000000\">gini = 0.373</text>\n<text text-anchor=\"middle\" x=\"3855\" y=\"-498.8\" font-family=\"Helvetica,sans-Serif\" font-size=\"14.00\" fill=\"#000000\">samples = 153</text>\n<text text-anchor=\"middle\" x=\"3855\" y=\"-483.8\" font-family=\"Helvetica,sans-Serif\" font-size=\"14.00\" fill=\"#000000\">value = [38, 115]</text>\n<text text-anchor=\"middle\" x=\"3855\" y=\"-468.8\" font-family=\"Helvetica,sans-Serif\" font-size=\"14.00\" fill=\"#000000\">class = TWF</text>\n</g>\n<!-- 95&#45;&gt;96 -->\n<g id=\"edge96\" class=\"edge\">\n<title>95&#45;&gt;96</title>\n<path fill=\"none\" stroke=\"#000000\" d=\"M3904.4189,-579.8796C3898.8395,-571.1434 3892.8981,-561.8404 3887.1405,-552.8253\"/>\n<polygon fill=\"#000000\" stroke=\"#000000\" points=\"3890.0269,-550.8421 3881.6946,-544.2981 3884.1274,-554.6098 3890.0269,-550.8421\"/>\n</g>\n<!-- 105 -->\n<g id=\"node106\" class=\"node\">\n<title>105</title>\n<polygon fill=\"#e58139\" stroke=\"#000000\" points=\"4071,-536.5 3943,-536.5 3943,-468.5 4071,-468.5 4071,-536.5\"/>\n<text text-anchor=\"middle\" x=\"4007\" y=\"-521.3\" font-family=\"Helvetica,sans-Serif\" font-size=\"14.00\" fill=\"#000000\">gini = 0.0</text>\n<text text-anchor=\"middle\" x=\"4007\" y=\"-506.3\" font-family=\"Helvetica,sans-Serif\" font-size=\"14.00\" fill=\"#000000\">samples = 95</text>\n<text text-anchor=\"middle\" x=\"4007\" y=\"-491.3\" font-family=\"Helvetica,sans-Serif\" font-size=\"14.00\" fill=\"#000000\">value = [95, 0]</text>\n<text text-anchor=\"middle\" x=\"4007\" y=\"-476.3\" font-family=\"Helvetica,sans-Serif\" font-size=\"14.00\" fill=\"#000000\">class = No failure</text>\n</g>\n<!-- 95&#45;&gt;105 -->\n<g id=\"edge105\" class=\"edge\">\n<title>95&#45;&gt;105</title>\n<path fill=\"none\" stroke=\"#000000\" d=\"M3957.5811,-579.8796C3964.674,-568.7735 3972.3521,-556.7513 3979.4937,-545.5691\"/>\n<polygon fill=\"#000000\" stroke=\"#000000\" points=\"3982.6518,-547.1267 3985.0846,-536.8149 3976.7523,-543.3589 3982.6518,-547.1267\"/>\n</g>\n<!-- 97 -->\n<g id=\"node98\" class=\"node\">\n<title>97</title>\n<polygon fill=\"#5dafea\" stroke=\"#000000\" points=\"3938.5,-425 3721.5,-425 3721.5,-342 3938.5,-342 3938.5,-425\"/>\n<text text-anchor=\"middle\" x=\"3830\" y=\"-409.8\" font-family=\"Helvetica,sans-Serif\" font-size=\"14.00\" fill=\"#000000\">Process temperature &lt;= &#45;1.517</text>\n<text text-anchor=\"middle\" x=\"3830\" y=\"-394.8\" font-family=\"Helvetica,sans-Serif\" font-size=\"14.00\" fill=\"#000000\">gini = 0.261</text>\n<text text-anchor=\"middle\" x=\"3830\" y=\"-379.8\" font-family=\"Helvetica,sans-Serif\" font-size=\"14.00\" fill=\"#000000\">samples = 136</text>\n<text text-anchor=\"middle\" x=\"3830\" y=\"-364.8\" font-family=\"Helvetica,sans-Serif\" font-size=\"14.00\" fill=\"#000000\">value = [21, 115]</text>\n<text text-anchor=\"middle\" x=\"3830\" y=\"-349.8\" font-family=\"Helvetica,sans-Serif\" font-size=\"14.00\" fill=\"#000000\">class = TWF</text>\n</g>\n<!-- 96&#45;&gt;97 -->\n<g id=\"edge97\" class=\"edge\">\n<title>96&#45;&gt;97</title>\n<path fill=\"none\" stroke=\"#000000\" d=\"M3846.2562,-460.8796C3844.5155,-452.5938 3842.6676,-443.798 3840.8659,-435.2216\"/>\n<polygon fill=\"#000000\" stroke=\"#000000\" points=\"3844.2624,-434.3648 3838.7811,-425.2981 3837.4119,-435.8041 3844.2624,-434.3648\"/>\n</g>\n<!-- 104 -->\n<g id=\"node105\" class=\"node\">\n<title>104</title>\n<polygon fill=\"#e58139\" stroke=\"#000000\" points=\"4085,-417.5 3957,-417.5 3957,-349.5 4085,-349.5 4085,-417.5\"/>\n<text text-anchor=\"middle\" x=\"4021\" y=\"-402.3\" font-family=\"Helvetica,sans-Serif\" font-size=\"14.00\" fill=\"#000000\">gini = 0.0</text>\n<text text-anchor=\"middle\" x=\"4021\" y=\"-387.3\" font-family=\"Helvetica,sans-Serif\" font-size=\"14.00\" fill=\"#000000\">samples = 17</text>\n<text text-anchor=\"middle\" x=\"4021\" y=\"-372.3\" font-family=\"Helvetica,sans-Serif\" font-size=\"14.00\" fill=\"#000000\">value = [17, 0]</text>\n<text text-anchor=\"middle\" x=\"4021\" y=\"-357.3\" font-family=\"Helvetica,sans-Serif\" font-size=\"14.00\" fill=\"#000000\">class = No failure</text>\n</g>\n<!-- 96&#45;&gt;104 -->\n<g id=\"edge104\" class=\"edge\">\n<title>96&#45;&gt;104</title>\n<path fill=\"none\" stroke=\"#000000\" d=\"M3913.0587,-460.8796C3929.858,-448.8368 3948.1599,-435.7167 3964.841,-423.7586\"/>\n<polygon fill=\"#000000\" stroke=\"#000000\" points=\"3967.3116,-426.2939 3973.3998,-417.623 3963.2332,-420.6047 3967.3116,-426.2939\"/>\n</g>\n<!-- 98 -->\n<g id=\"node99\" class=\"node\">\n<title>98</title>\n<polygon fill=\"#e58139\" stroke=\"#000000\" points=\"3785,-298.5 3657,-298.5 3657,-230.5 3785,-230.5 3785,-298.5\"/>\n<text text-anchor=\"middle\" x=\"3721\" y=\"-283.3\" font-family=\"Helvetica,sans-Serif\" font-size=\"14.00\" fill=\"#000000\">gini = 0.0</text>\n<text text-anchor=\"middle\" x=\"3721\" y=\"-268.3\" font-family=\"Helvetica,sans-Serif\" font-size=\"14.00\" fill=\"#000000\">samples = 4</text>\n<text text-anchor=\"middle\" x=\"3721\" y=\"-253.3\" font-family=\"Helvetica,sans-Serif\" font-size=\"14.00\" fill=\"#000000\">value = [4, 0]</text>\n<text text-anchor=\"middle\" x=\"3721\" y=\"-238.3\" font-family=\"Helvetica,sans-Serif\" font-size=\"14.00\" fill=\"#000000\">class = No failure</text>\n</g>\n<!-- 97&#45;&gt;98 -->\n<g id=\"edge98\" class=\"edge\">\n<title>97&#45;&gt;98</title>\n<path fill=\"none\" stroke=\"#000000\" d=\"M3791.8771,-341.8796C3781.3014,-330.3337 3769.8188,-317.7976 3759.2367,-306.2446\"/>\n<polygon fill=\"#000000\" stroke=\"#000000\" points=\"3761.7667,-303.825 3752.4313,-298.8149 3756.6049,-308.5531 3761.7667,-303.825\"/>\n</g>\n<!-- 99 -->\n<g id=\"node100\" class=\"node\">\n<title>99</title>\n<polygon fill=\"#56abe9\" stroke=\"#000000\" points=\"3927,-306 3803,-306 3803,-223 3927,-223 3927,-306\"/>\n<text text-anchor=\"middle\" x=\"3865\" y=\"-290.8\" font-family=\"Helvetica,sans-Serif\" font-size=\"14.00\" fill=\"#000000\">Power &lt;= &#45;1.545</text>\n<text text-anchor=\"middle\" x=\"3865\" y=\"-275.8\" font-family=\"Helvetica,sans-Serif\" font-size=\"14.00\" fill=\"#000000\">gini = 0.224</text>\n<text text-anchor=\"middle\" x=\"3865\" y=\"-260.8\" font-family=\"Helvetica,sans-Serif\" font-size=\"14.00\" fill=\"#000000\">samples = 132</text>\n<text text-anchor=\"middle\" x=\"3865\" y=\"-245.8\" font-family=\"Helvetica,sans-Serif\" font-size=\"14.00\" fill=\"#000000\">value = [17, 115]</text>\n<text text-anchor=\"middle\" x=\"3865\" y=\"-230.8\" font-family=\"Helvetica,sans-Serif\" font-size=\"14.00\" fill=\"#000000\">class = TWF</text>\n</g>\n<!-- 97&#45;&gt;99 -->\n<g id=\"edge99\" class=\"edge\">\n<title>97&#45;&gt;99</title>\n<path fill=\"none\" stroke=\"#000000\" d=\"M3842.2413,-341.8796C3844.7048,-333.5037 3847.3216,-324.6067 3849.87,-315.942\"/>\n<polygon fill=\"#000000\" stroke=\"#000000\" points=\"3853.2425,-316.8793 3852.7064,-306.2981 3846.5269,-314.9041 3853.2425,-316.8793\"/>\n</g>\n<!-- 100 -->\n<g id=\"node101\" class=\"node\">\n<title>100</title>\n<polygon fill=\"#e58139\" stroke=\"#000000\" points=\"3789,-179.5 3661,-179.5 3661,-111.5 3789,-111.5 3789,-179.5\"/>\n<text text-anchor=\"middle\" x=\"3725\" y=\"-164.3\" font-family=\"Helvetica,sans-Serif\" font-size=\"14.00\" fill=\"#000000\">gini = 0.0</text>\n<text text-anchor=\"middle\" x=\"3725\" y=\"-149.3\" font-family=\"Helvetica,sans-Serif\" font-size=\"14.00\" fill=\"#000000\">samples = 3</text>\n<text text-anchor=\"middle\" x=\"3725\" y=\"-134.3\" font-family=\"Helvetica,sans-Serif\" font-size=\"14.00\" fill=\"#000000\">value = [3, 0]</text>\n<text text-anchor=\"middle\" x=\"3725\" y=\"-119.3\" font-family=\"Helvetica,sans-Serif\" font-size=\"14.00\" fill=\"#000000\">class = No failure</text>\n</g>\n<!-- 99&#45;&gt;100 -->\n<g id=\"edge100\" class=\"edge\">\n<title>99&#45;&gt;100</title>\n<path fill=\"none\" stroke=\"#000000\" d=\"M3816.0348,-222.8796C3802.1927,-211.1138 3787.1408,-198.3197 3773.3359,-186.5855\"/>\n<polygon fill=\"#000000\" stroke=\"#000000\" points=\"3775.2567,-183.6247 3765.3705,-179.8149 3770.7231,-188.9582 3775.2567,-183.6247\"/>\n</g>\n<!-- 101 -->\n<g id=\"node102\" class=\"node\">\n<title>101</title>\n<polygon fill=\"#51a9e8\" stroke=\"#000000\" points=\"3934.5,-187 3807.5,-187 3807.5,-104 3934.5,-104 3934.5,-187\"/>\n<text text-anchor=\"middle\" x=\"3871\" y=\"-171.8\" font-family=\"Helvetica,sans-Serif\" font-size=\"14.00\" fill=\"#000000\">Torque &lt;= &#45;0.347</text>\n<text text-anchor=\"middle\" x=\"3871\" y=\"-156.8\" font-family=\"Helvetica,sans-Serif\" font-size=\"14.00\" fill=\"#000000\">gini = 0.193</text>\n<text text-anchor=\"middle\" x=\"3871\" y=\"-141.8\" font-family=\"Helvetica,sans-Serif\" font-size=\"14.00\" fill=\"#000000\">samples = 129</text>\n<text text-anchor=\"middle\" x=\"3871\" y=\"-126.8\" font-family=\"Helvetica,sans-Serif\" font-size=\"14.00\" fill=\"#000000\">value = [14, 115]</text>\n<text text-anchor=\"middle\" x=\"3871\" y=\"-111.8\" font-family=\"Helvetica,sans-Serif\" font-size=\"14.00\" fill=\"#000000\">class = TWF</text>\n</g>\n<!-- 99&#45;&gt;101 -->\n<g id=\"edge101\" class=\"edge\">\n<title>99&#45;&gt;101</title>\n<path fill=\"none\" stroke=\"#000000\" d=\"M3867.0985,-222.8796C3867.5117,-214.6838 3867.9501,-205.9891 3868.3781,-197.5013\"/>\n<polygon fill=\"#000000\" stroke=\"#000000\" points=\"3871.8844,-197.4617 3868.8925,-187.2981 3864.8933,-197.1091 3871.8844,-197.4617\"/>\n</g>\n<!-- 102 -->\n<g id=\"node103\" class=\"node\">\n<title>102</title>\n<polygon fill=\"#43a2e6\" stroke=\"#000000\" points=\"3813.5,-68 3706.5,-68 3706.5,0 3813.5,0 3813.5,-68\"/>\n<text text-anchor=\"middle\" x=\"3760\" y=\"-52.8\" font-family=\"Helvetica,sans-Serif\" font-size=\"14.00\" fill=\"#000000\">gini = 0.089</text>\n<text text-anchor=\"middle\" x=\"3760\" y=\"-37.8\" font-family=\"Helvetica,sans-Serif\" font-size=\"14.00\" fill=\"#000000\">samples = 86</text>\n<text text-anchor=\"middle\" x=\"3760\" y=\"-22.8\" font-family=\"Helvetica,sans-Serif\" font-size=\"14.00\" fill=\"#000000\">value = [4, 82]</text>\n<text text-anchor=\"middle\" x=\"3760\" y=\"-7.8\" font-family=\"Helvetica,sans-Serif\" font-size=\"14.00\" fill=\"#000000\">class = TWF</text>\n</g>\n<!-- 101&#45;&gt;102 -->\n<g id=\"edge102\" class=\"edge\">\n<title>101&#45;&gt;102</title>\n<path fill=\"none\" stroke=\"#000000\" d=\"M3829.6677,-103.9815C3820.4267,-94.6989 3810.6242,-84.8522 3801.3813,-75.5677\"/>\n<polygon fill=\"#000000\" stroke=\"#000000\" points=\"3803.6457,-72.8813 3794.11,-68.2637 3798.6848,-77.82 3803.6457,-72.8813\"/>\n</g>\n<!-- 103 -->\n<g id=\"node104\" class=\"node\">\n<title>103</title>\n<polygon fill=\"#75bbed\" stroke=\"#000000\" points=\"3948,-68 3832,-68 3832,0 3948,0 3948,-68\"/>\n<text text-anchor=\"middle\" x=\"3890\" y=\"-52.8\" font-family=\"Helvetica,sans-Serif\" font-size=\"14.00\" fill=\"#000000\">gini = 0.357</text>\n<text text-anchor=\"middle\" x=\"3890\" y=\"-37.8\" font-family=\"Helvetica,sans-Serif\" font-size=\"14.00\" fill=\"#000000\">samples = 43</text>\n<text text-anchor=\"middle\" x=\"3890\" y=\"-22.8\" font-family=\"Helvetica,sans-Serif\" font-size=\"14.00\" fill=\"#000000\">value = [10, 33]</text>\n<text text-anchor=\"middle\" x=\"3890\" y=\"-7.8\" font-family=\"Helvetica,sans-Serif\" font-size=\"14.00\" fill=\"#000000\">class = TWF</text>\n</g>\n<!-- 101&#45;&gt;103 -->\n<g id=\"edge103\" class=\"edge\">\n<title>101&#45;&gt;103</title>\n<path fill=\"none\" stroke=\"#000000\" d=\"M3878.0749,-103.9815C3879.5001,-95.618 3881.0033,-86.7965 3882.4442,-78.3409\"/>\n<polygon fill=\"#000000\" stroke=\"#000000\" points=\"3885.9317,-78.7095 3884.1613,-68.2637 3879.0312,-77.5336 3885.9317,-78.7095\"/>\n</g>\n<!-- 107 -->\n<g id=\"node108\" class=\"node\">\n<title>107</title>\n<polygon fill=\"#6eb7ec\" stroke=\"#000000\" points=\"4323,-544 4191,-544 4191,-461 4323,-461 4323,-544\"/>\n<text text-anchor=\"middle\" x=\"4257\" y=\"-528.8\" font-family=\"Helvetica,sans-Serif\" font-size=\"14.00\" fill=\"#000000\">Power &lt;= 0.907</text>\n<text text-anchor=\"middle\" x=\"4257\" y=\"-513.8\" font-family=\"Helvetica,sans-Serif\" font-size=\"14.00\" fill=\"#000000\">gini = 0.333</text>\n<text text-anchor=\"middle\" x=\"4257\" y=\"-498.8\" font-family=\"Helvetica,sans-Serif\" font-size=\"14.00\" fill=\"#000000\">samples = 1254</text>\n<text text-anchor=\"middle\" x=\"4257\" y=\"-483.8\" font-family=\"Helvetica,sans-Serif\" font-size=\"14.00\" fill=\"#000000\">value = [265, 989]</text>\n<text text-anchor=\"middle\" x=\"4257\" y=\"-468.8\" font-family=\"Helvetica,sans-Serif\" font-size=\"14.00\" fill=\"#000000\">class = TWF</text>\n</g>\n<!-- 106&#45;&gt;107 -->\n<g id=\"edge107\" class=\"edge\">\n<title>106&#45;&gt;107</title>\n<path fill=\"none\" stroke=\"#000000\" d=\"M4257,-579.8796C4257,-571.6838 4257,-562.9891 4257,-554.5013\"/>\n<polygon fill=\"#000000\" stroke=\"#000000\" points=\"4260.5001,-554.298 4257,-544.2981 4253.5001,-554.2981 4260.5001,-554.298\"/>\n</g>\n<!-- 120 -->\n<g id=\"node121\" class=\"node\">\n<title>120</title>\n<polygon fill=\"#3a9ee5\" stroke=\"#000000\" points=\"4575,-544 4435,-544 4435,-461 4575,-461 4575,-544\"/>\n<text text-anchor=\"middle\" x=\"4505\" y=\"-528.8\" font-family=\"Helvetica,sans-Serif\" font-size=\"14.00\" fill=\"#000000\">Tool wear &lt;= 1.635</text>\n<text text-anchor=\"middle\" x=\"4505\" y=\"-513.8\" font-family=\"Helvetica,sans-Serif\" font-size=\"14.00\" fill=\"#000000\">gini = 0.013</text>\n<text text-anchor=\"middle\" x=\"4505\" y=\"-498.8\" font-family=\"Helvetica,sans-Serif\" font-size=\"14.00\" fill=\"#000000\">samples = 308</text>\n<text text-anchor=\"middle\" x=\"4505\" y=\"-483.8\" font-family=\"Helvetica,sans-Serif\" font-size=\"14.00\" fill=\"#000000\">value = [2, 306]</text>\n<text text-anchor=\"middle\" x=\"4505\" y=\"-468.8\" font-family=\"Helvetica,sans-Serif\" font-size=\"14.00\" fill=\"#000000\">class = TWF</text>\n</g>\n<!-- 106&#45;&gt;120 -->\n<g id=\"edge120\" class=\"edge\">\n<title>106&#45;&gt;120</title>\n<path fill=\"none\" stroke=\"#000000\" d=\"M4327.0724,-587.8765C4357.7085,-573.1762 4393.799,-555.8586 4425.4403,-540.6758\"/>\n<polygon fill=\"#000000\" stroke=\"#000000\" points=\"4427.1693,-543.7283 4434.6709,-536.2466 4424.1409,-537.4173 4427.1693,-543.7283\"/>\n</g>\n<!-- 108 -->\n<g id=\"node109\" class=\"node\">\n<title>108</title>\n<polygon fill=\"#69b5eb\" stroke=\"#000000\" points=\"4251,-425 4111,-425 4111,-342 4251,-342 4251,-425\"/>\n<text text-anchor=\"middle\" x=\"4181\" y=\"-409.8\" font-family=\"Helvetica,sans-Serif\" font-size=\"14.00\" fill=\"#000000\">Tool wear &lt;= 1.666</text>\n<text text-anchor=\"middle\" x=\"4181\" y=\"-394.8\" font-family=\"Helvetica,sans-Serif\" font-size=\"14.00\" fill=\"#000000\">gini = 0.313</text>\n<text text-anchor=\"middle\" x=\"4181\" y=\"-379.8\" font-family=\"Helvetica,sans-Serif\" font-size=\"14.00\" fill=\"#000000\">samples = 1227</text>\n<text text-anchor=\"middle\" x=\"4181\" y=\"-364.8\" font-family=\"Helvetica,sans-Serif\" font-size=\"14.00\" fill=\"#000000\">value = [238, 989]</text>\n<text text-anchor=\"middle\" x=\"4181\" y=\"-349.8\" font-family=\"Helvetica,sans-Serif\" font-size=\"14.00\" fill=\"#000000\">class = TWF</text>\n</g>\n<!-- 107&#45;&gt;108 -->\n<g id=\"edge108\" class=\"edge\">\n<title>107&#45;&gt;108</title>\n<path fill=\"none\" stroke=\"#000000\" d=\"M4230.4189,-460.8796C4224.8395,-452.1434 4218.8981,-442.8404 4213.1405,-433.8253\"/>\n<polygon fill=\"#000000\" stroke=\"#000000\" points=\"4216.0269,-431.8421 4207.6946,-425.2981 4210.1274,-435.6098 4216.0269,-431.8421\"/>\n</g>\n<!-- 119 -->\n<g id=\"node120\" class=\"node\">\n<title>119</title>\n<polygon fill=\"#e58139\" stroke=\"#000000\" points=\"4397,-417.5 4269,-417.5 4269,-349.5 4397,-349.5 4397,-417.5\"/>\n<text text-anchor=\"middle\" x=\"4333\" y=\"-402.3\" font-family=\"Helvetica,sans-Serif\" font-size=\"14.00\" fill=\"#000000\">gini = 0.0</text>\n<text text-anchor=\"middle\" x=\"4333\" y=\"-387.3\" font-family=\"Helvetica,sans-Serif\" font-size=\"14.00\" fill=\"#000000\">samples = 27</text>\n<text text-anchor=\"middle\" x=\"4333\" y=\"-372.3\" font-family=\"Helvetica,sans-Serif\" font-size=\"14.00\" fill=\"#000000\">value = [27, 0]</text>\n<text text-anchor=\"middle\" x=\"4333\" y=\"-357.3\" font-family=\"Helvetica,sans-Serif\" font-size=\"14.00\" fill=\"#000000\">class = No failure</text>\n</g>\n<!-- 107&#45;&gt;119 -->\n<g id=\"edge119\" class=\"edge\">\n<title>107&#45;&gt;119</title>\n<path fill=\"none\" stroke=\"#000000\" d=\"M4283.5811,-460.8796C4290.674,-449.7735 4298.3521,-437.7513 4305.4937,-426.5691\"/>\n<polygon fill=\"#000000\" stroke=\"#000000\" points=\"4308.6518,-428.1267 4311.0846,-417.8149 4302.7523,-424.3589 4308.6518,-428.1267\"/>\n</g>\n<!-- 109 -->\n<g id=\"node110\" class=\"node\">\n<title>109</title>\n<polygon fill=\"#9dcff2\" stroke=\"#000000\" points=\"4264.5,-306 4077.5,-306 4077.5,-223 4264.5,-223 4264.5,-306\"/>\n<text text-anchor=\"middle\" x=\"4171\" y=\"-290.8\" font-family=\"Helvetica,sans-Serif\" font-size=\"14.00\" fill=\"#000000\">Rotational speed &lt;= 0.296</text>\n<text text-anchor=\"middle\" x=\"4171\" y=\"-275.8\" font-family=\"Helvetica,sans-Serif\" font-size=\"14.00\" fill=\"#000000\">gini = 0.446</text>\n<text text-anchor=\"middle\" x=\"4171\" y=\"-260.8\" font-family=\"Helvetica,sans-Serif\" font-size=\"14.00\" fill=\"#000000\">samples = 378</text>\n<text text-anchor=\"middle\" x=\"4171\" y=\"-245.8\" font-family=\"Helvetica,sans-Serif\" font-size=\"14.00\" fill=\"#000000\">value = [127, 251]</text>\n<text text-anchor=\"middle\" x=\"4171\" y=\"-230.8\" font-family=\"Helvetica,sans-Serif\" font-size=\"14.00\" fill=\"#000000\">class = TWF</text>\n</g>\n<!-- 108&#45;&gt;109 -->\n<g id=\"edge109\" class=\"edge\">\n<title>108&#45;&gt;109</title>\n<path fill=\"none\" stroke=\"#000000\" d=\"M4177.5025,-341.8796C4176.8138,-333.6838 4176.0831,-324.9891 4175.3699,-316.5013\"/>\n<polygon fill=\"#000000\" stroke=\"#000000\" points=\"4178.8376,-315.9698 4174.5124,-306.2981 4171.8622,-316.5561 4178.8376,-315.9698\"/>\n</g>\n<!-- 114 -->\n<g id=\"node115\" class=\"node\">\n<title>114</title>\n<polygon fill=\"#57ace9\" stroke=\"#000000\" points=\"4423,-306 4283,-306 4283,-223 4423,-223 4423,-306\"/>\n<text text-anchor=\"middle\" x=\"4353\" y=\"-290.8\" font-family=\"Helvetica,sans-Serif\" font-size=\"14.00\" fill=\"#000000\">Tool wear &lt;= 2.014</text>\n<text text-anchor=\"middle\" x=\"4353\" y=\"-275.8\" font-family=\"Helvetica,sans-Serif\" font-size=\"14.00\" fill=\"#000000\">gini = 0.227</text>\n<text text-anchor=\"middle\" x=\"4353\" y=\"-260.8\" font-family=\"Helvetica,sans-Serif\" font-size=\"14.00\" fill=\"#000000\">samples = 849</text>\n<text text-anchor=\"middle\" x=\"4353\" y=\"-245.8\" font-family=\"Helvetica,sans-Serif\" font-size=\"14.00\" fill=\"#000000\">value = [111, 738]</text>\n<text text-anchor=\"middle\" x=\"4353\" y=\"-230.8\" font-family=\"Helvetica,sans-Serif\" font-size=\"14.00\" fill=\"#000000\">class = TWF</text>\n</g>\n<!-- 108&#45;&gt;114 -->\n<g id=\"edge114\" class=\"edge\">\n<title>108&#45;&gt;114</title>\n<path fill=\"none\" stroke=\"#000000\" d=\"M4241.1573,-341.8796C4255.167,-332.1868 4270.1854,-321.7961 4284.525,-311.8752\"/>\n<polygon fill=\"#000000\" stroke=\"#000000\" points=\"4286.6444,-314.6649 4292.8767,-306.0969 4282.6617,-308.9083 4286.6444,-314.6649\"/>\n</g>\n<!-- 110 -->\n<g id=\"node111\" class=\"node\">\n<title>110</title>\n<polygon fill=\"#6db7ec\" stroke=\"#000000\" points=\"4098,-187 3958,-187 3958,-104 4098,-104 4098,-187\"/>\n<text text-anchor=\"middle\" x=\"4028\" y=\"-171.8\" font-family=\"Helvetica,sans-Serif\" font-size=\"14.00\" fill=\"#000000\">Tool wear &lt;= 1.603</text>\n<text text-anchor=\"middle\" x=\"4028\" y=\"-156.8\" font-family=\"Helvetica,sans-Serif\" font-size=\"14.00\" fill=\"#000000\">gini = 0.33</text>\n<text text-anchor=\"middle\" x=\"4028\" y=\"-141.8\" font-family=\"Helvetica,sans-Serif\" font-size=\"14.00\" fill=\"#000000\">samples = 317</text>\n<text text-anchor=\"middle\" x=\"4028\" y=\"-126.8\" font-family=\"Helvetica,sans-Serif\" font-size=\"14.00\" fill=\"#000000\">value = [66, 251]</text>\n<text text-anchor=\"middle\" x=\"4028\" y=\"-111.8\" font-family=\"Helvetica,sans-Serif\" font-size=\"14.00\" fill=\"#000000\">class = TWF</text>\n</g>\n<!-- 109&#45;&gt;110 -->\n<g id=\"edge110\" class=\"edge\">\n<title>109&#45;&gt;110</title>\n<path fill=\"none\" stroke=\"#000000\" d=\"M4120.9855,-222.8796C4109.7299,-213.513 4097.6912,-203.4948 4086.1354,-193.8784\"/>\n<polygon fill=\"#000000\" stroke=\"#000000\" points=\"4088.1534,-191.0043 4078.2279,-187.2981 4083.6758,-196.385 4088.1534,-191.0043\"/>\n</g>\n<!-- 113 -->\n<g id=\"node114\" class=\"node\">\n<title>113</title>\n<polygon fill=\"#e58139\" stroke=\"#000000\" points=\"4244,-179.5 4116,-179.5 4116,-111.5 4244,-111.5 4244,-179.5\"/>\n<text text-anchor=\"middle\" x=\"4180\" y=\"-164.3\" font-family=\"Helvetica,sans-Serif\" font-size=\"14.00\" fill=\"#000000\">gini = 0.0</text>\n<text text-anchor=\"middle\" x=\"4180\" y=\"-149.3\" font-family=\"Helvetica,sans-Serif\" font-size=\"14.00\" fill=\"#000000\">samples = 61</text>\n<text text-anchor=\"middle\" x=\"4180\" y=\"-134.3\" font-family=\"Helvetica,sans-Serif\" font-size=\"14.00\" fill=\"#000000\">value = [61, 0]</text>\n<text text-anchor=\"middle\" x=\"4180\" y=\"-119.3\" font-family=\"Helvetica,sans-Serif\" font-size=\"14.00\" fill=\"#000000\">class = No failure</text>\n</g>\n<!-- 109&#45;&gt;113 -->\n<g id=\"edge113\" class=\"edge\">\n<title>109&#45;&gt;113</title>\n<path fill=\"none\" stroke=\"#000000\" d=\"M4174.1478,-222.8796C4174.9545,-212.2134 4175.8251,-200.7021 4176.6419,-189.9015\"/>\n<polygon fill=\"#000000\" stroke=\"#000000\" points=\"4180.1405,-190.0504 4177.4048,-179.8149 4173.1605,-189.5225 4180.1405,-190.0504\"/>\n</g>\n<!-- 111 -->\n<g id=\"node112\" class=\"node\">\n<title>111</title>\n<polygon fill=\"#55abe9\" stroke=\"#000000\" points=\"4090,-68 3966,-68 3966,0 4090,0 4090,-68\"/>\n<text text-anchor=\"middle\" x=\"4028\" y=\"-52.8\" font-family=\"Helvetica,sans-Serif\" font-size=\"14.00\" fill=\"#000000\">gini = 0.219</text>\n<text text-anchor=\"middle\" x=\"4028\" y=\"-37.8\" font-family=\"Helvetica,sans-Serif\" font-size=\"14.00\" fill=\"#000000\">samples = 287</text>\n<text text-anchor=\"middle\" x=\"4028\" y=\"-22.8\" font-family=\"Helvetica,sans-Serif\" font-size=\"14.00\" fill=\"#000000\">value = [36, 251]</text>\n<text text-anchor=\"middle\" x=\"4028\" y=\"-7.8\" font-family=\"Helvetica,sans-Serif\" font-size=\"14.00\" fill=\"#000000\">class = TWF</text>\n</g>\n<!-- 110&#45;&gt;111 -->\n<g id=\"edge111\" class=\"edge\">\n<title>110&#45;&gt;111</title>\n<path fill=\"none\" stroke=\"#000000\" d=\"M4028,-103.9815C4028,-95.618 4028,-86.7965 4028,-78.3409\"/>\n<polygon fill=\"#000000\" stroke=\"#000000\" points=\"4031.5001,-78.2636 4028,-68.2637 4024.5001,-78.2637 4031.5001,-78.2636\"/>\n</g>\n<!-- 112 -->\n<g id=\"node113\" class=\"node\">\n<title>112</title>\n<polygon fill=\"#e58139\" stroke=\"#000000\" points=\"4236,-68 4108,-68 4108,0 4236,0 4236,-68\"/>\n<text text-anchor=\"middle\" x=\"4172\" y=\"-52.8\" font-family=\"Helvetica,sans-Serif\" font-size=\"14.00\" fill=\"#000000\">gini = 0.0</text>\n<text text-anchor=\"middle\" x=\"4172\" y=\"-37.8\" font-family=\"Helvetica,sans-Serif\" font-size=\"14.00\" fill=\"#000000\">samples = 30</text>\n<text text-anchor=\"middle\" x=\"4172\" y=\"-22.8\" font-family=\"Helvetica,sans-Serif\" font-size=\"14.00\" fill=\"#000000\">value = [30, 0]</text>\n<text text-anchor=\"middle\" x=\"4172\" y=\"-7.8\" font-family=\"Helvetica,sans-Serif\" font-size=\"14.00\" fill=\"#000000\">class = No failure</text>\n</g>\n<!-- 110&#45;&gt;112 -->\n<g id=\"edge112\" class=\"edge\">\n<title>110&#45;&gt;112</title>\n<path fill=\"none\" stroke=\"#000000\" d=\"M4081.6203,-103.9815C4094.0833,-94.3313 4107.3338,-84.0714 4119.7373,-74.4673\"/>\n<polygon fill=\"#000000\" stroke=\"#000000\" points=\"4121.9851,-77.1534 4127.7492,-68.2637 4117.6995,-71.6186 4121.9851,-77.1534\"/>\n</g>\n<!-- 115 -->\n<g id=\"node116\" class=\"node\">\n<title>115</title>\n<polygon fill=\"#54aae9\" stroke=\"#000000\" points=\"4443.5,-187 4262.5,-187 4262.5,-104 4443.5,-104 4443.5,-187\"/>\n<text text-anchor=\"middle\" x=\"4353\" y=\"-171.8\" font-family=\"Helvetica,sans-Serif\" font-size=\"14.00\" fill=\"#000000\">Air temperature &lt;= &#45;1.373</text>\n<text text-anchor=\"middle\" x=\"4353\" y=\"-156.8\" font-family=\"Helvetica,sans-Serif\" font-size=\"14.00\" fill=\"#000000\">gini = 0.212</text>\n<text text-anchor=\"middle\" x=\"4353\" y=\"-141.8\" font-family=\"Helvetica,sans-Serif\" font-size=\"14.00\" fill=\"#000000\">samples = 839</text>\n<text text-anchor=\"middle\" x=\"4353\" y=\"-126.8\" font-family=\"Helvetica,sans-Serif\" font-size=\"14.00\" fill=\"#000000\">value = [101, 738]</text>\n<text text-anchor=\"middle\" x=\"4353\" y=\"-111.8\" font-family=\"Helvetica,sans-Serif\" font-size=\"14.00\" fill=\"#000000\">class = TWF</text>\n</g>\n<!-- 114&#45;&gt;115 -->\n<g id=\"edge115\" class=\"edge\">\n<title>114&#45;&gt;115</title>\n<path fill=\"none\" stroke=\"#000000\" d=\"M4353,-222.8796C4353,-214.6838 4353,-205.9891 4353,-197.5013\"/>\n<polygon fill=\"#000000\" stroke=\"#000000\" points=\"4356.5001,-197.298 4353,-187.2981 4349.5001,-197.2981 4356.5001,-197.298\"/>\n</g>\n<!-- 118 -->\n<g id=\"node119\" class=\"node\">\n<title>118</title>\n<polygon fill=\"#e58139\" stroke=\"#000000\" points=\"4590,-179.5 4462,-179.5 4462,-111.5 4590,-111.5 4590,-179.5\"/>\n<text text-anchor=\"middle\" x=\"4526\" y=\"-164.3\" font-family=\"Helvetica,sans-Serif\" font-size=\"14.00\" fill=\"#000000\">gini = 0.0</text>\n<text text-anchor=\"middle\" x=\"4526\" y=\"-149.3\" font-family=\"Helvetica,sans-Serif\" font-size=\"14.00\" fill=\"#000000\">samples = 10</text>\n<text text-anchor=\"middle\" x=\"4526\" y=\"-134.3\" font-family=\"Helvetica,sans-Serif\" font-size=\"14.00\" fill=\"#000000\">value = [10, 0]</text>\n<text text-anchor=\"middle\" x=\"4526\" y=\"-119.3\" font-family=\"Helvetica,sans-Serif\" font-size=\"14.00\" fill=\"#000000\">class = No failure</text>\n</g>\n<!-- 114&#45;&gt;118 -->\n<g id=\"edge118\" class=\"edge\">\n<title>114&#45;&gt;118</title>\n<path fill=\"none\" stroke=\"#000000\" d=\"M4413.507,-222.8796C4431.1752,-210.7263 4450.4385,-197.4759 4467.9509,-185.4297\"/>\n<polygon fill=\"#000000\" stroke=\"#000000\" points=\"4470.1371,-188.1741 4476.3926,-179.623 4466.1699,-182.4067 4470.1371,-188.1741\"/>\n</g>\n<!-- 116 -->\n<g id=\"node117\" class=\"node\">\n<title>116</title>\n<polygon fill=\"#e58139\" stroke=\"#000000\" points=\"4399,-68 4271,-68 4271,0 4399,0 4399,-68\"/>\n<text text-anchor=\"middle\" x=\"4335\" y=\"-52.8\" font-family=\"Helvetica,sans-Serif\" font-size=\"14.00\" fill=\"#000000\">gini = 0.0</text>\n<text text-anchor=\"middle\" x=\"4335\" y=\"-37.8\" font-family=\"Helvetica,sans-Serif\" font-size=\"14.00\" fill=\"#000000\">samples = 9</text>\n<text text-anchor=\"middle\" x=\"4335\" y=\"-22.8\" font-family=\"Helvetica,sans-Serif\" font-size=\"14.00\" fill=\"#000000\">value = [9, 0]</text>\n<text text-anchor=\"middle\" x=\"4335\" y=\"-7.8\" font-family=\"Helvetica,sans-Serif\" font-size=\"14.00\" fill=\"#000000\">class = No failure</text>\n</g>\n<!-- 115&#45;&gt;116 -->\n<g id=\"edge116\" class=\"edge\">\n<title>115&#45;&gt;116</title>\n<path fill=\"none\" stroke=\"#000000\" d=\"M4346.2975,-103.9815C4344.9473,-95.618 4343.5232,-86.7965 4342.1582,-78.3409\"/>\n<polygon fill=\"#000000\" stroke=\"#000000\" points=\"4345.5804,-77.578 4340.5314,-68.2637 4338.6699,-78.6937 4345.5804,-77.578\"/>\n</g>\n<!-- 117 -->\n<g id=\"node118\" class=\"node\">\n<title>117</title>\n<polygon fill=\"#52a9e8\" stroke=\"#000000\" points=\"4541,-68 4417,-68 4417,0 4541,0 4541,-68\"/>\n<text text-anchor=\"middle\" x=\"4479\" y=\"-52.8\" font-family=\"Helvetica,sans-Serif\" font-size=\"14.00\" fill=\"#000000\">gini = 0.197</text>\n<text text-anchor=\"middle\" x=\"4479\" y=\"-37.8\" font-family=\"Helvetica,sans-Serif\" font-size=\"14.00\" fill=\"#000000\">samples = 830</text>\n<text text-anchor=\"middle\" x=\"4479\" y=\"-22.8\" font-family=\"Helvetica,sans-Serif\" font-size=\"14.00\" fill=\"#000000\">value = [92, 738]</text>\n<text text-anchor=\"middle\" x=\"4479\" y=\"-7.8\" font-family=\"Helvetica,sans-Serif\" font-size=\"14.00\" fill=\"#000000\">class = TWF</text>\n</g>\n<!-- 115&#45;&gt;117 -->\n<g id=\"edge117\" class=\"edge\">\n<title>115&#45;&gt;117</title>\n<path fill=\"none\" stroke=\"#000000\" d=\"M4399.9177,-103.9815C4410.6152,-94.5151 4421.9756,-84.462 4432.6492,-75.0168\"/>\n<polygon fill=\"#000000\" stroke=\"#000000\" points=\"4435.1111,-77.5118 4440.2805,-68.2637 4430.4722,-72.2696 4435.1111,-77.5118\"/>\n</g>\n<!-- 121 -->\n<g id=\"node122\" class=\"node\">\n<title>121</title>\n<polygon fill=\"#42a1e6\" stroke=\"#000000\" points=\"4593,-425 4417,-425 4417,-342 4593,-342 4593,-425\"/>\n<text text-anchor=\"middle\" x=\"4505\" y=\"-409.8\" font-family=\"Helvetica,sans-Serif\" font-size=\"14.00\" fill=\"#000000\">Air temperature &lt;= 1.004</text>\n<text text-anchor=\"middle\" x=\"4505\" y=\"-394.8\" font-family=\"Helvetica,sans-Serif\" font-size=\"14.00\" fill=\"#000000\">gini = 0.083</text>\n<text text-anchor=\"middle\" x=\"4505\" y=\"-379.8\" font-family=\"Helvetica,sans-Serif\" font-size=\"14.00\" fill=\"#000000\">samples = 46</text>\n<text text-anchor=\"middle\" x=\"4505\" y=\"-364.8\" font-family=\"Helvetica,sans-Serif\" font-size=\"14.00\" fill=\"#000000\">value = [2, 44]</text>\n<text text-anchor=\"middle\" x=\"4505\" y=\"-349.8\" font-family=\"Helvetica,sans-Serif\" font-size=\"14.00\" fill=\"#000000\">class = TWF</text>\n</g>\n<!-- 120&#45;&gt;121 -->\n<g id=\"edge121\" class=\"edge\">\n<title>120&#45;&gt;121</title>\n<path fill=\"none\" stroke=\"#000000\" d=\"M4505,-460.8796C4505,-452.6838 4505,-443.9891 4505,-435.5013\"/>\n<polygon fill=\"#000000\" stroke=\"#000000\" points=\"4508.5001,-435.298 4505,-425.2981 4501.5001,-435.2981 4508.5001,-435.298\"/>\n</g>\n<!-- 124 -->\n<g id=\"node125\" class=\"node\">\n<title>124</title>\n<polygon fill=\"#399de5\" stroke=\"#000000\" points=\"4727,-417.5 4611,-417.5 4611,-349.5 4727,-349.5 4727,-417.5\"/>\n<text text-anchor=\"middle\" x=\"4669\" y=\"-402.3\" font-family=\"Helvetica,sans-Serif\" font-size=\"14.00\" fill=\"#000000\">gini = 0.0</text>\n<text text-anchor=\"middle\" x=\"4669\" y=\"-387.3\" font-family=\"Helvetica,sans-Serif\" font-size=\"14.00\" fill=\"#000000\">samples = 262</text>\n<text text-anchor=\"middle\" x=\"4669\" y=\"-372.3\" font-family=\"Helvetica,sans-Serif\" font-size=\"14.00\" fill=\"#000000\">value = [0, 262]</text>\n<text text-anchor=\"middle\" x=\"4669\" y=\"-357.3\" font-family=\"Helvetica,sans-Serif\" font-size=\"14.00\" fill=\"#000000\">class = TWF</text>\n</g>\n<!-- 120&#45;&gt;124 -->\n<g id=\"edge124\" class=\"edge\">\n<title>120&#45;&gt;124</title>\n<path fill=\"none\" stroke=\"#000000\" d=\"M4562.3592,-460.8796C4578.9561,-448.8368 4597.0375,-435.7167 4613.5176,-423.7586\"/>\n<polygon fill=\"#000000\" stroke=\"#000000\" points=\"4615.9351,-426.3288 4621.9733,-417.623 4611.824,-420.6632 4615.9351,-426.3288\"/>\n</g>\n<!-- 122 -->\n<g id=\"node123\" class=\"node\">\n<title>122</title>\n<polygon fill=\"#e58139\" stroke=\"#000000\" points=\"4569,-298.5 4441,-298.5 4441,-230.5 4569,-230.5 4569,-298.5\"/>\n<text text-anchor=\"middle\" x=\"4505\" y=\"-283.3\" font-family=\"Helvetica,sans-Serif\" font-size=\"14.00\" fill=\"#000000\">gini = 0.0</text>\n<text text-anchor=\"middle\" x=\"4505\" y=\"-268.3\" font-family=\"Helvetica,sans-Serif\" font-size=\"14.00\" fill=\"#000000\">samples = 2</text>\n<text text-anchor=\"middle\" x=\"4505\" y=\"-253.3\" font-family=\"Helvetica,sans-Serif\" font-size=\"14.00\" fill=\"#000000\">value = [2, 0]</text>\n<text text-anchor=\"middle\" x=\"4505\" y=\"-238.3\" font-family=\"Helvetica,sans-Serif\" font-size=\"14.00\" fill=\"#000000\">class = No failure</text>\n</g>\n<!-- 121&#45;&gt;122 -->\n<g id=\"edge122\" class=\"edge\">\n<title>121&#45;&gt;122</title>\n<path fill=\"none\" stroke=\"#000000\" d=\"M4505,-341.8796C4505,-331.2134 4505,-319.7021 4505,-308.9015\"/>\n<polygon fill=\"#000000\" stroke=\"#000000\" points=\"4508.5001,-308.8149 4505,-298.8149 4501.5001,-308.815 4508.5001,-308.8149\"/>\n</g>\n<!-- 123 -->\n<g id=\"node124\" class=\"node\">\n<title>123</title>\n<polygon fill=\"#399de5\" stroke=\"#000000\" points=\"4694.5,-298.5 4587.5,-298.5 4587.5,-230.5 4694.5,-230.5 4694.5,-298.5\"/>\n<text text-anchor=\"middle\" x=\"4641\" y=\"-283.3\" font-family=\"Helvetica,sans-Serif\" font-size=\"14.00\" fill=\"#000000\">gini = 0.0</text>\n<text text-anchor=\"middle\" x=\"4641\" y=\"-268.3\" font-family=\"Helvetica,sans-Serif\" font-size=\"14.00\" fill=\"#000000\">samples = 44</text>\n<text text-anchor=\"middle\" x=\"4641\" y=\"-253.3\" font-family=\"Helvetica,sans-Serif\" font-size=\"14.00\" fill=\"#000000\">value = [0, 44]</text>\n<text text-anchor=\"middle\" x=\"4641\" y=\"-238.3\" font-family=\"Helvetica,sans-Serif\" font-size=\"14.00\" fill=\"#000000\">class = TWF</text>\n</g>\n<!-- 121&#45;&gt;123 -->\n<g id=\"edge123\" class=\"edge\">\n<title>121&#45;&gt;123</title>\n<path fill=\"none\" stroke=\"#000000\" d=\"M4552.5662,-341.8796C4566.0128,-330.1138 4580.6347,-317.3197 4594.0451,-305.5855\"/>\n<polygon fill=\"#000000\" stroke=\"#000000\" points=\"4596.5619,-308.034 4601.7829,-298.8149 4591.9524,-302.766 4596.5619,-308.034\"/>\n</g>\n</g>\n</svg>\n"
          },
          "metadata": {},
          "execution_count": 31
        }
      ],
      "source": [
        "import graphviz\n",
        "from sklearn import tree\n",
        "\n",
        "data = tree.export_graphviz(model,\n",
        "                            feature_names=X.columns,  \n",
        "                            class_names=['No failure','TWF','HDF','PWF','OSF','RNF'],\n",
        "                            filled=True)\n",
        "\n",
        "# draw graph\n",
        "graph = graphviz.Source(data, format=\"png\") \n",
        "graph.render('nodes', format='png', view=False)\n",
        "graph"
      ]
    },
    {
      "cell_type": "code",
      "execution_count": 32,
      "metadata": {
        "colab": {
          "base_uri": "https://localhost:8080/"
        },
        "id": "AFyx-cms5TXk",
        "outputId": "96fdaa7b-8b55-4269-fbd2-9072dce8e594"
      },
      "outputs": [
        {
          "output_type": "stream",
          "name": "stdout",
          "text": [
            "|--- feature_3 <= -1.01\n",
            "|   |--- feature_1 <= 0.78\n",
            "|   |   |--- feature_5 <= 1.08\n",
            "|   |   |   |--- feature_4 <= 2.44\n",
            "|   |   |   |   |--- class: 0.0\n",
            "|   |   |   |--- feature_4 >  2.44\n",
            "|   |   |   |   |--- feature_5 <= 0.12\n",
            "|   |   |   |   |   |--- feature_4 <= 2.63\n",
            "|   |   |   |   |   |   |--- feature_2 <= -0.03\n",
            "|   |   |   |   |   |   |   |--- feature_3 <= -2.03\n",
            "|   |   |   |   |   |   |   |   |--- class: 0.0\n",
            "|   |   |   |   |   |   |   |--- feature_3 >  -2.03\n",
            "|   |   |   |   |   |   |   |   |--- class: 1.0\n",
            "|   |   |   |   |   |   |--- feature_2 >  -0.03\n",
            "|   |   |   |   |   |   |   |--- class: 0.0\n",
            "|   |   |   |   |   |--- feature_4 >  2.63\n",
            "|   |   |   |   |   |   |--- class: 0.0\n",
            "|   |   |   |   |--- feature_5 >  0.12\n",
            "|   |   |   |   |   |--- class: 0.0\n",
            "|   |   |--- feature_5 >  1.08\n",
            "|   |   |   |--- feature_4 <= 1.45\n",
            "|   |   |   |   |--- feature_5 <= 1.56\n",
            "|   |   |   |   |   |--- class: 0.0\n",
            "|   |   |   |   |--- feature_5 >  1.56\n",
            "|   |   |   |   |   |--- feature_4 <= 0.83\n",
            "|   |   |   |   |   |   |--- feature_4 <= 0.38\n",
            "|   |   |   |   |   |   |   |--- class: 0.0\n",
            "|   |   |   |   |   |   |--- feature_4 >  0.38\n",
            "|   |   |   |   |   |   |   |--- feature_1 <= 0.30\n",
            "|   |   |   |   |   |   |   |   |--- class: 1.0\n",
            "|   |   |   |   |   |   |   |--- feature_1 >  0.30\n",
            "|   |   |   |   |   |   |   |   |--- class: 0.0\n",
            "|   |   |   |   |   |--- feature_4 >  0.83\n",
            "|   |   |   |   |   |   |--- class: 0.0\n",
            "|   |   |   |--- feature_4 >  1.45\n",
            "|   |   |   |   |--- feature_0 <= 0.50\n",
            "|   |   |   |   |   |--- feature_5 <= 1.22\n",
            "|   |   |   |   |   |   |--- feature_1 <= 0.45\n",
            "|   |   |   |   |   |   |   |--- class: 0.0\n",
            "|   |   |   |   |   |   |--- feature_1 >  0.45\n",
            "|   |   |   |   |   |   |   |--- class: 1.0\n",
            "|   |   |   |   |   |--- feature_5 >  1.22\n",
            "|   |   |   |   |   |   |--- feature_1 <= 0.58\n",
            "|   |   |   |   |   |   |   |--- feature_4 <= 1.49\n",
            "|   |   |   |   |   |   |   |   |--- class: 1.0\n",
            "|   |   |   |   |   |   |   |--- feature_4 >  1.49\n",
            "|   |   |   |   |   |   |   |   |--- class: 1.0\n",
            "|   |   |   |   |   |   |--- feature_1 >  0.58\n",
            "|   |   |   |   |   |   |   |--- class: 0.0\n",
            "|   |   |   |   |--- feature_0 >  0.50\n",
            "|   |   |   |   |   |--- feature_4 <= 2.26\n",
            "|   |   |   |   |   |   |--- class: 0.0\n",
            "|   |   |   |   |   |--- feature_4 >  2.26\n",
            "|   |   |   |   |   |   |--- class: 1.0\n",
            "|   |--- feature_1 >  0.78\n",
            "|   |   |--- feature_3 <= -1.03\n",
            "|   |   |   |--- feature_2 <= 1.38\n",
            "|   |   |   |   |--- feature_5 <= -1.69\n",
            "|   |   |   |   |   |--- class: 0.0\n",
            "|   |   |   |   |--- feature_5 >  -1.69\n",
            "|   |   |   |   |   |--- feature_6 <= -0.39\n",
            "|   |   |   |   |   |   |--- class: 0.0\n",
            "|   |   |   |   |   |--- feature_6 >  -0.39\n",
            "|   |   |   |   |   |   |--- feature_3 <= -2.00\n",
            "|   |   |   |   |   |   |   |--- class: 0.0\n",
            "|   |   |   |   |   |   |--- feature_3 >  -2.00\n",
            "|   |   |   |   |   |   |   |--- feature_1 <= 1.28\n",
            "|   |   |   |   |   |   |   |   |--- class: 1.0\n",
            "|   |   |   |   |   |   |   |--- feature_1 >  1.28\n",
            "|   |   |   |   |   |   |   |   |--- class: 1.0\n",
            "|   |   |   |--- feature_2 >  1.38\n",
            "|   |   |   |   |--- feature_6 <= 1.43\n",
            "|   |   |   |   |   |--- class: 0.0\n",
            "|   |   |   |   |--- feature_6 >  1.43\n",
            "|   |   |   |   |   |--- feature_3 <= -1.11\n",
            "|   |   |   |   |   |   |--- feature_1 <= 1.40\n",
            "|   |   |   |   |   |   |   |--- class: 0.0\n",
            "|   |   |   |   |   |   |--- feature_1 >  1.40\n",
            "|   |   |   |   |   |   |   |--- feature_3 <= -1.26\n",
            "|   |   |   |   |   |   |   |   |--- class: 1.0\n",
            "|   |   |   |   |   |   |   |--- feature_3 >  -1.26\n",
            "|   |   |   |   |   |   |   |   |--- class: 1.0\n",
            "|   |   |   |   |   |--- feature_3 >  -1.11\n",
            "|   |   |   |   |   |   |--- class: 0.0\n",
            "|   |   |--- feature_3 >  -1.03\n",
            "|   |   |   |--- class: 0.0\n",
            "|--- feature_3 >  -1.01\n",
            "|   |--- feature_5 <= 1.45\n",
            "|   |   |--- feature_4 <= 2.04\n",
            "|   |   |   |--- feature_5 <= 0.37\n",
            "|   |   |   |   |--- feature_2 <= 1.45\n",
            "|   |   |   |   |   |--- feature_6 <= -1.54\n",
            "|   |   |   |   |   |   |--- feature_6 <= -1.54\n",
            "|   |   |   |   |   |   |   |--- class: 0.0\n",
            "|   |   |   |   |   |   |--- feature_6 >  -1.54\n",
            "|   |   |   |   |   |   |   |--- class: 1.0\n",
            "|   |   |   |   |   |--- feature_6 >  -1.54\n",
            "|   |   |   |   |   |   |--- class: 0.0\n",
            "|   |   |   |   |--- feature_2 >  1.45\n",
            "|   |   |   |   |   |--- feature_2 <= 1.52\n",
            "|   |   |   |   |   |   |--- feature_3 <= -0.05\n",
            "|   |   |   |   |   |   |   |--- feature_6 <= -0.15\n",
            "|   |   |   |   |   |   |   |   |--- class: 1.0\n",
            "|   |   |   |   |   |   |   |--- feature_6 >  -0.15\n",
            "|   |   |   |   |   |   |   |   |--- class: 0.0\n",
            "|   |   |   |   |   |   |--- feature_3 >  -0.05\n",
            "|   |   |   |   |   |   |   |--- class: 0.0\n",
            "|   |   |   |   |   |--- feature_2 >  1.52\n",
            "|   |   |   |   |   |   |--- class: 0.0\n",
            "|   |   |   |--- feature_5 >  0.37\n",
            "|   |   |   |   |--- feature_5 <= 0.39\n",
            "|   |   |   |   |   |--- feature_3 <= -0.78\n",
            "|   |   |   |   |   |   |--- feature_3 <= -0.95\n",
            "|   |   |   |   |   |   |   |--- class: 0.0\n",
            "|   |   |   |   |   |   |--- feature_3 >  -0.95\n",
            "|   |   |   |   |   |   |   |--- class: 1.0\n",
            "|   |   |   |   |   |--- feature_3 >  -0.78\n",
            "|   |   |   |   |   |   |--- class: 0.0\n",
            "|   |   |   |   |--- feature_5 >  0.39\n",
            "|   |   |   |   |   |--- feature_1 <= -0.82\n",
            "|   |   |   |   |   |   |--- class: 0.0\n",
            "|   |   |   |   |   |--- feature_1 >  -0.82\n",
            "|   |   |   |   |   |   |--- feature_2 <= -1.31\n",
            "|   |   |   |   |   |   |   |--- feature_5 <= 0.82\n",
            "|   |   |   |   |   |   |   |   |--- class: 0.0\n",
            "|   |   |   |   |   |   |   |--- feature_5 >  0.82\n",
            "|   |   |   |   |   |   |   |   |--- class: 1.0\n",
            "|   |   |   |   |   |   |--- feature_2 >  -1.31\n",
            "|   |   |   |   |   |   |   |--- feature_1 <= -0.17\n",
            "|   |   |   |   |   |   |   |   |--- class: 0.0\n",
            "|   |   |   |   |   |   |   |--- feature_1 >  -0.17\n",
            "|   |   |   |   |   |   |   |   |--- class: 0.0\n",
            "|   |   |--- feature_4 >  2.04\n",
            "|   |   |   |--- feature_5 <= -0.19\n",
            "|   |   |   |   |--- class: 0.0\n",
            "|   |   |   |--- feature_5 >  -0.19\n",
            "|   |   |   |   |--- feature_2 <= -1.01\n",
            "|   |   |   |   |   |--- class: 0.0\n",
            "|   |   |   |   |--- feature_2 >  -1.01\n",
            "|   |   |   |   |   |--- class: 1.0\n",
            "|   |--- feature_5 >  1.45\n",
            "|   |   |--- feature_5 <= 1.54\n",
            "|   |   |   |--- feature_2 <= -0.71\n",
            "|   |   |   |   |--- feature_5 <= 1.51\n",
            "|   |   |   |   |   |--- feature_2 <= -1.52\n",
            "|   |   |   |   |   |   |--- class: 0.0\n",
            "|   |   |   |   |   |--- feature_2 >  -1.52\n",
            "|   |   |   |   |   |   |--- feature_6 <= -1.55\n",
            "|   |   |   |   |   |   |   |--- class: 0.0\n",
            "|   |   |   |   |   |   |--- feature_6 >  -1.55\n",
            "|   |   |   |   |   |   |   |--- feature_4 <= -0.35\n",
            "|   |   |   |   |   |   |   |   |--- class: 1.0\n",
            "|   |   |   |   |   |   |   |--- feature_4 >  -0.35\n",
            "|   |   |   |   |   |   |   |   |--- class: 1.0\n",
            "|   |   |   |   |--- feature_5 >  1.51\n",
            "|   |   |   |   |   |--- class: 0.0\n",
            "|   |   |   |--- feature_2 >  -0.71\n",
            "|   |   |   |   |--- class: 0.0\n",
            "|   |   |--- feature_5 >  1.54\n",
            "|   |   |   |--- feature_6 <= 1.30\n",
            "|   |   |   |   |--- feature_6 <= 0.91\n",
            "|   |   |   |   |   |--- feature_5 <= 1.67\n",
            "|   |   |   |   |   |   |--- feature_3 <= 0.30\n",
            "|   |   |   |   |   |   |   |--- feature_5 <= 1.60\n",
            "|   |   |   |   |   |   |   |   |--- class: 1.0\n",
            "|   |   |   |   |   |   |   |--- feature_5 >  1.60\n",
            "|   |   |   |   |   |   |   |   |--- class: 0.0\n",
            "|   |   |   |   |   |   |--- feature_3 >  0.30\n",
            "|   |   |   |   |   |   |   |--- class: 0.0\n",
            "|   |   |   |   |   |--- feature_5 >  1.67\n",
            "|   |   |   |   |   |   |--- feature_5 <= 2.01\n",
            "|   |   |   |   |   |   |   |--- feature_1 <= -1.37\n",
            "|   |   |   |   |   |   |   |   |--- class: 0.0\n",
            "|   |   |   |   |   |   |   |--- feature_1 >  -1.37\n",
            "|   |   |   |   |   |   |   |   |--- class: 1.0\n",
            "|   |   |   |   |   |   |--- feature_5 >  2.01\n",
            "|   |   |   |   |   |   |   |--- class: 0.0\n",
            "|   |   |   |   |--- feature_6 >  0.91\n",
            "|   |   |   |   |   |--- class: 0.0\n",
            "|   |   |   |--- feature_6 >  1.30\n",
            "|   |   |   |   |--- feature_5 <= 1.63\n",
            "|   |   |   |   |   |--- feature_1 <= 1.00\n",
            "|   |   |   |   |   |   |--- class: 0.0\n",
            "|   |   |   |   |   |--- feature_1 >  1.00\n",
            "|   |   |   |   |   |   |--- class: 1.0\n",
            "|   |   |   |   |--- feature_5 >  1.63\n",
            "|   |   |   |   |   |--- class: 1.0\n",
            "\n"
          ]
        }
      ],
      "source": [
        "from sklearn.tree import export_text\n",
        "\n",
        "rules = export_text(model)\n",
        "\n",
        "# print the rules\n",
        "print(rules)"
      ]
    },
    {
      "cell_type": "code",
      "source": [
        "# save the model\n",
        "pickle.dump(model, open('decision_tree_model.pkl', 'wb'))"
      ],
      "metadata": {
        "id": "9ibV-f59LZtY"
      },
      "execution_count": 34,
      "outputs": []
    },
    {
      "cell_type": "markdown",
      "metadata": {
        "id": "xdEevcVJocxR"
      },
      "source": [
        "## **k-NN (K-nearest neighbors) Model**"
      ]
    },
    {
      "cell_type": "code",
      "execution_count": 35,
      "metadata": {
        "colab": {
          "base_uri": "https://localhost:8080/"
        },
        "id": "r_B_xlmgocxS",
        "outputId": "d3578102-b6b1-4ac4-cd11-121c746ae407"
      },
      "outputs": [
        {
          "output_type": "stream",
          "name": "stdout",
          "text": [
            "{'n_neighbors': 2}\n"
          ]
        }
      ],
      "source": [
        "from sklearn.neighbors import KNeighborsClassifier\n",
        "from sklearn.model_selection import GridSearchCV\n",
        "\n",
        "# create the model\n",
        "knn = KNeighborsClassifier()\n",
        "\n",
        "# define the parameter grid\n",
        "param_grid = {'n_neighbors': range(2, 20)}\n",
        "\n",
        "# create the grid search object\n",
        "grid_search = GridSearchCV(knn, param_grid, cv=5, scoring='accuracy')\n",
        "\n",
        "# fit the grid search to the data\n",
        "grid_search.fit(X_train, y_train)\n",
        "\n",
        "# print the best parameters\n",
        "print(grid_search.best_params_)"
      ]
    },
    {
      "cell_type": "markdown",
      "metadata": {
        "id": "azpRxZn1ocxS"
      },
      "source": [
        "Build the model"
      ]
    },
    {
      "cell_type": "code",
      "execution_count": 36,
      "metadata": {
        "id": "wO3HTQ2hocxT"
      },
      "outputs": [],
      "source": [
        "start = time.time()\n",
        "model = KNeighborsClassifier(n_neighbors=2).fit(X_train, y_train)\n",
        "end_train = time.time()\n",
        "y_predictions = model.predict(X_test) # predictions from the testset\n",
        "end_predict = time.time()\n",
        "\n",
        "# evaluate the model\n",
        "log_scores(\"k-NN\", y_test, y_predictions)"
      ]
    },
    {
      "cell_type": "markdown",
      "metadata": {
        "id": "PsErsIsxocxT"
      },
      "source": [
        "Model evaluation for each Machine failure class:\n",
        "0. No failure\n",
        "1. Machine failure"
      ]
    },
    {
      "cell_type": "code",
      "execution_count": 37,
      "metadata": {
        "colab": {
          "base_uri": "https://localhost:8080/"
        },
        "id": "UeC6aS61ocxT",
        "outputId": "fcfaa2ea-db04-44e4-f43e-86a2652a4634"
      },
      "outputs": [
        {
          "output_type": "stream",
          "name": "stdout",
          "text": [
            "k-NN Model\n",
            "              precision    recall  f1-score   support\n",
            "\n",
            "         0.0       0.98      0.99      0.99      2746\n",
            "         1.0       0.50      0.36      0.42        74\n",
            "\n",
            "    accuracy                           0.97      2820\n",
            "   macro avg       0.74      0.68      0.70      2820\n",
            "weighted avg       0.97      0.97      0.97      2820\n",
            "\n"
          ]
        }
      ],
      "source": [
        "print(\"k-NN Model\\n\" + classification_report(y_test, y_predictions))"
      ]
    },
    {
      "cell_type": "code",
      "execution_count": 38,
      "metadata": {
        "colab": {
          "base_uri": "https://localhost:8080/",
          "height": 0
        },
        "id": "iLKpuuqNocxU",
        "outputId": "a2fc1622-b1ce-44d2-f1cf-ff455bd126b0"
      },
      "outputs": [
        {
          "output_type": "display_data",
          "data": {
            "text/plain": [
              "<Figure size 432x288 with 1 Axes>"
            ],
            "image/png": "[encoded data removed]"
          },
          "metadata": {
            "needs_background": "light"
          }
        }
      ],
      "source": [
        "from sklearn.model_selection import learning_curve\n",
        "\n",
        "train_sizes, train_scores, test_scores = learning_curve(model, X, y, cv=5)\n",
        "\n",
        "# plot the learning curve\n",
        "plt.plot(train_sizes, train_scores.mean(axis=1), label='Training score')\n",
        "plt.plot(train_sizes, test_scores .mean(axis=1), label='Testing score')\n",
        "plt.legend(loc='best')\n",
        "plt.show()"
      ]
    },
    {
      "cell_type": "markdown",
      "metadata": {
        "id": "J9gCKkSJocxU"
      },
      "source": [
        "Confusion matrix of k-NN model"
      ]
    },
    {
      "cell_type": "code",
      "execution_count": 39,
      "metadata": {
        "colab": {
          "base_uri": "https://localhost:8080/",
          "height": 0
        },
        "id": "Isu0lcpgocxU",
        "outputId": "d1281f47-b53a-471a-e4f9-cc044215352e"
      },
      "outputs": [
        {
          "output_type": "stream",
          "name": "stderr",
          "text": [
            "/usr/local/lib/python3.8/dist-packages/sklearn/utils/deprecation.py:87: FutureWarning: Function plot_confusion_matrix is deprecated; Function `plot_confusion_matrix` is deprecated in 1.0 and will be removed in 1.2. Use one of the class methods: ConfusionMatrixDisplay.from_predictions or ConfusionMatrixDisplay.from_estimator.\n",
            "  warnings.warn(msg, category=FutureWarning)\n"
          ]
        },
        {
          "output_type": "display_data",
          "data": {
            "text/plain": [
              "<Figure size 432x288 with 2 Axes>"
            ],
            "image/png": "[encoded data removed]"
          },
          "metadata": {
            "needs_background": "light"
          }
        }
      ],
      "source": [
        "from sklearn.metrics import plot_confusion_matrix\n",
        "\n",
        "plot_confusion_matrix(model, X_test, y_test, cmap=plt.cm.YlGnBu)  \n",
        "plt.show()"
      ]
    },
    {
      "cell_type": "code",
      "source": [
        "# save the model\n",
        "pickle.dump(model, open('k-NN_model.pkl', 'wb'))"
      ],
      "metadata": {
        "id": "r6AYvpOkL3HG"
      },
      "execution_count": 40,
      "outputs": []
    },
    {
      "cell_type": "markdown",
      "metadata": {
        "id": "v1hdpPU3c_P7"
      },
      "source": [
        "## **Random Forest Model**"
      ]
    },
    {
      "cell_type": "markdown",
      "metadata": {
        "id": "FRn2uYgoc_P9"
      },
      "source": [
        "Build the model"
      ]
    },
    {
      "cell_type": "code",
      "execution_count": 53,
      "metadata": {
        "id": "XtHk-xS3c_P9"
      },
      "outputs": [],
      "source": [
        "from sklearn.ensemble import RandomForestClassifier\n",
        "\n",
        "start = time.time()\n",
        "model = RandomForestClassifier(n_estimators=100, n_jobs=-1,\n",
        "                               random_state=0, bootstrap=True).fit(X_train, y_train)\n",
        "end_train = time.time()\n",
        "y_predictions = model.predict(X_test)\n",
        "end_predict = time.time()\n",
        "\n",
        "# evaluate the model\n",
        "log_scores(\"Random Forest\", y_test, y_predictions)"
      ]
    },
    {
      "cell_type": "markdown",
      "metadata": {
        "id": "mLPX8ahFc_P-"
      },
      "source": [
        "Model evaluation for each Machine failure class:\n",
        "0. No failure\n",
        "1. Machine failure\n"
      ]
    },
    {
      "cell_type": "code",
      "execution_count": 54,
      "metadata": {
        "colab": {
          "base_uri": "https://localhost:8080/"
        },
        "id": "jLYWJDjjc_P_",
        "outputId": "1e8e2b49-2e9c-4921-cd2b-5f900e931461"
      },
      "outputs": [
        {
          "output_type": "stream",
          "name": "stdout",
          "text": [
            "Random Forest Model\n",
            "              precision    recall  f1-score   support\n",
            "\n",
            "         0.0       0.99      1.00      0.99      2746\n",
            "         1.0       0.76      0.53      0.62        74\n",
            "\n",
            "    accuracy                           0.98      2820\n",
            "   macro avg       0.88      0.76      0.81      2820\n",
            "weighted avg       0.98      0.98      0.98      2820\n",
            "\n"
          ]
        }
      ],
      "source": [
        "print(\"Random Forest Model\\n\" + classification_report(y_test, y_predictions))"
      ]
    },
    {
      "cell_type": "code",
      "execution_count": 55,
      "metadata": {
        "colab": {
          "base_uri": "https://localhost:8080/",
          "height": 0
        },
        "id": "OlpStXhtc_QA",
        "outputId": "0a5205eb-efb4-4a79-a693-1360bb851eaf"
      },
      "outputs": [
        {
          "output_type": "display_data",
          "data": {
            "text/plain": [
              "<Figure size 432x288 with 1 Axes>"
            ],
            "image/png": "[encoded data removed]"
          },
          "metadata": {
            "needs_background": "light"
          }
        }
      ],
      "source": [
        "from sklearn.model_selection import learning_curve\n",
        "\n",
        "train_sizes, train_scores, test_scores = learning_curve(model, X, y, cv=5)\n",
        "\n",
        "# plot the learning curve\n",
        "plt.plot(train_sizes, train_scores.mean(axis=1), label='Training score')\n",
        "plt.plot(train_sizes, test_scores .mean(axis=1), label='Testing score')\n",
        "plt.legend(loc='best')\n",
        "plt.show()"
      ]
    },
    {
      "cell_type": "markdown",
      "metadata": {
        "id": "8HhJBJK7c_QA"
      },
      "source": [
        "Confusion matrix of Random Forest model"
      ]
    },
    {
      "cell_type": "code",
      "execution_count": 56,
      "metadata": {
        "colab": {
          "base_uri": "https://localhost:8080/",
          "height": 0
        },
        "id": "wHteGblcc_QB",
        "outputId": "a9ddc2ec-1e64-4f26-9a76-157dce51dd20"
      },
      "outputs": [
        {
          "output_type": "stream",
          "name": "stderr",
          "text": [
            "/usr/local/lib/python3.8/dist-packages/sklearn/utils/deprecation.py:87: FutureWarning: Function plot_confusion_matrix is deprecated; Function `plot_confusion_matrix` is deprecated in 1.0 and will be removed in 1.2. Use one of the class methods: ConfusionMatrixDisplay.from_predictions or ConfusionMatrixDisplay.from_estimator.\n",
            "  warnings.warn(msg, category=FutureWarning)\n"
          ]
        },
        {
          "output_type": "display_data",
          "data": {
            "text/plain": [
              "<Figure size 432x288 with 2 Axes>"
            ],
            "image/png": "[encoded data removed]"
          },
          "metadata": {
            "needs_background": "light"
          }
        }
      ],
      "source": [
        "from sklearn.metrics import plot_confusion_matrix\n",
        "\n",
        "plot_confusion_matrix(model, X_test, y_test, cmap=plt.cm.YlGnBu)  \n",
        "plt.show()"
      ]
    },
    {
      "cell_type": "code",
      "source": [
        "# save the model\n",
        "pickle.dump(model, open('random_forest_model.pkl', 'wb'))"
      ],
      "metadata": {
        "id": "cOnn_xb8L_jW"
      },
      "execution_count": 57,
      "outputs": []
    },
    {
      "cell_type": "markdown",
      "metadata": {
        "id": "t_DmCDsLogK7"
      },
      "source": [
        "## **Gradient Boosting Model**"
      ]
    },
    {
      "cell_type": "markdown",
      "metadata": {
        "id": "-aEM4KVbogK-"
      },
      "source": [
        "Build the model"
      ]
    },
    {
      "cell_type": "code",
      "execution_count": 42,
      "metadata": {
        "id": "GXvWzgVCogK-"
      },
      "outputs": [],
      "source": [
        "from sklearn.ensemble import GradientBoostingClassifier\n",
        "\n",
        "start = time.time()\n",
        "model = GradientBoostingClassifier().fit(X_train, y_train)\n",
        "end_train = time.time()\n",
        "y_predictions = model.predict(X_test)\n",
        "end_predict = time.time()\n",
        "\n",
        "# evaluate the model\n",
        "log_scores(\"Gradient Boosting\", y_test, y_predictions)"
      ]
    },
    {
      "cell_type": "markdown",
      "metadata": {
        "id": "023apuBVogK_"
      },
      "source": [
        "Model evaluation for each Machine failure class:\n",
        "0. No failure\n",
        "1. Machine failure"
      ]
    },
    {
      "cell_type": "code",
      "execution_count": 43,
      "metadata": {
        "colab": {
          "base_uri": "https://localhost:8080/"
        },
        "id": "SyVlRisrogLA",
        "outputId": "01c9550c-d028-4bc5-879b-1e42fde352d6"
      },
      "outputs": [
        {
          "output_type": "stream",
          "name": "stdout",
          "text": [
            "Gradient Boosting\n",
            "              precision    recall  f1-score   support\n",
            "\n",
            "         0.0       0.99      0.94      0.97      2746\n",
            "         1.0       0.27      0.81      0.41        74\n",
            "\n",
            "    accuracy                           0.94      2820\n",
            "   macro avg       0.63      0.88      0.69      2820\n",
            "weighted avg       0.98      0.94      0.95      2820\n",
            "\n"
          ]
        }
      ],
      "source": [
        "print(\"Gradient Boosting\\n\" + classification_report(y_test, y_predictions))"
      ]
    },
    {
      "cell_type": "code",
      "execution_count": 44,
      "metadata": {
        "colab": {
          "base_uri": "https://localhost:8080/",
          "height": 0
        },
        "id": "VUgTGivKogLA",
        "outputId": "0bf767e2-0454-4528-98f8-01978eb3e4d3"
      },
      "outputs": [
        {
          "output_type": "display_data",
          "data": {
            "text/plain": [
              "<Figure size 432x288 with 1 Axes>"
            ],
            "image/png": "[encoded data removed]"
          },
          "metadata": {
            "needs_background": "light"
          }
        }
      ],
      "source": [
        "from sklearn.model_selection import learning_curve\n",
        "\n",
        "train_sizes, train_scores, test_scores = learning_curve(model, X, y, cv=5)\n",
        "\n",
        "# plot the learning curve\n",
        "plt.plot(train_sizes, train_scores.mean(axis=1), label='Training score')\n",
        "plt.plot(train_sizes, test_scores .mean(axis=1), label='Testing score')\n",
        "plt.legend(loc='best')\n",
        "plt.show()"
      ]
    },
    {
      "cell_type": "markdown",
      "metadata": {
        "id": "NxpaeZuaogLB"
      },
      "source": [
        "Confusion matrix of Gradient Boosting model"
      ]
    },
    {
      "cell_type": "code",
      "execution_count": 45,
      "metadata": {
        "colab": {
          "base_uri": "https://localhost:8080/",
          "height": 0
        },
        "id": "JNKyGAQ7ogLB",
        "outputId": "19cc4778-7e45-41bb-beaa-6a7697947696"
      },
      "outputs": [
        {
          "output_type": "stream",
          "name": "stderr",
          "text": [
            "/usr/local/lib/python3.8/dist-packages/sklearn/utils/deprecation.py:87: FutureWarning: Function plot_confusion_matrix is deprecated; Function `plot_confusion_matrix` is deprecated in 1.0 and will be removed in 1.2. Use one of the class methods: ConfusionMatrixDisplay.from_predictions or ConfusionMatrixDisplay.from_estimator.\n",
            "  warnings.warn(msg, category=FutureWarning)\n"
          ]
        },
        {
          "output_type": "display_data",
          "data": {
            "text/plain": [
              "<Figure size 432x288 with 2 Axes>"
            ],
            "image/png": "[encoded data removed]"
          },
          "metadata": {
            "needs_background": "light"
          }
        }
      ],
      "source": [
        "from sklearn.metrics import plot_confusion_matrix\n",
        "\n",
        "plot_confusion_matrix(model, X_test, y_test, cmap=plt.cm.YlGnBu)  \n",
        "plt.show()"
      ]
    },
    {
      "cell_type": "code",
      "source": [
        "# save the model\n",
        "pickle.dump(model, open('gradient_boosting_model.pkl', 'wb'))"
      ],
      "metadata": {
        "id": "Mm3otOoDMIQE"
      },
      "execution_count": 46,
      "outputs": []
    },
    {
      "cell_type": "markdown",
      "metadata": {
        "id": "c-AFi1wgEBH6"
      },
      "source": [
        "## **Gaussian Naive Bayes Model**"
      ]
    },
    {
      "cell_type": "markdown",
      "metadata": {
        "id": "NQ38G-L3EBH7"
      },
      "source": [
        "Build the model"
      ]
    },
    {
      "cell_type": "code",
      "execution_count": 47,
      "metadata": {
        "id": "UMHvs3WtEHlC"
      },
      "outputs": [],
      "source": [
        "from sklearn.naive_bayes import GaussianNB\n",
        "\n",
        "start = time.time()\n",
        "model = GaussianNB().fit(X_train, y_train)\n",
        "end_train = time.time()\n",
        "y_predictions = model.predict(X_test)\n",
        "end_predict = time.time()\n",
        "\n",
        "# evaluate the model\n",
        "log_scores(\"Gaussian Naive Bayes\", y_test, y_predictions)"
      ]
    },
    {
      "cell_type": "markdown",
      "metadata": {
        "id": "WDVN_nsiEBH7"
      },
      "source": [
        "Model evaluation for each Machine failure class:\n",
        "0. No failure\n",
        "1. Machine failure"
      ]
    },
    {
      "cell_type": "code",
      "execution_count": 48,
      "metadata": {
        "colab": {
          "base_uri": "https://localhost:8080/"
        },
        "id": "XHHPlXBEEBH7",
        "outputId": "a4b2eae9-b937-40eb-d1ef-df30f4cd493d"
      },
      "outputs": [
        {
          "output_type": "stream",
          "name": "stdout",
          "text": [
            "Gaussian Naive Bayes\n",
            "              precision    recall  f1-score   support\n",
            "\n",
            "         0.0       1.00      0.75      0.86      2746\n",
            "         1.0       0.09      0.92      0.17        74\n",
            "\n",
            "    accuracy                           0.76      2820\n",
            "   macro avg       0.54      0.84      0.51      2820\n",
            "weighted avg       0.97      0.76      0.84      2820\n",
            "\n"
          ]
        }
      ],
      "source": [
        "print(\"Gaussian Naive Bayes\\n\" + classification_report(y_test, y_predictions))"
      ]
    },
    {
      "cell_type": "code",
      "execution_count": 49,
      "metadata": {
        "colab": {
          "base_uri": "https://localhost:8080/",
          "height": 0
        },
        "id": "1EJwOzWBEBH7",
        "outputId": "5e423b36-94ea-4cce-be3a-0b33b5e3d251"
      },
      "outputs": [
        {
          "output_type": "display_data",
          "data": {
            "text/plain": [
              "<Figure size 432x288 with 1 Axes>"
            ],
            "image/png": "[encoded data removed]"
          },
          "metadata": {
            "needs_background": "light"
          }
        }
      ],
      "source": [
        "from sklearn.model_selection import learning_curve\n",
        "\n",
        "train_sizes, train_scores, test_scores = learning_curve(model, X, y, cv=5)\n",
        "\n",
        "# plot the learning curve\n",
        "plt.plot(train_sizes, train_scores.mean(axis=1), label='Training score')\n",
        "plt.plot(train_sizes, test_scores .mean(axis=1), label='Testing score')\n",
        "plt.legend(loc='best')\n",
        "plt.show()"
      ]
    },
    {
      "cell_type": "markdown",
      "metadata": {
        "id": "U4dk3M9wEBH7"
      },
      "source": [
        "Confusion matrix of Gaussian Naive Bayes model"
      ]
    },
    {
      "cell_type": "code",
      "execution_count": 50,
      "metadata": {
        "colab": {
          "base_uri": "https://localhost:8080/",
          "height": 0
        },
        "id": "vku12-IfEBH7",
        "outputId": "61b6ba11-3572-443a-85d6-ceeafc17084b"
      },
      "outputs": [
        {
          "output_type": "stream",
          "name": "stderr",
          "text": [
            "/usr/local/lib/python3.8/dist-packages/sklearn/utils/deprecation.py:87: FutureWarning: Function plot_confusion_matrix is deprecated; Function `plot_confusion_matrix` is deprecated in 1.0 and will be removed in 1.2. Use one of the class methods: ConfusionMatrixDisplay.from_predictions or ConfusionMatrixDisplay.from_estimator.\n",
            "  warnings.warn(msg, category=FutureWarning)\n"
          ]
        },
        {
          "output_type": "display_data",
          "data": {
            "text/plain": [
              "<Figure size 432x288 with 2 Axes>"
            ],
            "image/png": "[encoded data removed]"
          },
          "metadata": {
            "needs_background": "light"
          }
        }
      ],
      "source": [
        "from sklearn.metrics import plot_confusion_matrix\n",
        "\n",
        "plot_confusion_matrix(model, X_test, y_test, cmap=plt.cm.YlGnBu)  \n",
        "plt.show()"
      ]
    },
    {
      "cell_type": "code",
      "source": [
        "# save the model\n",
        "pickle.dump(model, open('gaussian_naive_bayes_model.pkl', 'wb'))"
      ],
      "metadata": {
        "id": "F2yqL2uqMdkb"
      },
      "execution_count": 51,
      "outputs": []
    },
    {
      "cell_type": "markdown",
      "metadata": {
        "id": "aEXgx0gB1xHi"
      },
      "source": [
        "# **Evaluation** 🎲"
      ]
    },
    {
      "cell_type": "code",
      "execution_count": 58,
      "metadata": {
        "colab": {
          "base_uri": "https://localhost:8080/",
          "height": 206
        },
        "id": "RXEBw6ZTCyYE",
        "outputId": "c4dd0a48-4318-498e-faf7-4d9123bc2753"
      },
      "outputs": [
        {
          "output_type": "execute_result",
          "data": {
            "text/plain": [
              "                      Accuracy  Precision    Recall  F1-Score  Training time  \\\n",
              "Decision Tree         0.940426   0.969464  0.940426  0.952517       0.035973   \n",
              "k-NN                  0.973759   0.970333  0.973759  0.971756       0.019095   \n",
              "Gradient Boosting     0.937589   0.975604  0.937589  0.952327       1.846579   \n",
              "Gaussian Naive Bayes  0.757801   0.973338  0.757801  0.840162       0.049285   \n",
              "Random Forest         0.983333   0.981517  0.983333  0.981835       1.021288   \n",
              "\n",
              "                      Prediction time  \n",
              "Decision Tree                0.001970  \n",
              "k-NN                         0.097630  \n",
              "Gradient Boosting            0.008281  \n",
              "Gaussian Naive Bayes         0.003402  \n",
              "Random Forest                0.060862  "
            ],
            "text/html": [
              "\n",
              "  <div id=\"df-4543533d-dbf0-40b1-975a-7929d59a126d\">\n",
              "    <div class=\"colab-df-container\">\n",
              "      <div>\n",
              "<style scoped>\n",
              "    .dataframe tbody tr th:only-of-type {\n",
              "        vertical-align: middle;\n",
              "    }\n",
              "\n",
              "    .dataframe tbody tr th {\n",
              "        vertical-align: top;\n",
              "    }\n",
              "\n",
              "    .dataframe thead th {\n",
              "        text-align: right;\n",
              "    }\n",
              "</style>\n",
              "<table border=\"1\" class=\"dataframe\">\n",
              "  <thead>\n",
              "    <tr style=\"text-align: right;\">\n",
              "      <th></th>\n",
              "      <th>Accuracy</th>\n",
              "      <th>Precision</th>\n",
              "      <th>Recall</th>\n",
              "      <th>F1-Score</th>\n",
              "      <th>Training time</th>\n",
              "      <th>Prediction time</th>\n",
              "    </tr>\n",
              "  </thead>\n",
              "  <tbody>\n",
              "    <tr>\n",
              "      <th>Decision Tree</th>\n",
              "      <td>0.940426</td>\n",
              "      <td>0.969464</td>\n",
              "      <td>0.940426</td>\n",
              "      <td>0.952517</td>\n",
              "      <td>0.035973</td>\n",
              "      <td>0.001970</td>\n",
              "    </tr>\n",
              "    <tr>\n",
              "      <th>k-NN</th>\n",
              "      <td>0.973759</td>\n",
              "      <td>0.970333</td>\n",
              "      <td>0.973759</td>\n",
              "      <td>0.971756</td>\n",
              "      <td>0.019095</td>\n",
              "      <td>0.097630</td>\n",
              "    </tr>\n",
              "    <tr>\n",
              "      <th>Gradient Boosting</th>\n",
              "      <td>0.937589</td>\n",
              "      <td>0.975604</td>\n",
              "      <td>0.937589</td>\n",
              "      <td>0.952327</td>\n",
              "      <td>1.846579</td>\n",
              "      <td>0.008281</td>\n",
              "    </tr>\n",
              "    <tr>\n",
              "      <th>Gaussian Naive Bayes</th>\n",
              "      <td>0.757801</td>\n",
              "      <td>0.973338</td>\n",
              "      <td>0.757801</td>\n",
              "      <td>0.840162</td>\n",
              "      <td>0.049285</td>\n",
              "      <td>0.003402</td>\n",
              "    </tr>\n",
              "    <tr>\n",
              "      <th>Random Forest</th>\n",
              "      <td>0.983333</td>\n",
              "      <td>0.981517</td>\n",
              "      <td>0.983333</td>\n",
              "      <td>0.981835</td>\n",
              "      <td>1.021288</td>\n",
              "      <td>0.060862</td>\n",
              "    </tr>\n",
              "  </tbody>\n",
              "</table>\n",
              "</div>\n",
              "      <button class=\"colab-df-convert\" onclick=\"convertToInteractive('df-4543533d-dbf0-40b1-975a-7929d59a126d')\"\n",
              "              title=\"Convert this dataframe to an interactive table.\"\n",
              "              style=\"display:none;\">\n",
              "        \n",
              "  <svg xmlns=\"http://www.w3.org/2000/svg\" height=\"24px\"viewBox=\"0 0 24 24\"\n",
              "       width=\"24px\">\n",
              "    <path d=\"M0 0h24v24H0V0z\" fill=\"none\"/>\n",
              "    <path d=\"M18.56 5.44l.94 2.06.94-2.06 2.06-.94-2.06-.94-.94-2.06-.94 2.06-2.06.94zm-11 1L8.5 8.5l.94-2.06 2.06-.94-2.06-.94L8.5 2.5l-.94 2.06-2.06.94zm10 10l.94 2.06.94-2.06 2.06-.94-2.06-.94-.94-2.06-.94 2.06-2.06.94z\"/><path d=\"M17.41 7.96l-1.37-1.37c-.4-.4-.92-.59-1.43-.59-.52 0-1.04.2-1.43.59L10.3 9.45l-7.72 7.72c-.78.78-.78 2.05 0 2.83L4 21.41c.39.39.9.59 1.41.59.51 0 1.02-.2 1.41-.59l7.78-7.78 2.81-2.81c.8-.78.8-2.07 0-2.86zM5.41 20L4 18.59l7.72-7.72 1.47 1.35L5.41 20z\"/>\n",
              "  </svg>\n",
              "      </button>\n",
              "      \n",
              "  <style>\n",
              "    .colab-df-container {\n",
              "      display:flex;\n",
              "      flex-wrap:wrap;\n",
              "      gap: 12px;\n",
              "    }\n",
              "\n",
              "    .colab-df-convert {\n",
              "      background-color: #E8F0FE;\n",
              "      border: none;\n",
              "      border-radius: 50%;\n",
              "      cursor: pointer;\n",
              "      display: none;\n",
              "      fill: #1967D2;\n",
              "      height: 32px;\n",
              "      padding: 0 0 0 0;\n",
              "      width: 32px;\n",
              "    }\n",
              "\n",
              "    .colab-df-convert:hover {\n",
              "      background-color: #E2EBFA;\n",
              "      box-shadow: 0px 1px 2px rgba(60, 64, 67, 0.3), 0px 1px 3px 1px rgba(60, 64, 67, 0.15);\n",
              "      fill: #174EA6;\n",
              "    }\n",
              "\n",
              "    [theme=dark] .colab-df-convert {\n",
              "      background-color: #3B4455;\n",
              "      fill: #D2E3FC;\n",
              "    }\n",
              "\n",
              "    [theme=dark] .colab-df-convert:hover {\n",
              "      background-color: #434B5C;\n",
              "      box-shadow: 0px 1px 3px 1px rgba(0, 0, 0, 0.15);\n",
              "      filter: drop-shadow(0px 1px 2px rgba(0, 0, 0, 0.3));\n",
              "      fill: #FFFFFF;\n",
              "    }\n",
              "  </style>\n",
              "\n",
              "      <script>\n",
              "        const buttonEl =\n",
              "          document.querySelector('#df-4543533d-dbf0-40b1-975a-7929d59a126d button.colab-df-convert');\n",
              "        buttonEl.style.display =\n",
              "          google.colab.kernel.accessAllowed ? 'block' : 'none';\n",
              "\n",
              "        async function convertToInteractive(key) {\n",
              "          const element = document.querySelector('#df-4543533d-dbf0-40b1-975a-7929d59a126d');\n",
              "          const dataTable =\n",
              "            await google.colab.kernel.invokeFunction('convertToInteractive',\n",
              "                                                     [key], {});\n",
              "          if (!dataTable) return;\n",
              "\n",
              "          const docLinkHtml = 'Like what you see? Visit the ' +\n",
              "            '<a target=\"_blank\" href=https://colab.research.google.com/notebooks/data_table.ipynb>data table notebook</a>'\n",
              "            + ' to learn more about interactive tables.';\n",
              "          element.innerHTML = '';\n",
              "          dataTable['output_type'] = 'display_data';\n",
              "          await google.colab.output.renderOutput(dataTable, element);\n",
              "          const docLink = document.createElement('div');\n",
              "          docLink.innerHTML = docLinkHtml;\n",
              "          element.appendChild(docLink);\n",
              "        }\n",
              "      </script>\n",
              "    </div>\n",
              "  </div>\n",
              "  "
            ]
          },
          "metadata": {},
          "execution_count": 58
        }
      ],
      "source": [
        "model_performance"
      ]
    }
  ],
  "metadata": {
    "colab": {
      "collapsed_sections": [
        "EeVD-rEAgmW1",
        "OoF88QuPqPCO",
        "Dyyv7njuqgv8",
        "rm0pn_q2DrLb",
        "aQ5G8wd0NTBK",
        "JGZ8sMrVZ614",
        "4AoVjBkSasvf",
        "PriYkty1aUqw",
        "G5W-YYtHo8lc",
        "KNu4_iyFPfue",
        "SCXyw7swPyzF",
        "vD0fY4tRzTGd",
        "W6Nljxy6HMmc",
        "FFiPHBsDwbPj",
        "xdEevcVJocxR",
        "v1hdpPU3c_P7",
        "t_DmCDsLogK7",
        "c-AFi1wgEBH6",
        "aEXgx0gB1xHi",
        "HR_HeXzP2PBU"
      ],
      "provenance": [],
      "authorship_tag": "ABX9TyPWuodeqmE98orQF2dDgm6j",
      "include_colab_link": true
    },
    "gpuClass": "standard",
    "kernelspec": {
      "display_name": "Python 3",
      "name": "python3"
    },
    "language_info": {
      "name": "python"
    }
  },
  "nbformat": 4,
  "nbformat_minor": 0
}